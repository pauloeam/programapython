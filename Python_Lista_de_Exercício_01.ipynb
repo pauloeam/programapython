{
  "nbformat": 4,
  "nbformat_minor": 0,
  "metadata": {
    "colab": {
      "name": "Python - Lista de Exercício 01.ipynb",
      "provenance": []
    },
    "kernelspec": {
      "name": "python3",
      "display_name": "Python 3"
    }
  },
  "cells": [
    {
      "cell_type": "markdown",
      "metadata": {
        "id": "fmEKzBtMWs3Z",
        "colab_type": "text"
      },
      "source": [
        "1. Escreva um programa que imprima o seguinte padrão.\n",
        "\n",
        "![image.png](data:image/png;base64,iVBORw0KGgoAAAANSUhEUgAAAIoAAADJCAYAAAD8S6qmAAAGn0lEQVR4Ae2bsYpdZRSFbzGvYDHgE1jYWNkNBIKVXYo0QdIICVhbCEMQEfUZUlhoYWenIliY4IAPkAcYxsbCgUkjw/AHJg5z7sWQMyd37X3X3l8gzDncc/6111pf7qTZq8EfEpiRwGrGMzxCAgNQgGBWAoAyKyYeAhQYmJUAoMyKiYcABQZmJQAos2LiIUCBgVkJAMqsmHgIUGBgVgKAMismHpKDcvHswbi9em8c/Pw3aRsnACjG5UWOLgDlfJz+9OF499G34/MnJ+P88hvlznjw7HSc/P71+O6z98etX/h2iSx5G1oCUJ6PkycfjXv7q7Fa/c/f/Xvj7tO/xvk2pueMsAQEoExmv/h1PL619xKY24/HbxeTz7i0SkAIyvk4O7o7DlZ3xsc/fjXu730w7hz9YxUOw14nIAPl4vhw3N/bG299eTROx/H484u3x2r/4Tg8/vdanSubBESgPB8nTw/HpwffjB/O/vt9c/b9ePTOw/HJHyf8/8QGj+tBRaBcC3BVIwFAqdGj3AWgyCOuIQAoNXqUuwAUecQ1BAClRo9yF4Aij7iGAKDU6FHuAlDkEdcQAJQaPcpdAIo84hoCgFKjR7kLQJFHXEMAUGr0KHcBKPKIawgASo0e5S4ARR5xDQFAqdGj3AWgyCOuISAHJWOlNEOzBg6vdgEor86GTyYJCEDJWCnN0Jyk2OBSAErGSmmGZgM6JhYFoExOz1gpzdCcWK56KQQlY6U0Q7MqGuu+ZKBkrJRmaK7HWfdOBErGSmmGZl0wNp2JQNmU4d49AUBxbzBofkAJCtpdBlDcGwyaH1CCgnaXART3BoPmB5SgoN1lAMW9waD5ASUoaHcZQHFvMGh+QAkK2l0GUNwbDJofUIKCdpcBFPcGg+YHlKCg3WUAxb3BoPkBJShodxlAcW8waH5ACQraXUYOSsZ6ZxfNSPgAZUtpZ8C5pdFnHSMAJWO9s4vmrE4lDwlAyVjv7KIpYWDWoQJQJroZ651dNCcxR1wKQclY7+yiGYHGuoYMlIz1zi6a6xXG3IlAyVjv7KIZA8amigiUTRnu3RMAFPcGg+YHlKCg3WUAxb3BoPkBJShodxlAcW8waH5ACQraXQZQ3BsMmh9QgoJ2lwEU9waD5geUoKDdZQDFvcGg+QElKGh3GUBxbzBofkAJCtpdBlDcGwyaH1CCgnaXART3BoPmB5SgoN1lAMW9waD55aBkrFqiuX16AGVLmVaHUwBKlz3gLj5f/ksSgNJlD7iLTxkok+/yLnvADXwKvlGuQOmyB9zDpwyULnvAXXyKQOmyB9zF5xgiUK5+/fCzSgKAUqVJsQ9AEQdc5XhAqdKk2AegiAOucjygVGlS7ANQxAFXOR5QqjQp9gEo4oCrHA8oVZoU+wAUccBVjgeUKk2KfQCKOOAqxwNKlSbFPgBFHHCV4wGlSpNiH4AiDrjK8YBSpUmxD0ARB1zleDko1TforkDI8HmlHfETULaUMqDcOMguq5YZPm9cxtZeEHyjdFm1zPC5td5vfJAAlMkMDVYtL91m+JzEHHEpBKXHquUYGT4j0FjXkIHSZdUyw+d6hTF3IlC6rFpm+IwBY1NFBMqmDPfuCQCKe4NB8wNKUNDuMoDi3mDQ/IASFLS7DKC4Nxg0P6AEBe0uAyjuDQbNDyhBQbvLAIp7g0HzA0pQ0O4ygOLeYND8gBIUtLsMoLg3GDQ/oAQF7S4DKO4NBs0PKEFBu8sAinuDQfMDSlDQ7jJyUDI26DI03UF43fyA8rqE+PwyAQEoGauWGZq9CBKAkrFqmaEJKNtLIGPVMkNze4nt7EmCb5QrrxmrlhmaV35r/5SBkrFqmaFZG49rdyJQMlYtMzSvg6x+JQKlemz9/AFKv84XOQaURbH1ewlQ+nW+yDGgLIqt30uA0q/zRY4BZVFs/V4ClH6dL3IMKIti6/cSoPTrfJFjQFkUW7+XAKVf54scA8qi2Pq9BCj9Ol/kGFAWxdbvJUDp1/kix4CyKLZ+LwFKv84XOQaURbH1ewlQ+nW+yLEcFPaAF/Wycy8Bys5VspsDCUBhD3g3q36zqQSgsAf8ZpXs5tsCUCZG2QOehOF9KQSFPWBvNNanl4HCHvB60O53IlDYA3YHY3N+ESibMty7JwAo7g0GzQ8oQUG7ywCKe4NB8wNKUNDuMoDi3mDQ/IASFLS7DKC4Nxg0P6AEBe0uAyjuDQbNDyhBQbvLAIp7g0HzA0pQ0O4ygOLeYND8gBIUtLsMoLg3GDQ/oAQF7S7zAg2CPV4e4Nq/AAAAAElFTkSuQmCC)\n",
        "\n"
      ]
    },
    {
      "cell_type": "code",
      "metadata": {
        "id": "wn1GKwuMU9JH",
        "colab_type": "code",
        "colab": {
          "base_uri": "https://localhost:8080/",
          "height": 134
        },
        "outputId": "a34117ca-badd-4ab1-b3a7-a835af39dfce"
      },
      "source": [
        "for i in range(1,8,1):\n",
        "  print(\"* \" * (4 - abs(i-4)))\n",
        "  "
      ],
      "execution_count": null,
      "outputs": [
        {
          "output_type": "stream",
          "text": [
            "* \n",
            "* * \n",
            "* * * \n",
            "* * * * \n",
            "* * * \n",
            "* * \n",
            "* \n"
          ],
          "name": "stdout"
        }
      ]
    },
    {
      "cell_type": "markdown",
      "metadata": {
        "id": "pEAjfuNOU9eA",
        "colab_type": "text"
      },
      "source": [
        "2. Altere o programa acima para que o usuário possa entrar com o número máximo de estrelas.\n"
      ]
    },
    {
      "cell_type": "code",
      "metadata": {
        "id": "h9D8mOmQXb1c",
        "colab_type": "code",
        "colab": {
          "base_uri": "https://localhost:8080/",
          "height": 302
        },
        "outputId": "1db1aa1f-4b91-480e-805a-e07e59337d45"
      },
      "source": [
        "estrela_max = int(input('Digite o número máximo de estrelas: '))\n",
        "print(\"\")\n",
        "\n",
        "#Definir Quantas Linhas\n",
        "estoque = estrela_max - 1\n",
        "linhas = 1\n",
        "estr_nec = 3\n",
        "\n",
        "#Encontrando oa quantidade de linhas\n",
        "while estoque >= estr_nec:\n",
        "  linhas += 2\n",
        "  estoque -= estr_nec\n",
        "  estr_nec += 2\n",
        "\n",
        "linhas += 1\n",
        "a = int((linhas)/2)\n",
        "\n",
        "for i in range(1,linhas,1):\n",
        "  b = int(abs(i-(linhas)/2))\n",
        "  print(\"* \" * (a - b))\n",
        "\n",
        "print(\"\")\n",
        "print(\"Sobaram \", estoque, \" estrelas\")"
      ],
      "execution_count": null,
      "outputs": [
        {
          "output_type": "stream",
          "text": [
            "Digite o número máximo de estrelas: 50\n",
            "\n",
            "* \n",
            "* * \n",
            "* * * \n",
            "* * * * \n",
            "* * * * * \n",
            "* * * * * * \n",
            "* * * * * * * \n",
            "* * * * * * \n",
            "* * * * * \n",
            "* * * * \n",
            "* * * \n",
            "* * \n",
            "* \n",
            "\n",
            "Sobaram  1  estrelas\n"
          ],
          "name": "stdout"
        }
      ]
    },
    {
      "cell_type": "markdown",
      "metadata": {
        "id": "mNCFkvjFXcHL",
        "colab_type": "text"
      },
      "source": [
        "3. Escreva um programa que corre os números de 23 a 83 e imprime. Mas, quando for múltiplo\n",
        "de três, imprima ‘Pum’, quando for múltiplo de 5 imprima ‘Bla’, quando for de ambos\n",
        "imprima ‘PumBla’.\n"
      ]
    },
    {
      "cell_type": "code",
      "metadata": {
        "id": "GijTBDHhXY8c",
        "colab_type": "code",
        "colab": {
          "base_uri": "https://localhost:8080/",
          "height": 1000
        },
        "outputId": "73dc6229-5fa1-4a7a-a66b-0e2090b51c92"
      },
      "source": [
        "for i in range(23,84,1):\n",
        "  if i % 3 == 0 and i % 5 == 0:\n",
        "    print (i, \"PumBla\")\n",
        "  elif i % 3 == 0:\n",
        "    print (i, \"Pum\")\n",
        "  elif i % 5 == 0:\n",
        "    print (i, \"Bla\")\n",
        "  else: \n",
        "    print(i) "
      ],
      "execution_count": null,
      "outputs": [
        {
          "output_type": "stream",
          "text": [
            "23\n",
            "24 Pum\n",
            "25 Bla\n",
            "26\n",
            "27 Pum\n",
            "28\n",
            "29\n",
            "30 PumBla\n",
            "31\n",
            "32\n",
            "33 Pum\n",
            "34\n",
            "35 Bla\n",
            "36 Pum\n",
            "37\n",
            "38\n",
            "39 Pum\n",
            "40 Bla\n",
            "41\n",
            "42 Pum\n",
            "43\n",
            "44\n",
            "45 PumBla\n",
            "46\n",
            "47\n",
            "48 Pum\n",
            "49\n",
            "50 Bla\n",
            "51 Pum\n",
            "52\n",
            "53\n",
            "54 Pum\n",
            "55 Bla\n",
            "56\n",
            "57 Pum\n",
            "58\n",
            "59\n",
            "60 PumBla\n",
            "61\n",
            "62\n",
            "63 Pum\n",
            "64\n",
            "65 Bla\n",
            "66 Pum\n",
            "67\n",
            "68\n",
            "69 Pum\n",
            "70 Bla\n",
            "71\n",
            "72 Pum\n",
            "73\n",
            "74\n",
            "75 PumBla\n",
            "76\n",
            "77\n",
            "78 Pum\n",
            "79\n",
            "80 Bla\n",
            "81 Pum\n",
            "82\n",
            "83\n"
          ],
          "name": "stdout"
        }
      ]
    },
    {
      "cell_type": "markdown",
      "metadata": {
        "id": "fRS7eeZdXefd",
        "colab_type": "text"
      },
      "source": [
        "4. Escreva um programa que ache e imprima os números divisíveis por 13 e por 19, entre o ano\n",
        "de nascimento da sua mãe e 2727.\n"
      ]
    },
    {
      "cell_type": "code",
      "metadata": {
        "id": "3Z2TBe-YYK-3",
        "colab_type": "code",
        "colab": {
          "base_uri": "https://localhost:8080/",
          "height": 171
        },
        "outputId": "c11d56bf-73c4-4de2-b164-4443f03e45b6"
      },
      "source": [
        "ano_mae = int(input('Digite o ano e nascimento de sua mãe: '))\n",
        "print (\"\")\n",
        "\n",
        "div_13 = []\n",
        "div_19 = []\n",
        "\n",
        "for i in range(ano_mae,2727,1):\n",
        "  if i % 13 == 0:\n",
        "    div_13.append(i)\n",
        "  if i % 19 == 0:\n",
        "    div_19.append(i)\n",
        "\n",
        "print (\"Entre o nascimento de sua mãe (\",ano_mae,\") e 2727:\")\n",
        "print (\"os anos abaixo são divisíveis por 13\")\n",
        "print (div_13)\n",
        "print (\"\")\n",
        "print (\"os anos abaixo são divisíveis por 19\")\n",
        "print (div_19)"
      ],
      "execution_count": null,
      "outputs": [
        {
          "output_type": "stream",
          "text": [
            "Digite o ano e nascimento de sua mãe: 1958\n",
            "\n",
            "Entre o nascimento de sua mãe ( 1958 ) e 2727:\n",
            "os anos abaixo são divisíveis por 13\n",
            "[1963, 1976, 1989, 2002, 2015, 2028, 2041, 2054, 2067, 2080, 2093, 2106, 2119, 2132, 2145, 2158, 2171, 2184, 2197, 2210, 2223, 2236, 2249, 2262, 2275, 2288, 2301, 2314, 2327, 2340, 2353, 2366, 2379, 2392, 2405, 2418, 2431, 2444, 2457, 2470, 2483, 2496, 2509, 2522, 2535, 2548, 2561, 2574, 2587, 2600, 2613, 2626, 2639, 2652, 2665, 2678, 2691, 2704, 2717]\n",
            "\n",
            "os anos abaixo são divisíveis por 19\n",
            "[1976, 1995, 2014, 2033, 2052, 2071, 2090, 2109, 2128, 2147, 2166, 2185, 2204, 2223, 2242, 2261, 2280, 2299, 2318, 2337, 2356, 2375, 2394, 2413, 2432, 2451, 2470, 2489, 2508, 2527, 2546, 2565, 2584, 2603, 2622, 2641, 2660, 2679, 2698, 2717]\n"
          ],
          "name": "stdout"
        }
      ]
    },
    {
      "cell_type": "markdown",
      "metadata": {
        "id": "4kArxGMuXhoK",
        "colab_type": "text"
      },
      "source": [
        "5. Escreva um programa que recebe uma letra e identifica se ela é consoante.\n"
      ]
    },
    {
      "cell_type": "code",
      "metadata": {
        "id": "c8v8oT_Vbtt6",
        "colab_type": "code",
        "colab": {
          "base_uri": "https://localhost:8080/",
          "height": 50
        },
        "outputId": "9db36dec-ebc0-4e42-e519-bb8b78847cfd"
      },
      "source": [
        "letra = input('Digite uma letra: ')\n",
        "\n",
        "vogal = [\"a\",\"e\",\"i\",\"o\",\"u\"]\n",
        "\n",
        "if letra in vogal:\n",
        "  print(\"A letra digitada é uma vogal!\")\n",
        "else:\n",
        "  print(\"A letra digitada é uma consoante!\")"
      ],
      "execution_count": null,
      "outputs": [
        {
          "output_type": "stream",
          "text": [
            "Digite uma letra: b\n",
            "A letra digitada é uma consoante!\n"
          ],
          "name": "stdout"
        }
      ]
    },
    {
      "cell_type": "markdown",
      "metadata": {
        "id": "tUDv_EoiXj2S",
        "colab_type": "text"
      },
      "source": [
        "6. Escreva um programa que conte o número de letras de uma string e retorne e imprima o\n",
        "valor multiplicado por 10.\n"
      ]
    },
    {
      "cell_type": "code",
      "metadata": {
        "id": "AZyIbfKJdRpJ",
        "colab_type": "code",
        "colab": {
          "base_uri": "https://localhost:8080/",
          "height": 67
        },
        "outputId": "b7f1bf20-fa90-4c4d-f1e8-fbcd6ef562e4"
      },
      "source": [
        "frase = input('Digite uma frase: ')\n",
        "tamanho = len(frase) \n",
        "\n",
        "print(\" O número de letras da frase é:\", tamanho)\n",
        "print(\" O número de letras da frase multiplicado por 10 é:\", tamanho * 10)"
      ],
      "execution_count": null,
      "outputs": [
        {
          "output_type": "stream",
          "text": [
            "Digite uma frase: Eu gosto de comer pizza!\n",
            " O número de letras da frase é: 24\n",
            " O número de letras da frase multiplicado por 10 é: 240\n"
          ],
          "name": "stdout"
        }
      ]
    },
    {
      "cell_type": "markdown",
      "metadata": {
        "id": "qVhGKiaPXmHc",
        "colab_type": "text"
      },
      "source": [
        "7. Escreva um programa que, dada uma lista de números [-2, 34, 5, 10, 5, 4, 32] qualquer, retorne: o primeiro valor, o número de valores, o último valor, a soma, a média e a mediana.\n",
        "*Obs. Para listas com tamanho ímpar, a mediana é o valor do meio, quando ordenada (sorted()). Para listas pares, retorne os dois valores do meio.\n"
      ]
    },
    {
      "cell_type": "code",
      "metadata": {
        "id": "I4kdNY2adzQS",
        "colab_type": "code",
        "colab": {
          "base_uri": "https://localhost:8080/",
          "height": 118
        },
        "outputId": "2c857957-37a1-4eab-e863-06ba9763bd85"
      },
      "source": [
        "lista = [-2, 34, 5, 10, 5, 4, 32] \n",
        "lista_s = sorted(lista)\n",
        "\n",
        "print (\"O primeiro número da lista é:\", lista[0])\n",
        "print (\"O número de elementos na lista é:\", len(lista))\n",
        "print (\"O último valor da lista é:\", lista[len(lista)-1])\n",
        "print (\"A soma dos valores da lista é:\", sum(lista))\n",
        "print (\"A média da lista é: %2.2f\" % (sum(lista)/len(lista)))\n",
        "\n",
        "#calculo da Mediana\n",
        "if len(lista_s) % 2 != 0: \n",
        "  num_med = int((len(lista_s)+1)/2)\n",
        "  mediana = lista_s[num_med]\n",
        "else:\n",
        "  num_med = int((len(lista))/2)\n",
        "  mediana = (lista[num_med]+lista[num_med+1])/2\n",
        "  \n",
        "print (\"A mediana da lista é:\", mediana)\n",
        "\n"
      ],
      "execution_count": null,
      "outputs": [
        {
          "output_type": "stream",
          "text": [
            "O primeiro número da lista é: -2\n",
            "O número de elementos na lista é: 7\n",
            "O último valor da lista é: 32\n",
            "A soma dos valores da lista é: 88\n",
            "A média da lista é: 12.57\n",
            "A mediana da lista é: 10\n"
          ],
          "name": "stdout"
        }
      ]
    },
    {
      "cell_type": "markdown",
      "metadata": {
        "id": "Re4yJw1MXoVh",
        "colab_type": "text"
      },
      "source": [
        "8. Dicionários. Dado o dicionário: d = {‘a’: 0}: faça programas que:\n",
        "1 acrescente um par (chave, valor) {‘b’: 1}, ao dicionário;\n",
        "2 verifique se a key ‘c’ está presente?\n",
        "3 Concatene um dicionário a um outro dicionário: e = {z : 23}. Use o método\n",
        "‘update’!\n"
      ]
    },
    {
      "cell_type": "code",
      "metadata": {
        "id": "ViggIo19n8uJ",
        "colab_type": "code",
        "colab": {
          "base_uri": "https://localhost:8080/",
          "height": 84
        },
        "outputId": "550fa22d-5562-4b48-c811-69d09f9dd216"
      },
      "source": [
        "#fazendo o dicionário \n",
        "d = {'a':0}\n",
        "print(\"8. Esse é o dicionário d:\", d)\n",
        "\n",
        "#Acrescentando a informação pedida\n",
        "d[\"b\"] = 1\n",
        "print(\"8.1. Acrescentando a informação [b:1]:\", d)\n",
        "\n",
        "#Verificando se \"c\" existe\n",
        "print(\"8.2. Consultando se a chave c está no dicionário?\", 'c' in d)\n",
        "\n",
        "# Definindo o dicionario e: e concatenando\n",
        "e = {'z':23}\n",
        "d.update(e)\n",
        "print (\"8.3. Acrescentando o dicionário e ao dicionário d:\",d)\n"
      ],
      "execution_count": null,
      "outputs": [
        {
          "output_type": "stream",
          "text": [
            "Esse é o dicionário d: {'a': 0}\n",
            "1.Acrescentando a informação [b:1]: {'a': 0, 'b': 1}\n",
            "2.Consultando se a chave c está no dicionário? False\n",
            "3.Acrescentando o dicionário e ao dicionário d: {'a': 0, 'b': 1, 'z': 23}\n"
          ],
          "name": "stdout"
        }
      ]
    },
    {
      "cell_type": "markdown",
      "metadata": {
        "id": "RFeAnjWWXp-m",
        "colab_type": "text"
      },
      "source": [
        "9. Escreva uma função que faz um loop sobre as keys de um dicionário. Se as keys forem\n",
        "vogais, eleve o valor ao quadrado. Caso contrário, set o valor para 0. Use if k in ‘aeiou’.\n"
      ]
    },
    {
      "cell_type": "code",
      "metadata": {
        "id": "Td7l4EKjiCeC",
        "colab_type": "code",
        "colab": {
          "base_uri": "https://localhost:8080/",
          "height": 34
        },
        "outputId": "5faabdd9-97c2-4039-aa0b-2006d6067d09"
      },
      "source": [
        "def funcao_quest_9 (dicionario):\n",
        "  for each in dicionario:\n",
        "    if each in 'aeiou':\n",
        "      dicionario[each] = dicionario[each] ** 2\n",
        "    else:\n",
        "      dicionario[each] = 0\n",
        "\n",
        "  print (dicionario)\n",
        "#------------------------------------------------------------------------------------------------------#\n",
        "dic_quest9 = {'a': 15, 'b': 1, 'x': 4, 'y': 3, 'u': 15, 'e': 20, 'f': 12, 'b': 51,'g': 7, 'z': 23}\n",
        "funcao_quest_9 (dic_quest9)\n"
      ],
      "execution_count": null,
      "outputs": [
        {
          "output_type": "stream",
          "text": [
            "{'a': 225, 'b': 0, 'x': 0, 'y': 0, 'u': 225, 'e': 400, 'f': 0, 'g': 0, 'z': 0}\n"
          ],
          "name": "stdout"
        }
      ]
    },
    {
      "cell_type": "markdown",
      "metadata": {
        "id": "HF25GrIpXr5h",
        "colab_type": "text"
      },
      "source": [
        "10. Escreva uma função que retorna os máximos e mínimos de um dicionário.\n"
      ]
    },
    {
      "cell_type": "code",
      "metadata": {
        "id": "MtzvbpW1icQ9",
        "colab_type": "code",
        "colab": {
          "base_uri": "https://localhost:8080/",
          "height": 50
        },
        "outputId": "5181d9a6-7abe-4ad7-daf8-421c6039475e"
      },
      "source": [
        "def funcao_quest_10 (dicionario):\n",
        "  maximo = 0\n",
        "  minimo = 0\n",
        "\n",
        "  for each in dicionario:\n",
        "    if dicionario[each] > maximo:\n",
        "      maximo = dicionario[each]\n",
        "    elif dicionario[each] > minimo: \n",
        "      minimo = dicionario[each]\n",
        "\n",
        "  print (\"O valor mínimo da função seria:\", minimo)\n",
        "  print (\"O valor máximo da função seria:\", maximo)\n",
        "#------------------------------------------------------------------------------------------------------#\n",
        "\n",
        "dic_quest10 = {'a': 15, 'b': 1, 'x': 4, 'y': 3, 'u': 15, 'e': 20, 'f': 12, 'b': 51,'g': 7, 'z': 23}\n",
        "funcao_quest_10 (dic_quest10)"
      ],
      "execution_count": null,
      "outputs": [
        {
          "output_type": "stream",
          "text": [
            "O valor mínimo da função seria: 23\n",
            "O valor máximo da função seria: 51\n"
          ],
          "name": "stdout"
        }
      ]
    },
    {
      "cell_type": "markdown",
      "metadata": {
        "id": "T3iIAXD4Xu4O",
        "colab_type": "text"
      },
      "source": [
        "11. Escreva uma função que recebe uma lista e organiza os valores em keys e conta a frequência de cada uma. Por exemplo: a lista [0, 0, 1, 1, 1, 2, 5], resultaria em: {1: 3, 0: 2, 2: 1, 5: 1}. \n",
        "OBS: Esse dicionário da questão não está ordenado, por isso deu diferente.\n",
        "\n",
        " "
      ]
    },
    {
      "cell_type": "code",
      "metadata": {
        "id": "rr-eL6noie0e",
        "colab_type": "code",
        "colab": {
          "base_uri": "https://localhost:8080/",
          "height": 34
        },
        "outputId": "0dbb28f0-2080-46eb-c0cb-fdd763fcf2d7"
      },
      "source": [
        "def funcao_quest_11 (lista):\n",
        "  lista.sort\n",
        "  dicionario = dict()\n",
        "  for each in lista:\n",
        "    dicionario[each] = dicionario.get(each, 0) + 1\n",
        "  print (dicionario)\n",
        "#------------------------------------------------------------------------------------------------------#\n",
        "\n",
        "lista_11 =  [0, 0, 1, 1, 1, 2, 5]\n",
        "funcao_quest_11 (lista_11)"
      ],
      "execution_count": null,
      "outputs": [
        {
          "output_type": "stream",
          "text": [
            "{0: 2, 1: 3, 2: 1, 5: 1}\n"
          ],
          "name": "stdout"
        }
      ]
    },
    {
      "cell_type": "markdown",
      "metadata": {
        "id": "GbGeOiS9iHI1",
        "colab_type": "text"
      },
      "source": [
        "12. Escreva uma função que liste todos os números primos até 258 (mais o dia do seu aniversário). Utilize a divisão modular (%).\n",
        "\n"
      ]
    },
    {
      "cell_type": "code",
      "metadata": {
        "id": "GeBIGndiifeO",
        "colab_type": "code",
        "colab": {
          "base_uri": "https://localhost:8080/",
          "height": 87
        },
        "outputId": "f1bfe259-a544-472b-bfa6-8b9c532fd321"
      },
      "source": [
        "def funcao_quest_12 (dia):\n",
        "  primos = [2]\n",
        "  contador = 0 \n",
        "  numero_final = 258 + dia\n",
        "  for i in range (2, numero_final):\n",
        "    for each in primos:\n",
        "      if i % each == 0:\n",
        "        contador = 1\n",
        "    if contador != 1:\n",
        "      primos.append(i)\n",
        "\n",
        "    contador = 0 \n",
        "\n",
        "  primos.append(1)\n",
        "  primos.append(dia)\n",
        "  primos.sort()\n",
        "\n",
        "  print (\"Os números primos entre até 258 +\", dia, \"(\", numero_final, \") e o dia do seu aniversário estão na lista abaixo:\")\n",
        "  print (primos)\n",
        "#------------------------------------------------------------------------------------------------------#\n",
        "dia = int(input('Digite o dia do seu aniversário: '))\n",
        "funcao_quest_12 (dia)"
      ],
      "execution_count": null,
      "outputs": [
        {
          "output_type": "stream",
          "text": [
            "Digite o dia do seu aniversário: 30\n",
            "Os números primos entre até 258 + 30 ( 288 ) e o dia do seu aniversário estão na lista abaixo:\n",
            "[1, 2, 3, 5, 7, 11, 13, 17, 19, 23, 29, 30, 31, 37, 41, 43, 47, 53, 59, 61, 67, 71, 73, 79, 83, 89, 97, 101, 103, 107, 109, 113, 127, 131, 137, 139, 149, 151, 157, 163, 167, 173, 179, 181, 191, 193, 197, 199, 211, 223, 227, 229, 233, 239, 241, 251, 257, 263, 269, 271, 277, 281, 283]\n"
          ],
          "name": "stdout"
        }
      ]
    },
    {
      "cell_type": "markdown",
      "metadata": {
        "id": "dF5hyN7riJh5",
        "colab_type": "text"
      },
      "source": [
        "13. Escreva um programa que substitua ‘,’ por ‘.’ e ‘.’ por ‘,’ em uma string. Exemplo: 1,000.54\n",
        "por 1.000,54.\n"
      ]
    },
    {
      "cell_type": "code",
      "metadata": {
        "id": "J8_ZV2nOigWG",
        "colab_type": "code",
        "colab": {
          "base_uri": "https://localhost:8080/",
          "height": 34
        },
        "outputId": "3312116e-cf5e-4291-da3e-edf189b07626"
      },
      "source": [
        "a = \"1,000.54\"\n",
        "a.replace(\",\", \"*\").replace (\".\", \",\").replace (\"*\", \".\")"
      ],
      "execution_count": null,
      "outputs": [
        {
          "output_type": "execute_result",
          "data": {
            "text/plain": [
              "'1.000,54'"
            ]
          },
          "metadata": {
            "tags": []
          },
          "execution_count": 54
        }
      ]
    },
    {
      "cell_type": "markdown",
      "metadata": {
        "id": "Epesb0ONiLaV",
        "colab_type": "text"
      },
      "source": [
        "14. Escreva um programa que verifica se todas as letras do alfabeto constam no mínimo uma vez do parágrafo fornecido pelo usuário."
      ]
    },
    {
      "cell_type": "code",
      "metadata": {
        "id": "ExO7gKy7ihPh",
        "colab_type": "code",
        "colab": {
          "base_uri": "https://localhost:8080/",
          "height": 134
        },
        "outputId": "c260dc02-77d8-48ed-80e4-f465d8438d6d"
      },
      "source": [
        "def funcao_quest_14 (texto):\n",
        "  alfabeto = [\"a\", \"b\", \"c\", \"d\", \"e\", \"f\", \"g\", \"h\", \"i\", \"j\", \"k\", \"l\", \"m\", \"n\", \"o\", \"p\", \"q\", \"r\", \"s\", \"t\", \"u\", \"v\", \"w\", \"x\", \"y\", \"z\"]\n",
        "  ncontem = []\n",
        "  contem = []\n",
        "  for each in alfabeto:\n",
        "    if each in texto:\n",
        "      contem.append (each)\n",
        "    else:\n",
        "      ncontem.append (each)\n",
        "    \n",
        "  print (\"\")\n",
        "  print (\"As letras abaixo estao presentes no texto digitado\")\n",
        "  print (contem)\n",
        "  print (\"\")\n",
        "  print (\"As letras abaixo não estão presentes no texto digitado\")\n",
        "  print (ncontem)\n",
        "\n",
        "#------------------------------------------------------------------------------------------------------#\n",
        "texto = input('Digite um texto: ')\n",
        "funcao_quest_14 (texto)\n",
        "\n"
      ],
      "execution_count": null,
      "outputs": [
        {
          "output_type": "stream",
          "text": [
            "Digite um texto: Escreva um programa que verifica se todas as letras do alfabeto constam no mínimo uma vez do parágrafo fornecido pelo usuário.\n",
            "\n",
            "As letras abaixo estao presentes no texto digitado\n",
            "['a', 'b', 'c', 'd', 'e', 'f', 'g', 'i', 'l', 'm', 'n', 'o', 'p', 'q', 'r', 's', 't', 'u', 'v', 'z']\n",
            "\n",
            "As letras abaixo não estão presentes no texto digitado\n",
            "['h', 'j', 'k', 'w', 'x', 'y']\n"
          ],
          "name": "stdout"
        }
      ]
    }
  ]
}
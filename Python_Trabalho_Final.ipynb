{
  "nbformat": 4,
  "nbformat_minor": 0,
  "metadata": {
    "colab": {
      "name": "Python_Lista_de_Exercício_04.ipynb",
      "provenance": [],
      "toc_visible": true,
      "authorship_tag": "ABX9TyPEqOg3g01hgD9uZ8CtjXOs"
    },
    "kernelspec": {
      "name": "python3",
      "display_name": "Python 3"
    }
  },
  "cells": [
    {
      "cell_type": "markdown",
      "metadata": {
        "id": "XX9dvJGWFwgu",
        "colab_type": "text"
      },
      "source": [
        "# **Python para Modelagem Baseada em Agentes**\n",
        "**Trabalho Final**\n",
        "\n",
        "**Professor:** Bernardo Furtado\n",
        "\n",
        "**Aluno:** Paulo Estevão Alvarenga Martins"
      ]
    },
    {
      "cell_type": "markdown",
      "metadata": {
        "id": "OhBTwCJicaqt",
        "colab_type": "text"
      },
      "source": [
        "#**Introdução:**\n",
        "Uma empresa quando fecha um contrato com uma outra empresa espera que esse contrato seja cumprido pela outra parte, um funcionário ao vender suas horas de trabalho também gostaria de que suas horas sejam devidamente pagas pela empresa que o contratou e, inclusive, faz dívidas já provisionando o salário que irá chegar. O problema acontece quando ocorre uma crise que penalisa a receita de empresas que não conseguirão honrar suas dívidas e não conseguirão pagar seus funcionários provocando a inadimplência em cadeia.\n",
        "\n",
        "Esse modelos baseado em agentes irá simular uma crise em um sistema de relacionamento composto por empresas e funcionários. "
      ]
    },
    {
      "cell_type": "markdown",
      "metadata": {
        "id": "3FLtsn31RKSL",
        "colab_type": "text"
      },
      "source": [
        "#**Pacotes Utilizados**\n"
      ]
    },
    {
      "cell_type": "code",
      "metadata": {
        "id": "wQUWpd9XRUWD",
        "colab_type": "code",
        "colab": {}
      },
      "source": [
        "import random\n",
        "import pandas as pd\n",
        "import numpy as np"
      ],
      "execution_count": 1,
      "outputs": []
    },
    {
      "cell_type": "markdown",
      "metadata": {
        "id": "-CdbyvbDDCMt",
        "colab_type": "text"
      },
      "source": [
        "# **Definindo a Classe Conta**\n",
        "O primeiro passo para nossa interação é a definição da conta corrente. Essa conta representará o dinheiro que a empresa tem em caixa e o dinheiro que cada um dos funcionários também possui. Dentro da classe *conta* existe a variável *saldo* que seria a variável que armazena o saldo em conta do agente. Para se acrescentar ou retirar valor do saldo, utiliza-se a função *Saldo*."
      ]
    },
    {
      "cell_type": "code",
      "metadata": {
        "id": "eKs_aSdFDGz5",
        "colab_type": "code",
        "colab": {}
      },
      "source": [
        "class Conta:\n",
        "  \n",
        "    def __init__(self):\n",
        "        self.saldo = 0.00\n",
        "\n",
        "    def Saldo(self, quantia):\n",
        "        self.saldo += quantia\n"
      ],
      "execution_count": 2,
      "outputs": []
    },
    {
      "cell_type": "markdown",
      "metadata": {
        "id": "-vPjmwZ5DQTv",
        "colab_type": "text"
      },
      "source": [
        "# **Definindo a Classe Empresa**\n",
        "A segunda classe a ser criada será a classe Empresa. Cada empresa possui:\n",
        "*   Uma Conta, relacionada a primeira classe, e Cujo saldo representa o seu caixa.\n",
        "*   Sua demanda, representando a quantidade de produtos que são produzidos\n",
        "*   Funcionários e Vagas, representando a quantidade de funcionários empregados e a quantidade de vadas existentes.\n",
        "*   Salário, representando o salário que é pago aos funcionários de sua empresa."
      ]
    },
    {
      "cell_type": "code",
      "metadata": {
        "id": "3o2Gh6DBDWXN",
        "colab_type": "code",
        "colab": {}
      },
      "source": [
        "class Empresa:\n",
        "\n",
        "    def __init__(self):\n",
        "        self.conta = Conta()\n",
        "        self.demanda = 0\n",
        "        self.funcionarios = 0\n",
        "        self.vagas = 0\n",
        "        self.salario = 0\n",
        "\n",
        "    def Funcionarios (self, quantia):\n",
        "        self.funcionarios += quantia     \n",
        "    \n",
        "    def Vagas (self, quantia):\n",
        "        self.vagas += quantia  \n",
        "\n",
        "    def Demanda (self, quantia):\n",
        "        self.demanda = quantia\n"
      ],
      "execution_count": 3,
      "outputs": []
    },
    {
      "cell_type": "markdown",
      "metadata": {
        "id": "6dOoTw5wDVtr",
        "colab_type": "text"
      },
      "source": [
        "# **Definindo a Classe Pessoas Físicas**\n",
        "A terceira e última classe a ser criada é a classe das pessoas físicas, que seriam os funcionários das empresas. Cada funcionáio possui:\n",
        "*   Uma Conta, relacionada a primeira classe, Cujo saldo representa a reserva da pessoa.\n",
        "*   Perfil, indicado 1 para pessoas poupadoras e 2 para pessoas mais gastadoras. \n",
        "*   Salário, representando o salário que aquele funcionário recebe quando empregado."
      ]
    },
    {
      "cell_type": "code",
      "metadata": {
        "id": "o0B6qMtwCVBj",
        "colab_type": "code",
        "colab": {}
      },
      "source": [
        "class PF:\n",
        "\n",
        "  def __init__(self):\n",
        "    self.conta = Conta()\n",
        "    self.perfil = 0\n",
        "    self.salario = 0\n",
        "    #1 - Controlado, 2 - Gastador\n",
        "     "
      ],
      "execution_count": 4,
      "outputs": []
    },
    {
      "cell_type": "markdown",
      "metadata": {
        "id": "8h9yqSiLWbdz",
        "colab_type": "text"
      },
      "source": [
        "# **Testes realizados em cada uma das Classes**\n",
        "\n"
      ]
    },
    {
      "cell_type": "markdown",
      "metadata": {
        "id": "pYPOaMFUXRvX",
        "colab_type": "text"
      },
      "source": [
        "1) Testes na Classe Conta"
      ]
    },
    {
      "cell_type": "code",
      "metadata": {
        "id": "6XDumFj7IIl7",
        "colab_type": "code",
        "colab": {
          "base_uri": "https://localhost:8080/",
          "height": 0
        },
        "outputId": "5ac3ca42-71b6-4688-b776-9fc621374889"
      },
      "source": [
        "#testando a classe conta criada\n",
        "Conta_01 = Conta()\n",
        "print(Conta_01.saldo)\n",
        "Conta_01.Saldo(2.22)\n",
        "print(Conta_01.saldo)"
      ],
      "execution_count": 5,
      "outputs": [
        {
          "output_type": "stream",
          "text": [
            "0.0\n",
            "2.22\n"
          ],
          "name": "stdout"
        }
      ]
    },
    {
      "cell_type": "markdown",
      "metadata": {
        "id": "LnLYOANcXIMA",
        "colab_type": "text"
      },
      "source": [
        "2) Teste na classe Empresa"
      ]
    },
    {
      "cell_type": "code",
      "metadata": {
        "id": "huGgOH3vcK5c",
        "colab_type": "code",
        "colab": {
          "base_uri": "https://localhost:8080/",
          "height": 0
        },
        "outputId": "72e3bb5f-d821-4b24-d047-d3a6d78b0651"
      },
      "source": [
        "#testando a classe conta criada\n",
        "demanda = 30\n",
        "empresa_01 = Empresa()\n",
        "print(empresa_01.funcionarios)\n",
        "print(empresa_01.demanda)\n",
        "empresa_01.Funcionarios(-1)\n",
        "print(empresa_01.funcionarios)"
      ],
      "execution_count": 6,
      "outputs": [
        {
          "output_type": "stream",
          "text": [
            "0\n",
            "0\n",
            "-1\n"
          ],
          "name": "stdout"
        }
      ]
    },
    {
      "cell_type": "markdown",
      "metadata": {
        "id": "8Iq0U1_cW_rB",
        "colab_type": "text"
      },
      "source": [
        "3)Testes na Classe Pessoa Física"
      ]
    },
    {
      "cell_type": "code",
      "metadata": {
        "id": "SVvqdHxEG-FQ",
        "colab_type": "code",
        "colab": {
          "base_uri": "https://localhost:8080/",
          "height": 0
        },
        "outputId": "81f9a9e9-8073-4acd-d039-a2e0af4ec837"
      },
      "source": [
        "#testando a classe conta criada\n",
        "Cliente_01 = PF()\n",
        "print(Cliente_01.conta.saldo)\n",
        "Cliente_01.conta.Saldo(10)\n",
        "print(Cliente_01.conta.saldo)"
      ],
      "execution_count": 7,
      "outputs": [
        {
          "output_type": "stream",
          "text": [
            "0.0\n",
            "10.0\n"
          ],
          "name": "stdout"
        }
      ]
    },
    {
      "cell_type": "markdown",
      "metadata": {
        "id": "Hyx65W_omhr3",
        "colab_type": "text"
      },
      "source": [
        "# **Criando Interação**\n",
        "O nosso primeiro objetivo seria criar uma situação de equilíbrio que possibilite que as empresas, em média, tenham lucro e que os funcionários, em média também tenham uma acumulação de patrimônio. \n",
        "\n",
        "Com esse objetivo, empresas são criadas e possuem uma variável para atribuição de todos as suas seus campos. Desse modo, empresas com mais funcionários terão maiores salários e produzirão mais.\n",
        "\n",
        "As pessoas físicas foram mais aleatórias. Para criação das pessoas físicas atribui-se um valor de saldo em conta corrente superior a mil e inferior a 2000 e um perfil aleatório.\n",
        "\n",
        "O terceiro passo seria criar a primeira interação, quando pessoas buscam empregos em uma empresa aleatória e oculpam vagas dessas empresas. Caso a empresa procurada não tem vaga, essa pessoa fica sem emprego até encontrar uma outra empresa em uma outra interação.\n",
        "\n",
        "Por último seria a interação propriamente dita, a empresa recebe o dinheiro de sua venda de mercadoria, cujo valor da mercadoria pode suprir de 95% até 120% das despesas da empresa. Após isso, a empresa paga os seus funcionários, caso a empresa não tenha dinheiro em caixa, ela não paga ninguem. Nessa interação, os funcionários recebem os seus respectivos salários e, caso ainda não tenha emprego, ele tem a chance de procurar emprego em uma empresa aleatória. Se for selecionada uma empresa com vaga, receberá salário na próxima interação."
      ]
    },
    {
      "cell_type": "code",
      "metadata": {
        "id": "yHWhtBQbQywH",
        "colab_type": "code",
        "colab": {}
      },
      "source": [
        "empresa = list()\n",
        "pf = list()"
      ],
      "execution_count": 8,
      "outputs": []
    },
    {
      "cell_type": "code",
      "metadata": {
        "id": "2KBWIVbzHVpV",
        "colab_type": "code",
        "colab": {}
      },
      "source": [
        "def criar_empresa (empresa_max):\n",
        "    for i in range(empresa_max):\n",
        "        empresa.append (Empresa()) \n",
        "    for i in empresa:\n",
        "        quantia = random.randint(10, 50)\n",
        "        i.conta.Saldo((quantia - 10) * 100)\n",
        "        i.Demanda(quantia * quantia)\n",
        "        i.Vagas(quantia)\n",
        "        i.salario = quantia * 100\n",
        "    \n",
        "def criar_pf(pf_max):\n",
        "    for i in range(pf_max):\n",
        "        pf.append(PF())\n",
        "    for i in pf:\n",
        "        i.conta.Saldo(random.randint(1000, 2000))\n",
        "        i.perfil = random.randint(1, 2)\n",
        "\n",
        "def Primeira_Interacao():\n",
        "    #Procura de Emprego\n",
        "    for p in pf:\n",
        "        # Escolhe uma empresa aleatoria\n",
        "        e = random.choice(empresa)\n",
        "        # Verificar a capacidade\n",
        "        if e.vagas > 0:\n",
        "           e.Vagas(-1)\n",
        "           e.Funcionarios(+1)\n",
        "           p.salario = e.salario\n",
        "    \n",
        "\n",
        "def Interacao(i):\n",
        "    for e in empresa:\n",
        "        e.conta.Saldo(e.demanda * random.randint(90, 120) - e.funcionarios * e.salario)\n",
        "        \n",
        "    for p in pf:\n",
        "        # Escolhe uma empresa aleatoria\n",
        "        e = random.choice(empresa)\n",
        "        # Verificar a capacidade\n",
        "        if p.salario == 0 and e.vagas > 0:\n",
        "          e.Vagas(-1)\n",
        "          e.Funcionarios(+1)\n",
        "          p.salario = e.salario\n",
        "          p.conta.Saldo(-500)\n",
        "        else:\n",
        "          if p.perfil == 1 and e.conta.saldo > 0:\n",
        "            sal = p.salario * 0.20\n",
        "            p.conta.Saldo(sal)\n",
        "          elif e.conta.saldo > -5000:\n",
        "            sal = p.salario * 0.10\n",
        "            p.conta.Saldo(sal)\n",
        "          elif p.conta.saldo > -5000:\n",
        "            p.conta.Saldo(-500)"
      ],
      "execution_count": 9,
      "outputs": []
    },
    {
      "cell_type": "markdown",
      "metadata": {
        "id": "3dbntu4-fqX8",
        "colab_type": "text"
      },
      "source": [
        "# **Normalidade (*Base Line*)**\n",
        "Como as empresas possuem 30 vagas em média, a quantidade de pessoas físicas será 30 vezes a quantidade de empresas. No caso, serão simuladas 30.000 pessoas físicas e 1.000 empresas. \n",
        "\n",
        "Após a definião e criação das empresas simulamos 40 interações e foram coletadas em cada uma das interações:\n",
        "\n",
        "**Informação colegada da Pessoa Física**\n",
        "*   Saldo em Conta\n",
        "*   Salário\n",
        "*   Indicador de Quebrado (Caso o Saldo for inferior a -300)\n",
        "\n",
        "**Informação da Empresa**\n",
        "*   Saldo em Conta\n",
        "*   Salário da Empresa\n",
        "*   Funcionários\n",
        "*   Vagas\n",
        "*   Indicador de Quebrado (Caso o Saldo for inferior a -5.000)\n",
        "\n",
        "Após análise, essas as informações das pessoas físicas e empresas são colocadas nos arquivos df_pf_norm.csv e df_emp_norm.csv. [texto do link](https://)"
      ]
    },
    {
      "cell_type": "code",
      "metadata": {
        "id": "VywwmVjR7rdC",
        "colab_type": "code",
        "colab": {}
      },
      "source": [
        "criar_empresa (1100)\n",
        "criar_pf (30000)\n",
        "Primeira_Interacao()"
      ],
      "execution_count": 10,
      "outputs": []
    },
    {
      "cell_type": "code",
      "metadata": {
        "id": "7FBsUf1y1YSS",
        "colab_type": "code",
        "colab": {
          "base_uri": "https://localhost:8080/",
          "height": 370
        },
        "outputId": "5d2f6094-af67-4e69-e402-58ff7eb0e48e"
      },
      "source": [
        "#Testando Novamente\n",
        "print(empresa[1].conta.saldo)\n",
        "print(empresa[1].funcionarios)\n",
        "print(empresa[1].vagas)\n",
        "print(empresa[2].conta.saldo)\n",
        "print(empresa[2].funcionarios)\n",
        "print(empresa[2].vagas)\n",
        "print(empresa[3].conta.saldo)\n",
        "print(empresa[3].funcionarios)\n",
        "print(empresa[3].vagas)\n",
        "\n",
        "print(pf[3].conta.saldo)\n",
        "print(pf[3].perfil)\n",
        "\n",
        "print(empresa[0].vagas)\n",
        "print(empresa[1].vagas)\n",
        "print(empresa[2].vagas)\n",
        "print(empresa[3].vagas)\n",
        "print(empresa[4].vagas)\n",
        "print(empresa[5].vagas)\n",
        "print(empresa[6].vagas)\n",
        "print(empresa[7].vagas)\n",
        "print(empresa[8].vagas)\n",
        "print(empresa[9].vagas)"
      ],
      "execution_count": 11,
      "outputs": [
        {
          "output_type": "stream",
          "text": [
            "3500.0\n",
            "29\n",
            "16\n",
            "300.0\n",
            "13\n",
            "0\n",
            "4000.0\n",
            "9\n",
            "41\n",
            "1944.0\n",
            "2\n",
            "1\n",
            "16\n",
            "0\n",
            "41\n",
            "0\n",
            "16\n",
            "16\n",
            "17\n",
            "17\n",
            "19\n"
          ],
          "name": "stdout"
        }
      ]
    },
    {
      "cell_type": "markdown",
      "metadata": {
        "id": "0LSmRP2joowZ",
        "colab_type": "text"
      },
      "source": [
        "**Captura de informação e executando a Interação**"
      ]
    },
    {
      "cell_type": "code",
      "metadata": {
        "id": "a-zu8DaKdaz3",
        "colab_type": "code",
        "colab": {
          "base_uri": "https://localhost:8080/",
          "height": 1000
        },
        "outputId": "0afd878f-b315-4509-e887-c829c68ab230"
      },
      "source": [
        "def simulacao (a):\n",
        "    for i in range (a):\n",
        "        inicial_pf_saldo = []\n",
        "        inicial_pf_salario = []\n",
        "        inicial_pf_quebrado = []\n",
        "        inicial_empresa_saldo = []\n",
        "        inicial_empresa_salario = []\n",
        "        inicial_empresa_funcionarios = []\n",
        "        inicial_empresa_vagas = []\n",
        "        inicial_empresa_quebrada = []\n",
        "        id_pf = []\n",
        "        id_emp = []\n",
        "\n",
        "        data_pf = []\n",
        "        data_emp = []\n",
        "\n",
        "        for p in pf:\n",
        "          id_pf.append(i)\n",
        "          inicial_pf_saldo.append(p.conta.saldo)\n",
        "          inicial_pf_salario.append(p.salario)\n",
        "          if p.conta.saldo < -500:\n",
        "            inicial_pf_quebrado.append(1)\n",
        "          else:\n",
        "            inicial_pf_quebrado.append(0)\n",
        "\n",
        "        for e in empresa:\n",
        "          id_emp.append(i)\n",
        "          inicial_empresa_saldo.append(e.conta.saldo)\n",
        "          inicial_empresa_salario.append(e.salario)\n",
        "          inicial_empresa_funcionarios.append(e.funcionarios)\n",
        "          inicial_empresa_vagas.append(e.vagas)\n",
        "          if e.conta.saldo < -5000:\n",
        "            inicial_empresa_quebrada.append(1)\n",
        "          else:\n",
        "            inicial_empresa_quebrada.append(0)\n",
        "\n",
        "        data_pf = { 'Interacao':id_pf,\n",
        "                    'PF_Saldo':inicial_pf_saldo, \n",
        "                    'PF_Salario':inicial_pf_salario,\n",
        "                    'PF_Quebrado':inicial_pf_quebrado}\n",
        "\n",
        "        data_emp = {'Interacao':id_emp,\n",
        "                    'EMP_Saldo':inicial_empresa_saldo, \n",
        "                    'EMP_Salario':inicial_empresa_salario, \n",
        "                    'EMP_Funcionarios':inicial_empresa_funcionarios, \n",
        "                    'EMP_Vagas':inicial_empresa_vagas,\n",
        "                    'EMP_Quebrada':inicial_empresa_quebrada}\n",
        "\n",
        "        if i == 0:\n",
        "          df_pf = pd.DataFrame(data_pf)\n",
        "          df_emp = pd.DataFrame(data_emp)\n",
        "        else:\n",
        "          df_pf_temp = pd.DataFrame(data_pf)\n",
        "          df_pf = df_pf.append(df_pf_temp)\n",
        "          df_emp_temp = pd.DataFrame(data_emp)\n",
        "          df_emp = df_emp.append(df_emp_temp)\n",
        "\n",
        "        Interacao(i)  \n",
        "\n",
        "    print(df_emp.groupby('Interacao')['EMP_Saldo'].mean())\n",
        "    print(df_emp.groupby('Interacao')['EMP_Quebrada'].sum())\n",
        "\n",
        "    print(df_pf.groupby('Interacao')['PF_Saldo'].mean())\n",
        "    print(df_pf.groupby('Interacao')['PF_Quebrado'].sum())\n",
        "\n",
        "    df_pf_norm = df_pf\n",
        "    df_emp_norm = df_emp\n",
        "            \n",
        "    # Exportando para CSV\n",
        "    df_pf.to_csv(\"df_pf_norm.csv\")\n",
        "    df_emp.to_csv(\"df_emp_norm.csv\")\n",
        "\n",
        "simulacao (40)"
      ],
      "execution_count": 12,
      "outputs": [
        {
          "output_type": "stream",
          "text": [
            "Interacao\n",
            "0       2048.909091\n",
            "1      39153.261818\n",
            "2      67347.569091\n",
            "3      91741.763636\n",
            "4     114272.662727\n",
            "5     135697.034545\n",
            "6     157072.261818\n",
            "7     177846.021818\n",
            "8     197644.690909\n",
            "9     217638.678182\n",
            "10    237346.210909\n",
            "11    257129.387273\n",
            "12    276951.691818\n",
            "13    296888.879091\n",
            "14    316935.623636\n",
            "15    336673.539091\n",
            "16    356034.105455\n",
            "17    375220.219091\n",
            "18    395509.260000\n",
            "19    415404.871818\n",
            "20    435159.889091\n",
            "21    454330.459091\n",
            "22    474235.175455\n",
            "23    493563.871818\n",
            "24    513761.567273\n",
            "25    533316.918182\n",
            "26    552832.945455\n",
            "27    573120.330000\n",
            "28    592595.677273\n",
            "29    612249.195455\n",
            "30    631618.335455\n",
            "31    651067.230000\n",
            "32    670522.887273\n",
            "33    690029.432727\n",
            "34    710352.488182\n",
            "35    729795.804545\n",
            "36    749233.668182\n",
            "37    769195.100909\n",
            "38    789031.429091\n",
            "39    808658.274545\n",
            "Name: EMP_Saldo, dtype: float64\n",
            "Interacao\n",
            "0      0\n",
            "1      2\n",
            "2     14\n",
            "3     15\n",
            "4     10\n",
            "5      8\n",
            "6      8\n",
            "7      7\n",
            "8      4\n",
            "9      1\n",
            "10     2\n",
            "11     3\n",
            "12     3\n",
            "13     1\n",
            "14     1\n",
            "15     0\n",
            "16     0\n",
            "17     1\n",
            "18     1\n",
            "19     0\n",
            "20     0\n",
            "21     0\n",
            "22     0\n",
            "23     0\n",
            "24     0\n",
            "25     0\n",
            "26     0\n",
            "27     0\n",
            "28     0\n",
            "29     0\n",
            "30     0\n",
            "31     0\n",
            "32     0\n",
            "33     0\n",
            "34     0\n",
            "35     0\n",
            "36     0\n",
            "37     0\n",
            "38     0\n",
            "39     0\n",
            "Name: EMP_Quebrada, dtype: int64\n",
            "Interacao\n",
            "0      1502.589367\n",
            "1      1864.618367\n",
            "2      2291.658033\n",
            "3      2750.537700\n",
            "4      3226.833367\n",
            "5      3713.152033\n",
            "6      4207.763367\n",
            "7      4706.239367\n",
            "8      5209.728367\n",
            "9      5716.841033\n",
            "10     6224.328700\n",
            "11     6732.696033\n",
            "12     7240.982033\n",
            "13     7751.799700\n",
            "14     8262.875033\n",
            "15     8775.036367\n",
            "16     9287.600700\n",
            "17     9798.901700\n",
            "18    10310.397367\n",
            "19    10823.101033\n",
            "20    11335.733700\n",
            "21    11848.351033\n",
            "22    12360.989700\n",
            "23    12873.552367\n",
            "24    13386.150033\n",
            "25    13898.586367\n",
            "26    14411.344367\n",
            "27    14924.076700\n",
            "28    15436.686700\n",
            "29    15949.444700\n",
            "30    16462.212367\n",
            "31    16975.146700\n",
            "32    17488.081033\n",
            "33    18001.015367\n",
            "34    18513.949700\n",
            "35    19026.884033\n",
            "36    19539.818367\n",
            "37    20052.752700\n",
            "38    20565.687033\n",
            "39    21078.621367\n",
            "Name: PF_Saldo, dtype: float64\n",
            "Interacao\n",
            "0     0\n",
            "1     0\n",
            "2     0\n",
            "3     0\n",
            "4     0\n",
            "5     0\n",
            "6     0\n",
            "7     0\n",
            "8     0\n",
            "9     0\n",
            "10    0\n",
            "11    0\n",
            "12    0\n",
            "13    0\n",
            "14    0\n",
            "15    0\n",
            "16    0\n",
            "17    0\n",
            "18    0\n",
            "19    0\n",
            "20    0\n",
            "21    0\n",
            "22    0\n",
            "23    0\n",
            "24    0\n",
            "25    0\n",
            "26    0\n",
            "27    0\n",
            "28    0\n",
            "29    0\n",
            "30    0\n",
            "31    0\n",
            "32    0\n",
            "33    0\n",
            "34    0\n",
            "35    0\n",
            "36    0\n",
            "37    0\n",
            "38    0\n",
            "39    0\n",
            "Name: PF_Quebrado, dtype: int64\n"
          ],
          "name": "stdout"
        }
      ]
    },
    {
      "cell_type": "markdown",
      "metadata": {
        "id": "p7o_JaJLXgpT",
        "colab_type": "text"
      },
      "source": [
        "# **Crise no Preço do Produto**\n",
        "Após diversas tentantivas para se obter um equilíbrio compatível com a realidade, resolvemos simular uma crise no preço de venda dos produtos quando estivermos nas interações 10, 11 e 12. \n",
        "\n",
        "Para isso, o mesmo código será rodado, mas, agora, empresas receberão de 60% até 80% de suas despesas durante o período de crise. Esse fenomeno tende a fazer com que empresas quebrem e, consequentemente, funcionários não recebam seus salários e, também, quebrem ocasionando um colapso na economia analisada. \n",
        "\n",
        "Após a definião e criação das empresas simulamos 40 interações e foram coletadas em cada uma das interações:\n",
        "\n",
        "**Informação colegada da Pessoa Física**\n",
        "*   Saldo em Conta\n",
        "*   Salário\n",
        "*   Indicador de Quebrado (Caso o Saldo for inferior a -300)\n",
        "\n",
        "**Informação da Empresa**\n",
        "*   Saldo em Conta\n",
        "*   Salário da Empresa\n",
        "*   Funcionários\n",
        "*   Vagas\n",
        "*   Indicador de Quebrado (Caso o Saldo for inferior a -5.000)\n",
        "\n",
        "Após análise, essas as informações das pessoas físicas e empresas são colocadas nos arquivos df_pf_crise.csv e df_emp_crise.csv."
      ]
    },
    {
      "cell_type": "code",
      "metadata": {
        "id": "9qATUanInsMM",
        "colab_type": "code",
        "colab": {}
      },
      "source": [
        "def Interacao(j):\n",
        "    for e in empresa:\n",
        "      if j < 10:\n",
        "        e.conta.Saldo(e.demanda * random.randint(90, 120) - e.funcionarios * e.salario)\n",
        "      elif j < 13:\n",
        "        e.conta.Saldo(e.demanda * random.randint(60, 80) - e.funcionarios * e.salario)\n",
        "      else:\n",
        "        e.conta.Saldo(e.demanda * random.randint(100, 120) - e.funcionarios * e.salario)\n",
        "        \n",
        "    for p in pf:\n",
        "        # Escolhe uma empresa aleatoria\n",
        "        e = random.choice(empresa)\n",
        "        # Verificar a capacidade\n",
        "        if p.salario == 0 and e.vagas > 0:\n",
        "          e.Vagas(-1)\n",
        "          e.Funcionarios(+1)\n",
        "          p.salario = e.salario\n",
        "          p.conta.Saldo(-500)\n",
        "        else:\n",
        "          if p.perfil == 1 and e.conta.saldo > 0:\n",
        "            sal = p.salario * 0.20\n",
        "            p.conta.Saldo(sal)\n",
        "          elif e.conta.saldo > -5000:\n",
        "            sal = p.salario * 0.10\n",
        "            p.conta.Saldo(sal)\n",
        "          elif p.conta.saldo > -5000:\n",
        "            p.conta.Saldo(-500)"
      ],
      "execution_count": 13,
      "outputs": []
    },
    {
      "cell_type": "code",
      "metadata": {
        "id": "XI3iiAY3iBPD",
        "colab_type": "code",
        "colab": {
          "base_uri": "https://localhost:8080/",
          "height": 1000
        },
        "outputId": "76ab445b-0aea-4b4c-da0f-2bfb68660e88"
      },
      "source": [
        "def simulacao (a):\n",
        "    for i in range (a):\n",
        "        inicial_pf_saldo = []\n",
        "        inicial_pf_salario = []\n",
        "        inicial_pf_quebrado = []\n",
        "        inicial_empresa_saldo = []\n",
        "        inicial_empresa_salario = []\n",
        "        inicial_empresa_funcionarios = []\n",
        "        inicial_empresa_vagas = []\n",
        "        inicial_empresa_quebrada = []\n",
        "        id_pf = []\n",
        "        id_emp = []\n",
        "\n",
        "        data_pf = []\n",
        "        data_emp = []\n",
        "\n",
        "        for p in pf:\n",
        "          id_pf.append(i)\n",
        "          inicial_pf_saldo.append(p.conta.saldo)\n",
        "          inicial_pf_salario.append(p.salario)\n",
        "          if p.conta.saldo < -500:\n",
        "            inicial_pf_quebrado.append(1)\n",
        "          else:\n",
        "            inicial_pf_quebrado.append(0)\n",
        "\n",
        "        for e in empresa:\n",
        "          id_emp.append(i)\n",
        "          inicial_empresa_saldo.append(e.conta.saldo)\n",
        "          inicial_empresa_salario.append(e.salario)\n",
        "          inicial_empresa_funcionarios.append(e.funcionarios)\n",
        "          inicial_empresa_vagas.append(e.vagas)\n",
        "          if e.conta.saldo < -5000:\n",
        "            inicial_empresa_quebrada.append(1)\n",
        "          else:\n",
        "            inicial_empresa_quebrada.append(0)\n",
        "\n",
        "        data_pf = { 'Interacao':id_pf,\n",
        "                    'PF_Saldo':inicial_pf_saldo, \n",
        "                    'PF_Salario':inicial_pf_salario,\n",
        "                    'PF_Quebrado':inicial_pf_quebrado}\n",
        "\n",
        "        data_emp = {'Interacao':id_emp,\n",
        "                    'EMP_Saldo':inicial_empresa_saldo, \n",
        "                    'EMP_Salario':inicial_empresa_salario, \n",
        "                    'EMP_Funcionarios':inicial_empresa_funcionarios, \n",
        "                    'EMP_Vagas':inicial_empresa_vagas,\n",
        "                    'EMP_Quebrada':inicial_empresa_quebrada}\n",
        "\n",
        "        if i == 0:\n",
        "          df_pf = pd.DataFrame(data_pf)\n",
        "          df_emp = pd.DataFrame(data_emp)\n",
        "        else:\n",
        "          df_pf_temp = pd.DataFrame(data_pf)\n",
        "          df_pf = df_pf.append(df_pf_temp)\n",
        "          df_emp_temp = pd.DataFrame(data_emp)\n",
        "          df_emp = df_emp.append(df_emp_temp)\n",
        "\n",
        "        Interacao(i)  \n",
        "\n",
        "    print(df_emp.groupby('Interacao')['EMP_Saldo'].mean())\n",
        "    print(df_emp.groupby('Interacao')['EMP_Quebrada'].sum())\n",
        "\n",
        "    print(df_pf.groupby('Interacao')['PF_Saldo'].mean())\n",
        "    print(df_pf.groupby('Interacao')['PF_Quebrado'].sum())\n",
        "            \n",
        "    # Exportando para CSV\n",
        "    df_pf_crise = df_pf\n",
        "    df_emp_crise = df_emp\n",
        "\n",
        "    df_pf.to_csv(\"df_pf_crise.csv\")\n",
        "    df_emp.to_csv(\"df_emp_crise.csv\")\n",
        "\n",
        "simulacao (40)"
      ],
      "execution_count": 14,
      "outputs": [
        {
          "output_type": "stream",
          "text": [
            "Interacao\n",
            "0     8.287037e+05\n",
            "1     8.487701e+05\n",
            "2     8.684017e+05\n",
            "3     8.884390e+05\n",
            "4     9.074303e+05\n",
            "5     9.274807e+05\n",
            "6     9.469068e+05\n",
            "7     9.671259e+05\n",
            "8     9.870632e+05\n",
            "9     1.005804e+06\n",
            "10    1.025877e+06\n",
            "11    1.007908e+06\n",
            "12    9.898954e+05\n",
            "13    9.717891e+05\n",
            "14    9.969371e+05\n",
            "15    1.021743e+06\n",
            "16    1.046625e+06\n",
            "17    1.071895e+06\n",
            "18    1.096947e+06\n",
            "19    1.121904e+06\n",
            "20    1.147722e+06\n",
            "21    1.172269e+06\n",
            "22    1.196976e+06\n",
            "23    1.221980e+06\n",
            "24    1.247157e+06\n",
            "25    1.271768e+06\n",
            "26    1.296801e+06\n",
            "27    1.322137e+06\n",
            "28    1.347181e+06\n",
            "29    1.372177e+06\n",
            "30    1.397141e+06\n",
            "31    1.422363e+06\n",
            "32    1.447592e+06\n",
            "33    1.472220e+06\n",
            "34    1.496915e+06\n",
            "35    1.522278e+06\n",
            "36    1.547321e+06\n",
            "37    1.572168e+06\n",
            "38    1.597083e+06\n",
            "39    1.622366e+06\n",
            "Name: EMP_Saldo, dtype: float64\n",
            "Interacao\n",
            "0     0\n",
            "1     0\n",
            "2     0\n",
            "3     0\n",
            "4     0\n",
            "5     0\n",
            "6     0\n",
            "7     0\n",
            "8     0\n",
            "9     0\n",
            "10    0\n",
            "11    0\n",
            "12    1\n",
            "13    2\n",
            "14    2\n",
            "15    2\n",
            "16    1\n",
            "17    1\n",
            "18    1\n",
            "19    0\n",
            "20    0\n",
            "21    0\n",
            "22    0\n",
            "23    0\n",
            "24    0\n",
            "25    0\n",
            "26    0\n",
            "27    0\n",
            "28    0\n",
            "29    0\n",
            "30    0\n",
            "31    0\n",
            "32    0\n",
            "33    0\n",
            "34    0\n",
            "35    0\n",
            "36    0\n",
            "37    0\n",
            "38    0\n",
            "39    0\n",
            "Name: EMP_Quebrada, dtype: int64\n",
            "Interacao\n",
            "0     21591.555700\n",
            "1     22104.490033\n",
            "2     22617.424367\n",
            "3     23130.358700\n",
            "4     23643.293033\n",
            "5     24156.227367\n",
            "6     24669.161700\n",
            "7     25182.096033\n",
            "8     25695.030367\n",
            "9     26207.964700\n",
            "10    26720.899033\n",
            "11    27233.563700\n",
            "12    27745.380700\n",
            "13    28256.116033\n",
            "14    28767.019033\n",
            "15    29277.906033\n",
            "16    29789.621033\n",
            "17    30301.349367\n",
            "18    30813.321367\n",
            "19    31326.080700\n",
            "20    31838.830367\n",
            "21    32351.764700\n",
            "22    32864.699033\n",
            "23    33377.633367\n",
            "24    33890.567700\n",
            "25    34403.502033\n",
            "26    34916.436367\n",
            "27    35429.370700\n",
            "28    35942.305033\n",
            "29    36455.239367\n",
            "30    36968.173700\n",
            "31    37481.108033\n",
            "32    37994.042367\n",
            "33    38506.976700\n",
            "34    39019.911033\n",
            "35    39532.845367\n",
            "36    40045.779700\n",
            "37    40558.714033\n",
            "38    41071.648367\n",
            "39    41584.582700\n",
            "Name: PF_Saldo, dtype: float64\n",
            "Interacao\n",
            "0     0\n",
            "1     0\n",
            "2     0\n",
            "3     0\n",
            "4     0\n",
            "5     0\n",
            "6     0\n",
            "7     0\n",
            "8     0\n",
            "9     0\n",
            "10    0\n",
            "11    0\n",
            "12    0\n",
            "13    0\n",
            "14    0\n",
            "15    0\n",
            "16    0\n",
            "17    0\n",
            "18    0\n",
            "19    0\n",
            "20    0\n",
            "21    0\n",
            "22    0\n",
            "23    0\n",
            "24    0\n",
            "25    0\n",
            "26    0\n",
            "27    0\n",
            "28    0\n",
            "29    0\n",
            "30    0\n",
            "31    0\n",
            "32    0\n",
            "33    0\n",
            "34    0\n",
            "35    0\n",
            "36    0\n",
            "37    0\n",
            "38    0\n",
            "39    0\n",
            "Name: PF_Quebrado, dtype: int64\n"
          ],
          "name": "stdout"
        }
      ]
    },
    {
      "cell_type": "code",
      "metadata": {
        "id": "DKchK5-I3gl1",
        "colab_type": "code",
        "colab": {
          "base_uri": "https://localhost:8080/",
          "height": 1000
        },
        "outputId": "ae9f9adf-1460-4236-d55a-87f30508bb43"
      },
      "source": [
        "empresa = list()\n",
        "pf = list()\n",
        "criar_empresa (1100)\n",
        "criar_pf (30000)\n",
        "Primeira_Interacao()\n",
        "simulacao (40)"
      ],
      "execution_count": 15,
      "outputs": [
        {
          "output_type": "stream",
          "text": [
            "Interacao\n",
            "0       1981.363636\n",
            "1      35430.595455\n",
            "2      60005.652727\n",
            "3      82160.345455\n",
            "4     101906.137273\n",
            "5     120263.630000\n",
            "6     137946.353636\n",
            "7     155004.710909\n",
            "8     172098.942727\n",
            "9     188865.313636\n",
            "10    205559.123636\n",
            "11    186282.495455\n",
            "12    166838.396364\n",
            "13    147410.237273\n",
            "14    169175.469091\n",
            "15    190683.150000\n",
            "16    211943.036364\n",
            "17    233128.277273\n",
            "18    253893.957273\n",
            "19    275451.700909\n",
            "20    296818.239091\n",
            "21    318619.317273\n",
            "22    340253.116364\n",
            "23    362096.372727\n",
            "24    383711.670909\n",
            "25    405756.207273\n",
            "26    427311.339091\n",
            "27    449056.415455\n",
            "28    470689.350000\n",
            "29    491814.172727\n",
            "30    513441.479091\n",
            "31    534688.552727\n",
            "32    556337.313636\n",
            "33    578121.455455\n",
            "34    599811.963636\n",
            "35    621536.251818\n",
            "36    643463.541818\n",
            "37    664997.846364\n",
            "38    686415.064545\n",
            "39    707685.262727\n",
            "Name: EMP_Saldo, dtype: float64\n",
            "Interacao\n",
            "0       0\n",
            "1       7\n",
            "2      16\n",
            "3      18\n",
            "4      10\n",
            "5      13\n",
            "6      15\n",
            "7      11\n",
            "8       7\n",
            "9       8\n",
            "10      6\n",
            "11     86\n",
            "12    271\n",
            "13    544\n",
            "14    455\n",
            "15    372\n",
            "16    280\n",
            "17    199\n",
            "18    155\n",
            "19    102\n",
            "20     69\n",
            "21     36\n",
            "22     17\n",
            "23      9\n",
            "24      4\n",
            "25      3\n",
            "26      1\n",
            "27      0\n",
            "28      0\n",
            "29      0\n",
            "30      0\n",
            "31      0\n",
            "32      0\n",
            "33      0\n",
            "34      0\n",
            "35      0\n",
            "36      0\n",
            "37      0\n",
            "38      0\n",
            "39      0\n",
            "Name: EMP_Quebrada, dtype: int64\n",
            "Interacao\n",
            "0      1501.441300\n",
            "1      1849.671633\n",
            "2      2261.538967\n",
            "3      2699.677967\n",
            "4      3160.714633\n",
            "5      3629.834633\n",
            "6      4103.044300\n",
            "7      4583.539300\n",
            "8      5069.679300\n",
            "9      5557.018967\n",
            "10     6048.870300\n",
            "11     6459.704633\n",
            "12     6694.565633\n",
            "13     6686.913967\n",
            "14     6752.828300\n",
            "15     6898.363633\n",
            "16     7130.219967\n",
            "17     7430.284633\n",
            "18     7776.140633\n",
            "19     8170.582633\n",
            "20     8598.774300\n",
            "21     9060.313300\n",
            "22     9541.165633\n",
            "23    10031.700633\n",
            "24    10527.680967\n",
            "25    11024.991633\n",
            "26    11525.411967\n",
            "27    12026.687300\n",
            "28    12528.011633\n",
            "29    13029.461967\n",
            "30    13530.912300\n",
            "31    14032.362633\n",
            "32    14533.812967\n",
            "33    15035.263300\n",
            "34    15536.713633\n",
            "35    16038.163967\n",
            "36    16539.614300\n",
            "37    17041.064633\n",
            "38    17542.514967\n",
            "39    18043.965300\n",
            "Name: PF_Saldo, dtype: float64\n",
            "Interacao\n",
            "0     0\n",
            "1     0\n",
            "2     0\n",
            "3     0\n",
            "4     0\n",
            "5     0\n",
            "6     0\n",
            "7     0\n",
            "8     0\n",
            "9     0\n",
            "10    0\n",
            "11    0\n",
            "12    0\n",
            "13    0\n",
            "14    0\n",
            "15    0\n",
            "16    6\n",
            "17    5\n",
            "18    2\n",
            "19    3\n",
            "20    2\n",
            "21    1\n",
            "22    1\n",
            "23    1\n",
            "24    0\n",
            "25    0\n",
            "26    0\n",
            "27    0\n",
            "28    0\n",
            "29    0\n",
            "30    0\n",
            "31    0\n",
            "32    0\n",
            "33    0\n",
            "34    0\n",
            "35    0\n",
            "36    0\n",
            "37    0\n",
            "38    0\n",
            "39    0\n",
            "Name: PF_Quebrado, dtype: int64\n"
          ],
          "name": "stdout"
        }
      ]
    },
    {
      "cell_type": "markdown",
      "metadata": {
        "id": "UKPS1NyPqP6l",
        "colab_type": "text"
      },
      "source": [
        ""
      ]
    },
    {
      "cell_type": "markdown",
      "metadata": {
        "colab_type": "text",
        "id": "iDB58ZLpqRU8"
      },
      "source": [
        "# **Crise Alongada no Preço do Produto**\n",
        "Após diversas tentantivas para se obter um equilíbrio compatível com a realidade, resolvemos simular uma crise no preço de venda dos produtos quando estivermos nas interações 10, 11, 12, 13, 14 e 15. \n",
        "\n",
        "Para isso, o mesmo código será rodado, mas, agora, empresas receberão de 60% até 80% de suas despesas durante o período de crise. Esse fenomeno tende a fazer com que empresas quebrem e, consequentemente, funcionários não recebam seus salários e, também, quebrem ocasionando um colapso na economia analisada. \n",
        "\n",
        "Após a definião e criação das empresas simulamos 40 interações e foram coletadas em cada uma das interações:\n",
        "\n",
        "**Informação colegada da Pessoa Física**\n",
        "*   Saldo em Conta\n",
        "*   Salário\n",
        "*   Indicador de Quebrado (Caso o Saldo for inferior a -300)\n",
        "\n",
        "**Informação da Empresa**\n",
        "*   Saldo em Conta\n",
        "*   Salário da Empresa\n",
        "*   Funcionários\n",
        "*   Vagas\n",
        "*   Indicador de Quebrado (Caso o Saldo for inferior a -5.000)\n",
        "\n",
        "Após análise, essas as informações das pessoas físicas e empresas são colocadas nos arquivos df_pf_crise_2.csv e df_emp_crise_2.csv."
      ]
    },
    {
      "cell_type": "code",
      "metadata": {
        "id": "-mPXVC7krHoX",
        "colab_type": "code",
        "colab": {}
      },
      "source": [
        "def Interacao(j):\n",
        "    for e in empresa:\n",
        "      if j < 10:\n",
        "        e.conta.Saldo(e.demanda * random.randint(90, 120) - e.funcionarios * e.salario)\n",
        "      elif j < 15:\n",
        "        e.conta.Saldo(e.demanda * random.randint(60, 80) - e.funcionarios * e.salario)\n",
        "      else:\n",
        "        e.conta.Saldo(e.demanda * random.randint(100, 120) - e.funcionarios * e.salario)\n",
        "        \n",
        "    for p in pf:\n",
        "        # Escolhe uma empresa aleatoria\n",
        "        e = random.choice(empresa)\n",
        "        # Verificar a capacidade\n",
        "        if p.salario == 0 and e.vagas > 0:\n",
        "          e.Vagas(-1)\n",
        "          e.Funcionarios(+1)\n",
        "          p.salario = e.salario\n",
        "          p.conta.Saldo(-500)\n",
        "        else:\n",
        "          if p.perfil == 1 and e.conta.saldo > 0:\n",
        "            sal = p.salario * 0.20\n",
        "            p.conta.Saldo(sal)\n",
        "          elif e.conta.saldo > -5000:\n",
        "            sal = p.salario * 0.10\n",
        "            p.conta.Saldo(sal)\n",
        "          elif p.conta.saldo > -5000:\n",
        "            p.conta.Saldo(-500)"
      ],
      "execution_count": 16,
      "outputs": []
    },
    {
      "cell_type": "code",
      "metadata": {
        "id": "bdWp7PyrqSIM",
        "colab_type": "code",
        "colab": {
          "base_uri": "https://localhost:8080/",
          "height": 1000
        },
        "outputId": "225d5f74-b523-44ca-d8c7-f4af633c07d7"
      },
      "source": [
        "def simulacao (a):\n",
        "    for i in range (a):\n",
        "        inicial_pf_saldo = []\n",
        "        inicial_pf_salario = []\n",
        "        inicial_pf_quebrado = []\n",
        "        inicial_empresa_saldo = []\n",
        "        inicial_empresa_salario = []\n",
        "        inicial_empresa_funcionarios = []\n",
        "        inicial_empresa_vagas = []\n",
        "        inicial_empresa_quebrada = []\n",
        "        id_pf = []\n",
        "        id_emp = []\n",
        "\n",
        "        data_pf = []\n",
        "        data_emp = []\n",
        "\n",
        "        for p in pf:\n",
        "          id_pf.append(i)\n",
        "          inicial_pf_saldo.append(p.conta.saldo)\n",
        "          inicial_pf_salario.append(p.salario)\n",
        "          if p.conta.saldo < -500:\n",
        "            inicial_pf_quebrado.append(1)\n",
        "          else:\n",
        "            inicial_pf_quebrado.append(0)\n",
        "\n",
        "        for e in empresa:\n",
        "          id_emp.append(i)\n",
        "          inicial_empresa_saldo.append(e.conta.saldo)\n",
        "          inicial_empresa_salario.append(e.salario)\n",
        "          inicial_empresa_funcionarios.append(e.funcionarios)\n",
        "          inicial_empresa_vagas.append(e.vagas)\n",
        "          if e.conta.saldo < -5000:\n",
        "            inicial_empresa_quebrada.append(1)\n",
        "          else:\n",
        "            inicial_empresa_quebrada.append(0)\n",
        "\n",
        "        data_pf = { 'Interacao':id_pf,\n",
        "                    'PF_Saldo':inicial_pf_saldo, \n",
        "                    'PF_Salario':inicial_pf_salario,\n",
        "                    'PF_Quebrado':inicial_pf_quebrado}\n",
        "\n",
        "        data_emp = {'Interacao':id_emp,\n",
        "                    'EMP_Saldo':inicial_empresa_saldo, \n",
        "                    'EMP_Salario':inicial_empresa_salario, \n",
        "                    'EMP_Funcionarios':inicial_empresa_funcionarios, \n",
        "                    'EMP_Vagas':inicial_empresa_vagas,\n",
        "                    'EMP_Quebrada':inicial_empresa_quebrada}\n",
        "\n",
        "        if i == 0:\n",
        "          df_pf = pd.DataFrame(data_pf)\n",
        "          df_emp = pd.DataFrame(data_emp)\n",
        "        else:\n",
        "          df_pf_temp = pd.DataFrame(data_pf)\n",
        "          df_pf = df_pf.append(df_pf_temp)\n",
        "          df_emp_temp = pd.DataFrame(data_emp)\n",
        "          df_emp = df_emp.append(df_emp_temp)\n",
        "\n",
        "        Interacao(i)  \n",
        "\n",
        "    print(df_emp.groupby('Interacao')['EMP_Saldo'].mean())\n",
        "    print(df_emp.groupby('Interacao')['EMP_Quebrada'].sum())\n",
        "\n",
        "    print(df_pf.groupby('Interacao')['PF_Saldo'].mean())\n",
        "    print(df_pf.groupby('Interacao')['PF_Quebrado'].sum())\n",
        "            \n",
        "    # Exportando para CSV\n",
        "    df_pf_crise = df_pf\n",
        "    df_emp_crise = df_emp\n",
        "\n",
        "    df_pf.to_csv(\"df_pf_crise_2.csv\")\n",
        "    df_emp.to_csv(\"df_emp_crise_2.csv\")\n",
        "\n",
        "simulacao (40)"
      ],
      "execution_count": 17,
      "outputs": [
        {
          "output_type": "stream",
          "text": [
            "Interacao\n",
            "0     7.293665e+05\n",
            "1     7.461139e+05\n",
            "2     7.623662e+05\n",
            "3     7.789298e+05\n",
            "4     7.953315e+05\n",
            "5     8.115498e+05\n",
            "6     8.280303e+05\n",
            "7     8.442436e+05\n",
            "8     8.603333e+05\n",
            "9     8.765475e+05\n",
            "10    8.931410e+05\n",
            "11    8.732970e+05\n",
            "12    8.535262e+05\n",
            "13    8.338909e+05\n",
            "14    8.144335e+05\n",
            "15    7.948563e+05\n",
            "16    8.166643e+05\n",
            "17    8.378291e+05\n",
            "18    8.594886e+05\n",
            "19    8.813344e+05\n",
            "20    9.028878e+05\n",
            "21    9.243925e+05\n",
            "22    9.459728e+05\n",
            "23    9.678021e+05\n",
            "24    9.894189e+05\n",
            "25    1.011251e+06\n",
            "26    1.032806e+06\n",
            "27    1.054014e+06\n",
            "28    1.075585e+06\n",
            "29    1.097341e+06\n",
            "30    1.118949e+06\n",
            "31    1.140393e+06\n",
            "32    1.161908e+06\n",
            "33    1.183363e+06\n",
            "34    1.205021e+06\n",
            "35    1.226698e+06\n",
            "36    1.248039e+06\n",
            "37    1.269940e+06\n",
            "38    1.291611e+06\n",
            "39    1.313115e+06\n",
            "Name: EMP_Saldo, dtype: float64\n",
            "Interacao\n",
            "0     0\n",
            "1     0\n",
            "2     0\n",
            "3     0\n",
            "4     0\n",
            "5     0\n",
            "6     0\n",
            "7     0\n",
            "8     0\n",
            "9     0\n",
            "10    0\n",
            "11    0\n",
            "12    0\n",
            "13    0\n",
            "14    0\n",
            "15    1\n",
            "16    0\n",
            "17    0\n",
            "18    0\n",
            "19    0\n",
            "20    0\n",
            "21    0\n",
            "22    0\n",
            "23    0\n",
            "24    0\n",
            "25    0\n",
            "26    0\n",
            "27    0\n",
            "28    0\n",
            "29    0\n",
            "30    0\n",
            "31    0\n",
            "32    0\n",
            "33    0\n",
            "34    0\n",
            "35    0\n",
            "36    0\n",
            "37    0\n",
            "38    0\n",
            "39    0\n",
            "Name: EMP_Quebrada, dtype: int64\n",
            "Interacao\n",
            "0     18545.415633\n",
            "1     19046.865967\n",
            "2     19548.316300\n",
            "3     20049.766633\n",
            "4     20551.216967\n",
            "5     21052.667300\n",
            "6     21554.117633\n",
            "7     22055.567967\n",
            "8     22557.018300\n",
            "9     23058.468633\n",
            "10    23559.918967\n",
            "11    24061.369300\n",
            "12    24562.819633\n",
            "13    25064.269967\n",
            "14    25565.720300\n",
            "15    26065.898633\n",
            "16    26567.179967\n",
            "17    27068.430633\n",
            "18    27569.880967\n",
            "19    28071.331300\n",
            "20    28572.781633\n",
            "21    29074.231967\n",
            "22    29575.682300\n",
            "23    30077.132633\n",
            "24    30578.582967\n",
            "25    31080.033300\n",
            "26    31581.483633\n",
            "27    32082.933967\n",
            "28    32584.384300\n",
            "29    33085.834633\n",
            "30    33587.284967\n",
            "31    34088.735300\n",
            "32    34590.185633\n",
            "33    35091.635967\n",
            "34    35593.086300\n",
            "35    36094.536633\n",
            "36    36595.986967\n",
            "37    37097.437300\n",
            "38    37598.887633\n",
            "39    38100.337967\n",
            "Name: PF_Saldo, dtype: float64\n",
            "Interacao\n",
            "0     0\n",
            "1     0\n",
            "2     0\n",
            "3     0\n",
            "4     0\n",
            "5     0\n",
            "6     0\n",
            "7     0\n",
            "8     0\n",
            "9     0\n",
            "10    0\n",
            "11    0\n",
            "12    0\n",
            "13    0\n",
            "14    0\n",
            "15    0\n",
            "16    0\n",
            "17    0\n",
            "18    0\n",
            "19    0\n",
            "20    0\n",
            "21    0\n",
            "22    0\n",
            "23    0\n",
            "24    0\n",
            "25    0\n",
            "26    0\n",
            "27    0\n",
            "28    0\n",
            "29    0\n",
            "30    0\n",
            "31    0\n",
            "32    0\n",
            "33    0\n",
            "34    0\n",
            "35    0\n",
            "36    0\n",
            "37    0\n",
            "38    0\n",
            "39    0\n",
            "Name: PF_Quebrado, dtype: int64\n"
          ],
          "name": "stdout"
        }
      ]
    },
    {
      "cell_type": "code",
      "metadata": {
        "id": "yVFsCi-Oqjg8",
        "colab_type": "code",
        "colab": {
          "base_uri": "https://localhost:8080/",
          "height": 1000
        },
        "outputId": "9f2fe928-fb3b-4078-958e-7d73c8d82928"
      },
      "source": [
        "empresa = list()\n",
        "pf = list()\n",
        "criar_empresa (1100)\n",
        "criar_pf (30000)\n",
        "Primeira_Interacao()\n",
        "simulacao (40)"
      ],
      "execution_count": 18,
      "outputs": [
        {
          "output_type": "stream",
          "text": [
            "Interacao\n",
            "0       2029.454545\n",
            "1      37973.160000\n",
            "2      65768.378182\n",
            "3      89397.880000\n",
            "4     110787.937273\n",
            "5     131641.981818\n",
            "6     151472.566364\n",
            "7     171127.210000\n",
            "8     191254.914545\n",
            "9     210153.186364\n",
            "10    228982.726364\n",
            "11    211010.757273\n",
            "12    192927.330909\n",
            "13    174563.350909\n",
            "14    156174.061818\n",
            "15    138003.195455\n",
            "16    162517.910000\n",
            "17    186435.629091\n",
            "18    210597.037273\n",
            "19    234553.281818\n",
            "20    258523.812727\n",
            "21    282474.402727\n",
            "22    306890.814545\n",
            "23    331355.179091\n",
            "24    355291.340000\n",
            "25    379760.804545\n",
            "26    404010.236364\n",
            "27    428038.210909\n",
            "28    452155.606364\n",
            "29    476093.176364\n",
            "30    500229.012727\n",
            "31    524012.643636\n",
            "32    547754.929091\n",
            "33    571575.349091\n",
            "34    596284.426364\n",
            "35    620120.681818\n",
            "36    644327.744545\n",
            "37    668968.620909\n",
            "38    693217.270909\n",
            "39    717163.740000\n",
            "Name: EMP_Saldo, dtype: float64\n",
            "Interacao\n",
            "0       0\n",
            "1       5\n",
            "2      10\n",
            "3      14\n",
            "4      11\n",
            "5      11\n",
            "6      11\n",
            "7       8\n",
            "8       8\n",
            "9       6\n",
            "10      3\n",
            "11     58\n",
            "12    231\n",
            "13    474\n",
            "14    646\n",
            "15    726\n",
            "16    705\n",
            "17    671\n",
            "18    640\n",
            "19    593\n",
            "20    533\n",
            "21    449\n",
            "22    384\n",
            "23    321\n",
            "24    258\n",
            "25    197\n",
            "26    133\n",
            "27     92\n",
            "28     60\n",
            "29     34\n",
            "30     19\n",
            "31     12\n",
            "32      9\n",
            "33      5\n",
            "34      1\n",
            "35      1\n",
            "36      0\n",
            "37      0\n",
            "38      0\n",
            "39      0\n",
            "Name: EMP_Quebrada, dtype: int64\n",
            "Interacao\n",
            "0      1501.059867\n",
            "1      1858.359200\n",
            "2      2286.589533\n",
            "3      2739.940533\n",
            "4      3213.127533\n",
            "5      3694.248533\n",
            "6      4180.215867\n",
            "7      4674.472533\n",
            "8      5170.367533\n",
            "9      5670.664200\n",
            "10     6174.065200\n",
            "11     6616.853200\n",
            "12     6894.858533\n",
            "13     6951.742200\n",
            "14     6864.598867\n",
            "15     6704.125533\n",
            "16     6565.242867\n",
            "17     6452.373533\n",
            "18     6370.534867\n",
            "19     6324.651867\n",
            "20     6328.553867\n",
            "21     6399.519533\n",
            "22     6540.434200\n",
            "23     6737.706867\n",
            "24     6997.035867\n",
            "25     7312.529200\n",
            "26     7686.725867\n",
            "27     8099.147200\n",
            "28     8542.613533\n",
            "29     9015.087867\n",
            "30     9504.703533\n",
            "31    10000.779533\n",
            "32    10501.011200\n",
            "33    11004.881867\n",
            "34    11512.560867\n",
            "35    12021.042200\n",
            "36    12530.462200\n",
            "37    13040.102867\n",
            "38    13549.743533\n",
            "39    14059.384200\n",
            "Name: PF_Saldo, dtype: float64\n",
            "Interacao\n",
            "0       0\n",
            "1       0\n",
            "2       0\n",
            "3       0\n",
            "4       0\n",
            "5       0\n",
            "6       0\n",
            "7       0\n",
            "8       0\n",
            "9       0\n",
            "10      0\n",
            "11      0\n",
            "12      0\n",
            "13      0\n",
            "14      0\n",
            "15      0\n",
            "16     12\n",
            "17     12\n",
            "18     35\n",
            "19     72\n",
            "20    134\n",
            "21    187\n",
            "22    225\n",
            "23    256\n",
            "24    269\n",
            "25    258\n",
            "26    244\n",
            "27    222\n",
            "28    192\n",
            "29    153\n",
            "30    131\n",
            "31    104\n",
            "32     88\n",
            "33     73\n",
            "34     63\n",
            "35     56\n",
            "36     51\n",
            "37     46\n",
            "38     37\n",
            "39     28\n",
            "Name: PF_Quebrado, dtype: int64\n"
          ],
          "name": "stdout"
        }
      ]
    },
    {
      "cell_type": "markdown",
      "metadata": {
        "id": "AB1q2cKslQGQ",
        "colab_type": "text"
      },
      "source": [
        "# **Análise do Resultado**\n",
        "O primeiro passo para análise do resultado seria a leitura dos arquivos criados. Para isso utiliza-se o comando *read_csv* da biblioteca pandas para transformar as bases em datas frames passíveis e análise pelo python."
      ]
    },
    {
      "cell_type": "code",
      "metadata": {
        "id": "nxqN7jK4mOH1",
        "colab_type": "code",
        "colab": {}
      },
      "source": [
        "df_emp_crise_2 = pd.read_csv(\"df_emp_crise_2.csv\")\n",
        "df_emp_crise = pd.read_csv(\"df_emp_crise.csv\")\n",
        "df_emp_norm = pd.read_csv(\"df_emp_norm.csv\")\n",
        "\n",
        "df_pf_crise_2 = pd.read_csv(\"df_pf_crise_2.csv\")\n",
        "df_pf_crise = pd.read_csv(\"df_pf_crise.csv\")\n",
        "df_pf_norm = pd.read_csv(\"df_pf_norm.csv\")"
      ],
      "execution_count": 19,
      "outputs": []
    },
    {
      "cell_type": "markdown",
      "metadata": {
        "id": "n5duhp2_nDxy",
        "colab_type": "text"
      },
      "source": [
        "# **Análise do Resultado - Empresas**"
      ]
    },
    {
      "cell_type": "markdown",
      "metadata": {
        "id": "Tdoy6hZ4ldaO",
        "colab_type": "text"
      },
      "source": [
        "Na simulação em questão, onde verde seria a situação em normalidade, laranja representa a crise que impacta as interações 10, 11 e 12 e azul seria a crise alongada, é possível reparar que o número de empresas que quebram para o período de crise (crise alongada) sobe rapidamente alcançando um pico em 600 (ou 800 empresas) e retornam a normalidade após a interação 25 (30)."
      ]
    },
    {
      "cell_type": "code",
      "metadata": {
        "id": "SJR0qnILn1At",
        "colab_type": "code",
        "colab": {
          "base_uri": "https://localhost:8080/",
          "height": 296
        },
        "outputId": "d246ce57-a5c5-401b-f361-5625df852961"
      },
      "source": [
        "df_emp_crise_2.groupby('Interacao')['EMP_Quebrada'].sum().plot()\n",
        "df_emp_crise.groupby('Interacao')['EMP_Quebrada'].sum().plot()\n",
        "df_emp_norm.groupby('Interacao')['EMP_Quebrada'].sum().plot()"
      ],
      "execution_count": 20,
      "outputs": [
        {
          "output_type": "execute_result",
          "data": {
            "text/plain": [
              "<matplotlib.axes._subplots.AxesSubplot at 0x7f97deb5fb00>"
            ]
          },
          "metadata": {
            "tags": []
          },
          "execution_count": 20
        },
        {
          "output_type": "display_data",
          "data": {
            "image/png": "[encoded data removed]",
            "text/plain": [
              "<Figure size 432x288 with 1 Axes>"
            ]
          },
          "metadata": {
            "tags": [],
            "needs_background": "light"
          }
        }
      ]
    },
    {
      "cell_type": "markdown",
      "metadata": {
        "id": "L3w7XNYunxRA",
        "colab_type": "text"
      },
      "source": [
        "# **Análise do Resultado - Pessoas Físicas**"
      ]
    },
    {
      "cell_type": "markdown",
      "metadata": {
        "id": "MNaMSYNUoSyf",
        "colab_type": "text"
      },
      "source": [
        "Na simulação em questão, onde verde seria a situação em normalidade, laranja representa a crise que impacta as interações 10, 11 e 12 e azul seria a crise alongada, é possível reparar que o número de pessoas que quebram para o período de crise (crise alongada) sobe rapidamente alcançando um pico em 200 (ou 2000) e até a interação 40 ainda não retornam à normalidade."
      ]
    },
    {
      "cell_type": "code",
      "metadata": {
        "id": "jYpVoAlZkMRk",
        "colab_type": "code",
        "colab": {
          "base_uri": "https://localhost:8080/",
          "height": 296
        },
        "outputId": "50beeea6-c93d-4b76-90cc-4037a9e0024d"
      },
      "source": [
        "df_pf_crise_2.groupby('Interacao')['PF_Quebrado'].sum().plot()\n",
        "df_pf_crise.groupby('Interacao')['PF_Quebrado'].sum().plot()\n",
        "df_pf_norm.groupby('Interacao')['PF_Quebrado'].sum().plot()"
      ],
      "execution_count": 21,
      "outputs": [
        {
          "output_type": "execute_result",
          "data": {
            "text/plain": [
              "<matplotlib.axes._subplots.AxesSubplot at 0x7f97d7d2b630>"
            ]
          },
          "metadata": {
            "tags": []
          },
          "execution_count": 21
        },
        {
          "output_type": "display_data",
          "data": {
            "image/png": "[encoded data removed]",
            "text/plain": [
              "<Figure size 432x288 with 1 Axes>"
            ]
          },
          "metadata": {
            "tags": [],
            "needs_background": "light"
          }
        }
      ]
    },
    {
      "cell_type": "markdown",
      "metadata": {
        "id": "mZ93RG6u32ix",
        "colab_type": "text"
      },
      "source": [
        "Analisando a distribuição dos salários nas tres bases é possível constatar existem mais pessoas físicas com salários próximos de 5.000 e menos pessoas próximo aos salários de 1.000. Quando analisamos as pessoas físicas que estão quebradas, é possível constatar uma inversão nessa distribuição da população, ou seja, as pessoas com menores salários possuem mais probabilidade de quebrar."
      ]
    },
    {
      "cell_type": "code",
      "metadata": {
        "id": "PJJvq1Sj3wkM",
        "colab_type": "code",
        "colab": {
          "base_uri": "https://localhost:8080/",
          "height": 297
        },
        "outputId": "f04f4e56-4667-44bb-8eea-b6365a72de20"
      },
      "source": [
        "df_pf_crise_2.groupby('PF_Salario')['PF_Quebrado'].count().plot() #Azul\n",
        "df_pf_crise.groupby('PF_Salario')['PF_Quebrado'].count().plot() #Verde\n",
        "df_pf_norm.groupby('PF_Salario')['PF_Quebrado'].count().plot() #Laranja"
      ],
      "execution_count": 22,
      "outputs": [
        {
          "output_type": "execute_result",
          "data": {
            "text/plain": [
              "<matplotlib.axes._subplots.AxesSubplot at 0x7f97de7ebd68>"
            ]
          },
          "metadata": {
            "tags": []
          },
          "execution_count": 22
        },
        {
          "output_type": "display_data",
          "data": {
            "image/png": "[encoded data removed]",
            "text/plain": [
              "<Figure size 432x288 with 1 Axes>"
            ]
          },
          "metadata": {
            "tags": [],
            "needs_background": "light"
          }
        }
      ]
    },
    {
      "cell_type": "code",
      "metadata": {
        "id": "MrccmTsqn1g_",
        "colab_type": "code",
        "colab": {
          "base_uri": "https://localhost:8080/",
          "height": 297
        },
        "outputId": "83a39e16-216a-47e5-bb37-becb21c1a359"
      },
      "source": [
        "df_pf_crise_2[df_pf_crise_2['Interacao'] == 20].groupby('PF_Salario')['PF_Quebrado'].sum().plot() #Azul\n",
        "df_pf_crise_2[df_pf_crise_2['Interacao'] == 25].groupby('PF_Salario')['PF_Quebrado'].sum().plot() #Verde\n",
        "df_pf_crise_2[df_pf_crise_2['Interacao'] == 30].groupby('PF_Salario')['PF_Quebrado'].sum().plot() #Laranja"
      ],
      "execution_count": 23,
      "outputs": [
        {
          "output_type": "execute_result",
          "data": {
            "text/plain": [
              "<matplotlib.axes._subplots.AxesSubplot at 0x7f97d77882b0>"
            ]
          },
          "metadata": {
            "tags": []
          },
          "execution_count": 23
        },
        {
          "output_type": "display_data",
          "data": {
            "image/png": "[encoded data removed]",
            "text/plain": [
              "<Figure size 432x288 with 1 Axes>"
            ]
          },
          "metadata": {
            "tags": [],
            "needs_background": "light"
          }
        }
      ]
    }
  ]
}
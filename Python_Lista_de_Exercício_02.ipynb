{
  "nbformat": 4,
  "nbformat_minor": 0,
  "metadata": {
    "colab": {
      "name": "Python_Lista_de_Exercício_02.ipynb",
      "provenance": [],
      "toc_visible": true,
      "authorship_tag": "ABX9TyP/MIjYBywjdEq7lB/cOoG5"
    },
    "kernelspec": {
      "name": "python3",
      "display_name": "Python 3"
    }
  },
  "cells": [
    {
      "cell_type": "markdown",
      "metadata": {
        "id": "XX9dvJGWFwgu",
        "colab_type": "text"
      },
      "source": [
        "# **Python para Modelagem Baseada em Agentes**\n",
        "**Lista de Exercício 2**\n",
        "\n",
        "**Professor:** Bernardo Furtado\n",
        "\n",
        "**Aluno:** Paulo Estevão Alvarenga Martins"
      ]
    },
    {
      "cell_type": "markdown",
      "metadata": {
        "id": "3FLtsn31RKSL",
        "colab_type": "text"
      },
      "source": [
        "#**Definições Iniciais**\n",
        "Nessa primeira seção estamos definindo as *librarys* que iremos usar ao londo do programa. A função ramdom irá fornecer os números aleatórios a a função pandas irá nos possibitar a manipulação dos dados gerados pela simulação."
      ]
    },
    {
      "cell_type": "code",
      "metadata": {
        "id": "wQUWpd9XRUWD",
        "colab_type": "code",
        "colab": {}
      },
      "source": [
        "import random\n",
        "import pandas as pd"
      ],
      "execution_count": 1,
      "outputs": []
    },
    {
      "cell_type": "markdown",
      "metadata": {
        "id": "-CdbyvbDDCMt",
        "colab_type": "text"
      },
      "source": [
        "# **Definindo a Classe Conta**\n",
        "A classe conta carrega a informação de saldo dentro que se origina zerado. Para acrescentar ou retirar um valor no saldo atual utiliza-se a função *Saldo(valor)* onde *valor* deve ser um número positivo para créditos ou negativo para debitos nessa conta."
      ]
    },
    {
      "cell_type": "code",
      "metadata": {
        "id": "eKs_aSdFDGz5",
        "colab_type": "code",
        "colab": {}
      },
      "source": [
        "class Conta:\n",
        "\n",
        "    def __init__(self):\n",
        "        self.saldo = 0\n",
        "\n",
        "    def Saldo(self, quantia):\n",
        "        self.saldo += quantia\n"
      ],
      "execution_count": 2,
      "outputs": []
    },
    {
      "cell_type": "code",
      "metadata": {
        "id": "6XDumFj7IIl7",
        "colab_type": "code",
        "colab": {
          "base_uri": "https://localhost:8080/",
          "height": 50
        },
        "outputId": "d4e38ffe-1e87-4d57-a7c6-948791c775bf"
      },
      "source": [
        "#testando a classe conta criada\n",
        "Conta_01 = Conta()\n",
        "print(Conta_01.saldo)\n",
        "Conta_01.Saldo(2.22)\n",
        "print(Conta_01.saldo)"
      ],
      "execution_count": 3,
      "outputs": [
        {
          "output_type": "stream",
          "text": [
            "0\n",
            "2.22\n"
          ],
          "name": "stdout"
        }
      ]
    },
    {
      "cell_type": "markdown",
      "metadata": {
        "id": "-vPjmwZ5DQTv",
        "colab_type": "text"
      },
      "source": [
        "# **Definindo a Classe Loja**\n",
        "A classe loja carrega as informações de conta (conta), custo do produto (custo_produto), satisfação proporcionada (satisfacao) e capacidade (capacidade): \n",
        "\n",
        "A informação de conta está atrelada a classe conta já criada. \n",
        "\n",
        "O custo do produto é criado por uma função aleatória variando de 0 até 10 e possui 2 casas decimais. \n",
        "\n",
        "A satisfação proporcionada corresponde a sastisfação que o cliente adquire quando compra um produto. A satisfação da compra em uma loja é dada por uma função aleatória composta por apenas números inteiros de 0 até 10.\n",
        "\n",
        "A capacidade está relacionada a quantidade de pessoas que a loja suporta. Essa informação será usada para limitar a quantidade de clientes que irão entrar em uma loja. Quando um cliente entrar na loja utiliza-se a função *Capacidade(-1)* e quando ele sair *Capacidade(+1)*"
      ]
    },
    {
      "cell_type": "code",
      "metadata": {
        "id": "3o2Gh6DBDWXN",
        "colab_type": "code",
        "colab": {}
      },
      "source": [
        "class Loja:\n",
        "\n",
        "    def __init__(self):\n",
        "        self.conta = Conta()\n",
        "        self.custo_produto = round(random.random() * 10, 2)\n",
        "        self.satisfacao = random.randint(0, 10)\n",
        "        self.capacidade = random.randint(5, 200)\n",
        "\n",
        "    def Capacidade(self, quantia):\n",
        "        self.capacidade += quantia   \n"
      ],
      "execution_count": 4,
      "outputs": []
    },
    {
      "cell_type": "code",
      "metadata": {
        "id": "huGgOH3vcK5c",
        "colab_type": "code",
        "colab": {
          "base_uri": "https://localhost:8080/",
          "height": 101
        },
        "outputId": "9f57cf68-47b3-4f78-ed95-14c85d999654"
      },
      "source": [
        "#testando a classe conta criada\n",
        "Loja_01 = Loja()\n",
        "print(Loja_01.conta.saldo)\n",
        "print(Loja_01.custo_produto)\n",
        "print(Loja_01.satisfacao)\n",
        "print(Loja_01.capacidade)\n",
        "Loja_01.Capacidade(-1)\n",
        "print(Loja_01.capacidade)"
      ],
      "execution_count": 5,
      "outputs": [
        {
          "output_type": "stream",
          "text": [
            "0\n",
            "3.87\n",
            "9\n",
            "75\n",
            "74\n"
          ],
          "name": "stdout"
        }
      ]
    },
    {
      "cell_type": "markdown",
      "metadata": {
        "id": "6dOoTw5wDVtr",
        "colab_type": "text"
      },
      "source": [
        "# **Definindo a Classe Agente**\n",
        "A classe Agente carrega a informação de conta (conta) e satisfação obtida (satisfacao). A informação de conta está atrelada a classe conta já criada e a satisfação obtida se origina zerada, mas caso o agente compre algum produto ele adquire acrescenta a satisfação da loja em sua satisfação usando a função *Satisfacao(quantia)* onde quantia será a satisfação da loja."
      ]
    },
    {
      "cell_type": "code",
      "metadata": {
        "id": "o0B6qMtwCVBj",
        "colab_type": "code",
        "colab": {}
      },
      "source": [
        "class Agent:\n",
        "\n",
        "  def __init__(self):\n",
        "    self.conta = Conta()\n",
        "    self.satisfacao = 0\n",
        "\n",
        "  def Satisfacao (self, quantia):\n",
        "      self.satisfacao += quantia\n"
      ],
      "execution_count": 6,
      "outputs": []
    },
    {
      "cell_type": "code",
      "metadata": {
        "id": "SVvqdHxEG-FQ",
        "colab_type": "code",
        "colab": {
          "base_uri": "https://localhost:8080/",
          "height": 67
        },
        "outputId": "4dc7a032-0b0c-418a-af12-e67f9e11c0cd"
      },
      "source": [
        "#testando a classe conta criada\n",
        "Cliente_01 = Agent()\n",
        "print(Cliente_01.conta.saldo)\n",
        "Cliente_01.conta.Saldo(10)\n",
        "print(Cliente_01.conta.saldo)\n",
        "print(Cliente_01.satisfacao)"
      ],
      "execution_count": 7,
      "outputs": [
        {
          "output_type": "stream",
          "text": [
            "0\n",
            "10\n",
            "0\n"
          ],
          "name": "stdout"
        }
      ]
    },
    {
      "cell_type": "markdown",
      "metadata": {
        "id": "Hyx65W_omhr3",
        "colab_type": "text"
      },
      "source": [
        "#**Criando Interação**\n",
        "\n",
        "Nessa interação será criado duas listas, uma para cliente e outra para lojas. Essas listas serão preenchidas com a quantidade de lojas e clientes máximos recebidos no argumento da função e, após isso, essa função cria acrescenta um salo aleatório nas contas dos clientes criados. A segunda função será feito uma função para calcular a média da satisfação adiquirida pelos clientes, média do saldo nas contas dos clientes, media nas contas das lojas, média dos custos dos produtos e média da satisfação fornecida pelas lojas. Por ultimo, a função será a interação propriamente dita, essa interação consiste em pegar o primeiro cliente e escolher uma loja aleatória para ele. Caso ela esteja disponível (ou seja, tenha capacidade > 0 então o cliente entra e, caso ele tenha dinheiro disponível, ele compra o produto e ganha a satisfação proporcionada. "
      ]
    },
    {
      "cell_type": "code",
      "metadata": {
        "id": "2KBWIVbzHVpV",
        "colab_type": "code",
        "colab": {}
      },
      "source": [
        "lojas = list()\n",
        "clientes = list()\n",
        "\n",
        "def criar_lojas(lojas_max):\n",
        "    for i in range(lojas_max):\n",
        "        lojas.append (Loja()) \n",
        "\n",
        "\n",
        "def criar_agentes(clientes_max):\n",
        "    for i in range(clientes_max):\n",
        "        clientes.append(Agent())\n",
        "    for i in clientes:\n",
        "        i.conta.Saldo(random.randint(10, 50))\n",
        "\n",
        "\n",
        "def media_experiencia():\n",
        "    experiencia_somada = 0\n",
        "    saldo_cli_somado = 0\n",
        "    saldo_loj_somado = 0\n",
        "    custo_somado = 0\n",
        "\n",
        "    for c in clientes:\n",
        "        experiencia_somada += c.satisfacao\n",
        "        saldo_cli_somado += c.conta.saldo\n",
        "    \n",
        "    for l in lojas:\n",
        "        saldo_loj_somado += l.conta.saldo\n",
        "        custo_somado += l.custo_produto\n",
        "\n",
        "    exp_media = experiencia_somada / len(clientes)\n",
        "    saldo_cli_media = saldo_cli_somado / len(clientes)\n",
        "    saldo_loj_media = saldo_loj_somado / len(lojas)\n",
        "    custo_medio = custo_somado / len(lojas)\n",
        "    print(exp_media)\n",
        "    print(saldo_cli_media)\n",
        "    print(saldo_loj_media)\n",
        "    print(custo_medio)\n",
        "\n",
        "\n",
        "def run_model():\n",
        "    for c in clientes:\n",
        "        # Escolhe uma loja aleatoria\n",
        "        l = random.choice(lojas)\n",
        "        # Verificar a capacidade\n",
        "        if l.capacidade > 1:\n",
        "            l.Capacidade(-1)\n",
        "            if l.custo_produto < c.conta.saldo:\n",
        "                c.conta.Saldo(-l.custo_produto)\n",
        "                c.Satisfacao(l.satisfacao)\n",
        "                l.conta.Saldo(l.custo_produto)\n"
      ],
      "execution_count": 8,
      "outputs": []
    },
    {
      "cell_type": "code",
      "metadata": {
        "id": "7FBsUf1y1YSS",
        "colab_type": "code",
        "colab": {
          "base_uri": "https://localhost:8080/",
          "height": 168
        },
        "outputId": "68309da8-dc0f-4455-88c5-42691203bfef"
      },
      "source": [
        "#Testando a Interação\n",
        "criar_lojas(100)\n",
        "criar_agentes(1000)\n",
        "\n",
        "print(clientes[1])\n",
        "print(clientes[1].conta.saldo)\n",
        "print(clientes[2].conta.saldo)\n",
        "print(clientes[2].satisfacao)\n",
        "print()\n",
        "print(lojas[1])\n",
        "print(lojas[1].conta.saldo)\n",
        "print(lojas[2].conta.saldo)\n",
        "print(lojas[2].satisfacao)"
      ],
      "execution_count": 9,
      "outputs": [
        {
          "output_type": "stream",
          "text": [
            "<__main__.Agent object at 0x7fee4117b588>\n",
            "18\n",
            "10\n",
            "0\n",
            "\n",
            "<__main__.Loja object at 0x7fee419b6fd0>\n",
            "0\n",
            "0\n",
            "0\n"
          ],
          "name": "stdout"
        }
      ]
    },
    {
      "cell_type": "code",
      "metadata": {
        "id": "RtzC8DMXE39Z",
        "colab_type": "code",
        "colab": {
          "base_uri": "https://localhost:8080/",
          "height": 84
        },
        "outputId": "a9fb8bb4-bc5a-4051-ba9c-d5288f0902c0"
      },
      "source": [
        "media_experiencia()"
      ],
      "execution_count": 10,
      "outputs": [
        {
          "output_type": "stream",
          "text": [
            "0.0\n",
            "30.412\n",
            "0.0\n",
            "5.749699999999999\n"
          ],
          "name": "stdout"
        }
      ]
    },
    {
      "cell_type": "markdown",
      "metadata": {
        "id": "0LSmRP2joowZ",
        "colab_type": "text"
      },
      "source": [
        "Capturando as inforamações iniciais do modelo para comparar com a final."
      ]
    },
    {
      "cell_type": "code",
      "metadata": {
        "id": "LLQZT9txyGXy",
        "colab_type": "code",
        "colab": {}
      },
      "source": [
        "#Capturando as Informações Iniciais\n",
        "inicial_clientes_saldo = []\n",
        "inicial_clientes_satis = []\n",
        "inicial_lojas_saldo = []\n",
        "inicial_lojas_satis = []\n",
        "inicial_lojas_produ = []\n",
        "\n",
        "for c in clientes:\n",
        "  inicial_clientes_saldo.append(c.conta.saldo)\n",
        "  inicial_clientes_satis.append(c.satisfacao)\n",
        "\n",
        "for l in lojas:\n",
        "  inicial_lojas_saldo.append(l.conta.saldo)\n",
        "  inicial_lojas_satis.append(l.satisfacao)\n",
        "  inicial_lojas_produ.append(l.custo_produto)\n",
        "\n",
        "#Rodando a Interação\n",
        "run_model()\n",
        "\n",
        "#Capturando as Informações Finais\n",
        "final_clientes_saldo = []\n",
        "final_clientes_satis = []\n",
        "final_lojas_saldo = []\n",
        "final_lojas_satis = []\n",
        "final_lojas_produ = []\n",
        "\n",
        "for c in clientes:\n",
        "  final_clientes_saldo.append(c.conta.saldo)\n",
        "  final_clientes_satis.append(c.satisfacao)\n",
        "\n",
        "for l in lojas:\n",
        "  final_lojas_saldo.append(l.conta.saldo)\n",
        "  final_lojas_satis.append(l.satisfacao)\n",
        "  final_lojas_produ.append(l.custo_produto)"
      ],
      "execution_count": 11,
      "outputs": []
    },
    {
      "cell_type": "code",
      "metadata": {
        "id": "e62o3MCi7FIV",
        "colab_type": "code",
        "colab": {
          "base_uri": "https://localhost:8080/",
          "height": 104
        },
        "outputId": "f91f9429-df81-4604-a814-67dc4306fcab"
      },
      "source": [
        "#Testando as Informações Geradas\n",
        "print(inicial_clientes_saldo)\n",
        "print(final_clientes_saldo)\n",
        "\n",
        "print(inicial_lojas_saldo)\n",
        "print(final_lojas_saldo)"
      ],
      "execution_count": 12,
      "outputs": [
        {
          "output_type": "stream",
          "text": [
            "[50, 18, 10, 45, 45, 43, 48, 30, 28, 48, 30, 33, 25, 22, 48, 33, 15, 29, 21, 35, 11, 35, 43, 37, 24, 26, 41, 19, 10, 43, 50, 14, 12, 41, 10, 14, 13, 28, 25, 34, 39, 24, 18, 49, 38, 12, 34, 48, 14, 25, 20, 47, 28, 22, 29, 38, 25, 25, 30, 27, 34, 42, 38, 13, 44, 39, 50, 17, 28, 20, 11, 25, 23, 25, 22, 27, 31, 32, 49, 31, 11, 11, 19, 37, 29, 42, 20, 46, 27, 46, 42, 39, 14, 19, 40, 12, 18, 12, 41, 44, 46, 19, 31, 23, 36, 15, 41, 47, 39, 15, 44, 25, 31, 44, 15, 25, 29, 23, 46, 19, 26, 46, 44, 41, 33, 18, 33, 47, 46, 46, 43, 19, 27, 42, 16, 14, 21, 41, 49, 24, 40, 29, 41, 22, 28, 34, 16, 31, 26, 28, 46, 33, 26, 39, 43, 29, 27, 38, 30, 27, 12, 43, 49, 25, 45, 40, 35, 12, 50, 22, 13, 38, 10, 14, 21, 12, 31, 40, 26, 12, 36, 33, 13, 23, 26, 28, 14, 16, 29, 22, 17, 30, 39, 32, 24, 49, 40, 22, 17, 31, 37, 10, 29, 47, 10, 23, 23, 37, 11, 40, 27, 37, 47, 21, 21, 41, 38, 17, 25, 29, 11, 14, 13, 49, 39, 10, 50, 16, 37, 33, 32, 25, 47, 41, 30, 30, 35, 22, 35, 23, 39, 32, 44, 25, 29, 18, 35, 30, 24, 16, 32, 20, 20, 46, 46, 10, 34, 30, 46, 47, 41, 15, 49, 20, 45, 37, 45, 21, 47, 31, 45, 37, 12, 40, 24, 47, 14, 45, 42, 47, 32, 18, 25, 14, 22, 29, 13, 23, 27, 49, 12, 10, 31, 40, 38, 27, 23, 23, 35, 22, 48, 44, 42, 28, 21, 29, 29, 10, 40, 49, 47, 36, 12, 23, 27, 10, 23, 39, 36, 23, 29, 14, 35, 39, 27, 28, 16, 37, 47, 10, 36, 19, 50, 28, 23, 11, 34, 40, 36, 18, 44, 22, 49, 31, 18, 37, 23, 47, 15, 20, 21, 25, 34, 15, 24, 31, 44, 21, 20, 48, 34, 37, 47, 20, 25, 50, 49, 19, 30, 28, 10, 28, 43, 27, 29, 45, 29, 34, 47, 30, 26, 18, 10, 22, 35, 38, 26, 43, 23, 22, 32, 48, 10, 45, 38, 42, 31, 14, 29, 26, 31, 29, 37, 35, 15, 24, 12, 20, 40, 46, 13, 17, 47, 11, 32, 50, 34, 46, 45, 40, 40, 25, 32, 19, 17, 28, 24, 39, 18, 37, 29, 23, 47, 32, 26, 31, 26, 37, 14, 34, 38, 19, 15, 32, 14, 23, 40, 18, 49, 50, 21, 19, 13, 22, 28, 39, 30, 13, 28, 13, 30, 34, 28, 24, 13, 12, 32, 20, 36, 18, 14, 31, 23, 34, 33, 13, 25, 36, 20, 36, 25, 16, 22, 27, 12, 42, 37, 25, 37, 23, 16, 36, 35, 32, 33, 40, 50, 32, 33, 44, 32, 42, 42, 14, 36, 25, 20, 32, 26, 25, 45, 48, 49, 24, 49, 13, 12, 50, 21, 12, 12, 18, 49, 21, 41, 30, 17, 18, 44, 30, 29, 39, 32, 34, 35, 12, 47, 27, 41, 32, 16, 47, 29, 21, 41, 36, 16, 31, 18, 13, 42, 13, 26, 43, 23, 21, 29, 30, 21, 16, 49, 38, 44, 44, 39, 11, 29, 30, 17, 38, 28, 28, 49, 45, 38, 38, 19, 12, 37, 21, 42, 26, 27, 47, 26, 16, 38, 18, 38, 40, 29, 49, 31, 20, 41, 33, 25, 39, 17, 35, 41, 43, 48, 35, 34, 47, 37, 36, 14, 44, 22, 37, 37, 29, 20, 21, 41, 20, 41, 12, 27, 27, 38, 20, 37, 36, 16, 43, 47, 34, 46, 14, 46, 37, 33, 18, 21, 21, 14, 17, 16, 42, 19, 14, 18, 14, 37, 16, 44, 45, 50, 48, 46, 12, 29, 49, 41, 27, 13, 11, 45, 37, 41, 41, 30, 35, 23, 42, 18, 20, 11, 36, 33, 10, 16, 26, 11, 39, 13, 38, 15, 49, 28, 25, 37, 21, 45, 29, 13, 13, 37, 36, 50, 34, 41, 34, 27, 44, 48, 43, 46, 43, 39, 38, 44, 20, 39, 11, 19, 20, 41, 25, 28, 23, 27, 26, 30, 39, 17, 39, 19, 42, 25, 16, 27, 47, 14, 26, 37, 46, 31, 21, 13, 19, 16, 32, 46, 34, 30, 25, 47, 19, 19, 50, 37, 50, 21, 24, 15, 29, 50, 12, 41, 13, 42, 33, 30, 37, 42, 25, 15, 44, 12, 11, 37, 18, 37, 39, 28, 45, 37, 34, 32, 29, 40, 40, 27, 47, 27, 35, 32, 12, 11, 14, 46, 42, 26, 41, 18, 31, 33, 46, 27, 40, 36, 20, 41, 36, 36, 43, 19, 12, 48, 42, 48, 40, 20, 49, 47, 44, 37, 47, 21, 14, 27, 47, 34, 27, 18, 41, 39, 35, 20, 20, 11, 46, 44, 41, 13, 41, 16, 27, 34, 44, 31, 41, 21, 44, 14, 44, 31, 28, 44, 35, 49, 49, 12, 42, 36, 45, 43, 35, 28, 38, 21, 18, 25, 49, 42, 28, 33, 20, 48, 38, 14, 17, 49, 26, 32, 34, 37, 30, 35, 41, 44, 34, 30, 32, 22, 24, 18, 28, 15, 31, 38, 41, 40, 12, 47, 13, 49, 18, 17, 42, 28, 37, 42, 38, 14, 13, 49, 35, 28, 38, 27, 12, 43, 16, 20, 30, 44, 46, 30, 30, 27, 25, 26, 30, 44, 39, 37, 27, 38, 39, 47, 47, 46, 28, 42, 23, 45, 11, 13, 32, 12, 26, 48, 22, 15, 32, 32, 27, 26, 33, 28, 25, 14, 46, 27, 44, 18, 42, 23, 26, 43, 28, 25, 24, 42, 32, 34, 46, 42, 34, 43, 21, 35, 28, 13, 28, 29, 22, 45, 16, 39, 16, 41, 26, 29, 34, 31, 27, 46, 37, 10, 31, 39, 49, 25, 29, 38, 49, 29, 22, 32, 46, 39, 15, 19, 33]\n",
            "[47.07, 16.38, 1.25, 38.79, 36.04, 33.2, 45.08, 28.61, 22.42, 44.44, 28.61, 27.16, 22.06, 20.93, 42.41, 31.64, 6.75, 21.09, 16.19, 32.03, 1.83, 26.810000000000002, 38.19, 29.91, 19.38, 22.23, 34.78, 9.83, 4.12, 37.92, 45.63, 8.16, 9.0, 31.93, 8.93, 7.14, 6.61, 18.2, 19.12, 28.41, 30.5, 19.77, 17.26, 42.33, 31.33, 10.379999999999999, 29.38, 39.730000000000004, 6.21, 15.83, 11.04, 42.19, 21.32, 18.68, 22.17, 35.08, 19.33, 21.009999999999998, 23.990000000000002, 21.16, 24.83, 34.38, 31.25, 8.18, 42.93, 29.83, 41.730000000000004, 14.64, 24.68, 11.5, 4.32, 18.29, 16.79, 17.37, 16.12, 22.259999999999998, 24.86, 29.03, 42.91, 26.16, 7.38, 6.18, 11.690000000000001, 31.33, 25.39, 38.25, 14.16, 43.0, 19.53, 40.42, 37.26, 31.37, 10.35, 15.01, 39.72, 2.83, 10.91, 6.41, 32.14, 34.53, 38.53, 9.55, 29.52, 19.23, 35.72, 10.85, 34.67, 38.730000000000004, 31.37, 10.629999999999999, 42.93, 16.61, 26.31, 39.18, 12.03, 22.03, 19.66, 21.74, 43.64, 14.82, 24.61, 36.06, 40.25, 35.41, 25.09, 9.81, 27.41, 40.78, 42.68, 43.03, 34.14, 10.14, 19.37, 33.97, 11.629999999999999, 4.550000000000001, 12.16, 34.86, 40.67, 14.93, 30.83, 19.060000000000002, 32.16, 14.09, 22.28, 27.33, 12.379999999999999, 24.14, 21.28, 21.19, 42.01, 28.16, 18.09, 29.55, 40.38, 19.55, 22.28, 29.14, 20.83, 18.97, 7.31, 36.67, 44.63, 15.06, 36.04, 33.67, 27.53, 5.79, 49.25, 13.16, 6.29, 33.769999999999996, 3.29, 12.61, 14.79, 6.05, 26.77, 35.28, 16.55, 5.32, 31.77, 31.74, 5.65, 18.19, 24.74, 26.61, 4.529999999999999, 13.08, 24.19, 14.690000000000001, 8.97, 21.97, 37.38, 26.33, 16.69, 40.81, 33.99, 19.0, 12.309999999999999, 25.12, 33.44, 6.38, 25.39, 43.39, 7.38, 17.41, 18.18, 30.86, 4.33, 35.18, 25.93, 33.01, 45.74, 14.29, 11.19, 31.189999999999998, 32.05, 13.35, 18.61, 24.77, 7.25, 10.23, 6.13, 40.13, 33.28, 1.1600000000000001, 47.38, 6.1899999999999995, 30.32, 26.67, 29.07, 18.14, 44.64, 40.72, 21.14, 23.29, 30.16, 12.55, 29.33, 18.19, 32.76, 28.68, 40.8, 17.53, 22.79, 10.91, 30.82, 27.4, 21.06, 8.65, 28.38, 16.23, 17.03, 39.33, 42.25, 5.85, 27.19, 22.53, 42.4, 44.03, 39.74, 6.25, 40.5, 11.07, 40.18, 32.63, 38.33, 19.38, 40.76, 24.78, 40.19, 33.44, 6.05, 37.38, 20.44, 39.69, 12.379999999999999, 37.53, 33.04, 40.24, 26.28, 9.04, 23.52, 9.629999999999999, 17.19, 22.79, 12.26, 19.35, 20.13, 44.16, 2.9299999999999997, 3.17, 28.4, 39.72, 36.93, 22.38, 19.44, 19.25, 26.97, 17.16, 39.5, 42.38, 34.09, 19.61, 17.39, 22.14, 23.16, 5.26, 31.810000000000002, 46.38, 45.28, 31.18, 10.28, 14.16, 25.38, 0.1899999999999995, 21.28, 30.75, 30.28, 20.03, 22.79, 12.379999999999999, 32.38, 30.130000000000003, 23.38, 22.92, 8.379999999999999, 32.16, 41.33, 6.25, 29.759999999999998, 16.07, 41.81, 23.38, 18.259999999999998, 2.6099999999999994, 30.25, 30.66, 34.61, 8.87, 39.38, 18.8, 48.72, 24.61, 17.72, 33.01, 16.33, 38.730000000000004, 6.130000000000001, 17.0, 17.38, 21.8, 30.23, 11.4, 20.39, 27.38, 37.79, 11.19, 13.76, 44.4, 30.009999999999998, 27.869999999999997, 41.05, 14.33, 19.42, 43.67, 39.2, 14.379999999999999, 24.12, 27.25, 1.67, 24.38, 33.55, 25.93, 24.19, 39.28, 23.41, 27.13, 37.87, 29.72, 24.52, 11.33, 2.6500000000000004, 15.33, 34.26, 30.91, 24.52, 36.76, 17.28, 13.5, 28.35, 48, 6.4399999999999995, 41.44, 34.35, 34.09, 22.04, 10.35, 21.91, 23.38, 22.75, 23.42, 30.29, 27.69, 6.8100000000000005, 15.61, 5.24, 18.64, 37.08, 42.4, 5.38, 17, 44.0, 8.379999999999999, 26.28, 47.08, 24.53, 40.33, 35.55, 35.82, 30.310000000000002, 18.79, 29.4, 12.29, 9.370000000000001, 23.31, 17.96, 35.44, 11.24, 35.64, 26.64, 21.38, 37.31, 25.17, 25.26, 24.91, 19.61, 28.75, 6.09, 30.39, 34.23, 14.629999999999999, 9.280000000000001, 28.009999999999998, 7.61, 13.55, 33.61, 11.96, 39.93, 40.87, 14.24, 14.82, 11.93, 13.25, 25.03, 32.79, 24.42, 9.01, 25.38, 5.91, 27.06, 30.8, 21.13, 15.5, 3.1899999999999995, 7.38, 24.69, 12.21, 33.07, 16.38, 6.37, 27.23, 19.35, 27.25, 26.240000000000002, 11.93, 15.19, 29.61, 12.530000000000001, 32.4, 18.13, 10.05, 12.87, 22.18, 2.66, 34.38, 28.61, 16.5, 30.67, 16.67, 9.61, 28.69, 26.14, 29.64, 29.009999999999998, 31.130000000000003, 44.05, 28.4, 29.8, 35.07, 31.25, 36.42, 35.24, 5.130000000000001, 27.75, 18.759999999999998, 20, 25.96, 18.91, 16.75, 38.79, 40.91, 42.13, 20.38, 40.13, 5.09, 5.14, 43.32, 11.83, 5.79, 9.379999999999999, 9.25, 42.24, 11.2, 31.189999999999998, 26.23, 11.41, 12.92, 34.53, 30, 25.4, 32.79, 28.35, 24.189999999999998, 32.64, 7.19, 41.28, 20.17, 34.61, 25.17, 12.8, 45.64, 20.75, 14.86, 34.99, 26.310000000000002, 11.85, 21.189999999999998, 11.25, 8.82, 33.14, 6.79, 21.19, 36.86, 18.63, 18.38, 24.259999999999998, 20.869999999999997, 15.280000000000001, 8.690000000000001, 47.28, 31.13, 35.07, 38.92, 37.61, 3.91, 26.4, 28.93, 16.26, 31.14, 22.12, 23.85, 43.41, 40.18, 31.13, 31.79, 19, 8.01, 27.55, 18.06, 33.5, 20.05, 20.91, 41.12, 17.97, 9.190000000000001, 28.189999999999998, 11.190000000000001, 33.26, 33.89, 22.759999999999998, 39.55, 24.240000000000002, 17.64, 35.05, 26.79, 15.19, 30.67, 12.379999999999999, 26.61, 31.55, 35.91, 41.25, 31.009999999999998, 27.240000000000002, 38.61, 34.03, 29.86, 10.25, 42.28, 19.06, 30.61, 34.4, 24.18, 17.08, 15.280000000000001, 31.060000000000002, 10.87, 37.23, 12, 18.73, 19.21, 34.35, 10.66, 30.13, 29.33, 9.14, 38.16, 43.8, 25.16, 36.93, 4.550000000000001, 37.97, 27.55, 25.21, 9.04, 19.28, 18.07, 5.609999999999999, 15.28, 13.0, 35.29, 12.32, 5.140000000000001, 11.33, 4.83, 31.16, 11.190000000000001, 37.25, 35.87, 40.19, 39.07, 39.25, 7.26, 22.33, 42.91, 32.04, 26.26, 6.67, 2.9700000000000006, 38.61, 30.14, 31.55, 31.83, 30, 25.55, 17.33, 35.89, 11.780000000000001, 10.19, 6.18, 28.09, 28.82, 1.0700000000000003, 12.01, 17.75, 4.17, 29.53, 6.33, 29.5, 13.64, 42.61, 18.060000000000002, 22.4, 30.86, 16.28, 40.16, 19.55, 9.68, 8.18, 29.21, 28.53, 45.38, 30.23, 35.33, 32.52, 23.44, 40.39, 43.28, 40.38, 43.08, 35.65, 30.75, 32.12, 41.08, 11.13, 32.61, 3.21, 15.25, 12.690000000000001, 37.01, 15.2, 23.38, 21.61, 20.89, 24.28, 20.53, 35.4, 10.67, 31.21, 12.76, 32.19, 16.75, 12.8, 18.75, 40.32, 8.92, 22.68, 30.19, 44.64, 27.68, 12.13, 12.26, 14.26, 9.67, 24.37, 43.06, 25.04, 24.28, 17.91, 38.04, 10.75, 14.309999999999999, 43.91, 32.18, 47.4, 13.530000000000001, 19.28, 11.39, 27.74, 47.0, 4.09, 37.25, 6.19, 33.13, 28.28, 28.61, 27.869999999999997, 32.87, 20.16, 11.01, 38.16, 3.9700000000000006, 2.9700000000000006, 30.17, 11.79, 33.25, 34.85, 24.35, 38.79, 33.23, 27.89, 25.759999999999998, 20.61, 37.4, 34.28, 24.08, 40.14, 21.12, 25.66, 25.91, 7.63, 7.35, 7.78, 36.93, 34.91, 23.08, 41, 15.0, 24.79, 28.18, 36.83, 20.25, 33.24, 27.07, 12.370000000000001, 31.83, 27.67, 31.38, 36.24, 10.16, 6.42, 45.4, 35.79, 41.86, 31.25, 13.96, 39.66, 44.03, 36.91, 29.21, 38.67, 17.39, 8.33, 21.42, 43.25, 27.32, 24.06, 9.73, 34.99, 30.5, 32.38, 12.379999999999999, 10.31, 2.16, 40.92, 36.53, 32.14, 6.24, 33.69, 7.970000000000001, 22.82, 25.04, 38.16, 27.44, 33.38, 16.18, 38.05, 7.76, 40.39, 30.25, 19.14, 35.04, 26.67, 45.8, 47.64, 3.0700000000000003, 36.28, 34.74, 38.86, 40.07, 28.29, 21.14, 32.05, 14.61, 11.29, 21.25, 49, 40.28, 24.23, 28.259999999999998, 11.25, 46.28, 34.35, 5.25, 8.16, 42.19, 19.14, 29.64, 27.96, 28.75, 20.060000000000002, 31.25, 37.35, 41.08, 26.09, 22.53, 27.82, 20.93, 20.38, 17.25, 25.4, 9.120000000000001, 30.25, 32.42, 34.61, 33.17, 5.67, 37.53, 7.42, 39.66, 12.280000000000001, 13.8, 41.26, 24.8, 30.67, 34.21, 29.75, 6.38, 8.18, 42.76, 28.89, 20.37, 36.28, 18.810000000000002, 3.9700000000000006, 33.66, 9.99, 18.52, 20.83, 38.41, 37.5, 20.310000000000002, 27.4, 21.05, 18.240000000000002, 19.240000000000002, 23.96, 36.38, 32.79, 35.52, 26.26, 38, 36.08, 43.38, 38.13, 44.64, 26.64, 35.99, 13.55, 40.769999999999996, 3.6500000000000004, 7.05, 24.38, 3.16, 22.38, 44.01, 13.73, 10.280000000000001, 25.33, 23.04, 25.38, 21.28, 26.240000000000002, 20.91, 21.44, 6.37, 44.74, 24.03, 35.67, 16.61, 32.06, 16.79, 19.17, 33.83, 18.869999999999997, 22.08, 22.93, 38.68, 30.38, 26.37, 37.97, 40.38, 30.8, 39.25, 16.28, 27.91, 22.33, 7.12, 24.68, 19.060000000000002, 17.82, 43.74, 6.550000000000001, 36.0, 11.280000000000001, 41, 18.09, 24.31, 32.61, 21.060000000000002, 23.8, 38.09, 28.16, 0.5299999999999994, 26.77, 32.61, 42.89, 15.87, 22.91, 31.96, 47.74, 22.33, 12.55, 29.06, 44.74, 37.64, 12.379999999999999, 12.14, 23.060000000000002]\n",
            "[0, 0, 0, 0, 0, 0, 0, 0, 0, 0, 0, 0, 0, 0, 0, 0, 0, 0, 0, 0, 0, 0, 0, 0, 0, 0, 0, 0, 0, 0, 0, 0, 0, 0, 0, 0, 0, 0, 0, 0, 0, 0, 0, 0, 0, 0, 0, 0, 0, 0, 0, 0, 0, 0, 0, 0, 0, 0, 0, 0, 0, 0, 0, 0, 0, 0, 0, 0, 0, 0, 0, 0, 0, 0, 0, 0, 0, 0, 0, 0, 0, 0, 0, 0, 0, 0, 0, 0, 0, 0, 0, 0, 0, 0, 0, 0, 0, 0, 0, 0]\n",
            "[47.44999999999999, 86.93999999999998, 47.67, 1.9600000000000002, 67.1, 50.81999999999999, 42.66000000000001, 31.099999999999998, 55.79999999999999, 83.92999999999999, 45.24000000000001, 46.72, 100.05000000000001, 75.96, 43.44, 58.309999999999995, 23.520000000000003, 28.800000000000004, 88.7, 75.51, 28.140000000000004, 93.5, 97.24000000000002, 48.2, 71.40000000000002, 17.580000000000002, 39.33, 4.5, 12.840000000000002, 106.35000000000004, 75.60000000000001, 13.86, 53.44, 82.17, 116.48000000000005, 85.8, 29.88, 21.06000000000001, 104.39, 55.900000000000006, 18.88, 137.54999999999998, 57.720000000000006, 62.51, 109.55999999999999, 55.26, 37.96000000000001, 57.889999999999986, 54.42, 36.059999999999995, 41.6, 74.72000000000001, 62.37000000000001, 20.75, 68.58, 61.25, 147.15, 36.68000000000001, 42.28, 113.40000000000002, 99.39999999999999, 75.76, 37.62, 102.82999999999997, 36.660000000000004, 6.660000000000001, 61.46999999999999, 70.11, 115.5, 29.610000000000003, 57.32999999999999, 68.64000000000001, 43.56, 28.92, 36.1, 42.629999999999995, 13.599999999999998, 27.0, 102.24, 35.63999999999999, 64.68, 88.6, 18.92, 49.68, 30.479999999999997, 36.75, 48.449999999999996, 82.32000000000001, 15.290000000000003, 59.85000000000002, 47.25, 49.0, 51.919999999999995, 73.10000000000001, 101.40000000000002, 10.360000000000001, 56.25, 28.600000000000005, 61.82999999999999, 39.160000000000004]\n"
          ],
          "name": "stdout"
        }
      ]
    },
    {
      "cell_type": "markdown",
      "metadata": {
        "id": "p7o_JaJLXgpT",
        "colab_type": "text"
      },
      "source": [
        "# **Exportando**\n",
        "Para Exportar primeiro é criado uma tabela com as informações do cliente e a exporta para csv usando o comando *to_csv* do pandas. Após isso faz o mesmo procedimento para as informações da loja."
      ]
    },
    {
      "cell_type": "code",
      "metadata": {
        "id": "9qATUanInsMM",
        "colab_type": "code",
        "colab": {}
      },
      "source": [
        "data_cli = {\n",
        "    'Saldo Clientes Inicial': inicial_clientes_saldo,\n",
        "    'Saldo Clientes Final':final_clientes_saldo,\n",
        "    'Satisfação Clientes Inicial':inicial_clientes_satis,\n",
        "    'Satisfação Clientes Final':final_clientes_satis\n",
        "}\n",
        "df_cli = pd.DataFrame(data_cli, columns=['Saldo Clientes Inicial','Saldo Clientes Final',\n",
        "                                         'Satisfação Clientes Inicial','Satisfação Clientes Final'])\n",
        "df_cli.to_csv(\"csv_cli.csv\")\n",
        "\n",
        "data_loj = {\n",
        "    'Saldo Lojas Inicial': inicial_lojas_saldo,\n",
        "    'Saldo Lojas Final': final_lojas_saldo,\n",
        "    'Satisfação Lojas Inicial': inicial_lojas_satis,\n",
        "    'Satisfação Lojas Final': final_lojas_satis,\n",
        "    'Custo Lojas Inicial':inicial_lojas_produ,\n",
        "    'Custo Lojas Final':final_lojas_produ\n",
        "}\n",
        "\n",
        "df_loj = pd.DataFrame(data_loj, columns=['Saldo Lojas Inicial','Saldo Lojas Final',\n",
        "                                         'Satisfação Lojas Inicial','Satisfação Lojas Final',\n",
        "                                         'Custo Lojas Inicial','Custo Lojas Final'])\n",
        "\n",
        "df_loj.to_csv(\"csv_loj.csv\")"
      ],
      "execution_count": 13,
      "outputs": []
    }
  ]
}
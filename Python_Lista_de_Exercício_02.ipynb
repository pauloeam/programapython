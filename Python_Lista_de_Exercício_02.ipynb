{
  "nbformat": 4,
  "nbformat_minor": 0,
  "metadata": {
    "colab": {
      "name": "Python_Lista_de_Exercício_02.ipynb",
      "provenance": [],
      "toc_visible": true,
      "authorship_tag": "ABX9TyPJsEBCzRMttBgbV2st4xYh"
    },
    "kernelspec": {
      "name": "python3",
      "display_name": "Python 3"
    }
  },
  "cells": [
    {
      "cell_type": "markdown",
      "metadata": {
        "id": "XX9dvJGWFwgu",
        "colab_type": "text"
      },
      "source": [
        "# **Python para Modelagem Baseada em Agentes**\n",
        "**Lista de Exercício 2**\n",
        "\n",
        "**Professor:** Bernardo Furtado\n",
        "\n",
        "**Aluno:** Paulo Estevão Alvarenga Martins"
      ]
    },
    {
      "cell_type": "markdown",
      "metadata": {
        "id": "3FLtsn31RKSL",
        "colab_type": "text"
      },
      "source": [
        "#**Definições Iniciais**\n",
        "Nessa primeira seção estamos definindo as *librarys* que iremos usar ao londo do programa. A função ramdom irá fornecer os números aleatórios a a função pandas irá nos possibitar a manipulação dos dados gerados pela simulação."
      ]
    },
    {
      "cell_type": "code",
      "metadata": {
        "id": "wQUWpd9XRUWD",
        "colab_type": "code",
        "colab": {}
      },
      "source": [
        "import random\n",
        "import pandas as pd"
      ],
      "execution_count": 1,
      "outputs": []
    },
    {
      "cell_type": "markdown",
      "metadata": {
        "id": "-CdbyvbDDCMt",
        "colab_type": "text"
      },
      "source": [
        "# **Definindo a Classe Conta**\n",
        "A classe conta carrega a informação de saldo dentro que se origina zerado. Para acrescentar ou retirar um valor no saldo atual utiliza-se a função *Saldo(valor)* onde *valor* deve ser um número positivo para créditos ou negativo para debitos nessa conta."
      ]
    },
    {
      "cell_type": "code",
      "metadata": {
        "id": "eKs_aSdFDGz5",
        "colab_type": "code",
        "colab": {}
      },
      "source": [
        "class Conta:\n",
        "\n",
        "    def __init__(self):\n",
        "        self.saldo = 0\n",
        "\n",
        "    def Saldo(self, quantia):\n",
        "        self.saldo += quantia\n"
      ],
      "execution_count": 2,
      "outputs": []
    },
    {
      "cell_type": "code",
      "metadata": {
        "id": "6XDumFj7IIl7",
        "colab_type": "code",
        "colab": {
          "base_uri": "https://localhost:8080/",
          "height": 50
        },
        "outputId": "aa675e2d-d84f-46f3-f3f7-824ce6c3e162"
      },
      "source": [
        "#testando a classe conta criada\n",
        "Conta_01 = Conta()\n",
        "print(Conta_01.saldo)\n",
        "Conta_01.Saldo(2.22)\n",
        "print(Conta_01.saldo)"
      ],
      "execution_count": 3,
      "outputs": [
        {
          "output_type": "stream",
          "text": [
            "0\n",
            "2.22\n"
          ],
          "name": "stdout"
        }
      ]
    },
    {
      "cell_type": "markdown",
      "metadata": {
        "id": "-vPjmwZ5DQTv",
        "colab_type": "text"
      },
      "source": [
        "# **Definindo a Classe Loja**\n",
        "A classe loja carrega as informações de conta (conta), custo do produto (custo_produto), satisfação proporcionada (satisfacao) e capacidade (capacidade): \n",
        "\n",
        "A informação de conta está atrelada a classe conta já criada. \n",
        "\n",
        "O custo do produto é criado por uma função aleatória variando de 0 até 10 e possui 2 casas decimais. \n",
        "\n",
        "A satisfação proporcionada corresponde a sastisfação que o cliente adquire quando compra um produto. A satisfação da compra em uma loja é dada por uma função aleatória composta por apenas números inteiros de 0 até 10.\n",
        "\n",
        "A capacidade está relacionada a quantidade de pessoas que a loja suporta. Essa informação será usada para limitar a quantidade de clientes que irão entrar em uma loja. Quando um cliente entrar na loja utiliza-se a função *Capacidade(-1)* e quando ele sair *Capacidade(+1)*"
      ]
    },
    {
      "cell_type": "code",
      "metadata": {
        "id": "3o2Gh6DBDWXN",
        "colab_type": "code",
        "colab": {}
      },
      "source": [
        "class Loja:\n",
        "\n",
        "    def __init__(self):\n",
        "        self.conta = Conta()\n",
        "        self.custo_produto = round(random.random() * 10, 2)\n",
        "        self.satisfacao = random.randint(0, 10)\n",
        "        self.capacidade = random.randint(5, 200)\n",
        "\n",
        "    def Capacidade(self, quantia):\n",
        "        self.capacidade += quantia   \n"
      ],
      "execution_count": 4,
      "outputs": []
    },
    {
      "cell_type": "code",
      "metadata": {
        "id": "huGgOH3vcK5c",
        "colab_type": "code",
        "colab": {
          "base_uri": "https://localhost:8080/",
          "height": 101
        },
        "outputId": "8faf201b-1fda-41d9-fdf8-95de17127ff8"
      },
      "source": [
        "#testando a classe conta criada\n",
        "Loja_01 = Loja()\n",
        "print(Loja_01.conta.saldo)\n",
        "print(Loja_01.custo_produto)\n",
        "print(Loja_01.satisfacao)\n",
        "print(Loja_01.capacidade)\n",
        "Loja_01.Capacidade(-1)\n",
        "print(Loja_01.capacidade)"
      ],
      "execution_count": 5,
      "outputs": [
        {
          "output_type": "stream",
          "text": [
            "0\n",
            "2.13\n",
            "1\n",
            "94\n",
            "93\n"
          ],
          "name": "stdout"
        }
      ]
    },
    {
      "cell_type": "markdown",
      "metadata": {
        "id": "6dOoTw5wDVtr",
        "colab_type": "text"
      },
      "source": [
        "# **Definindo a Classe Agente**\n",
        "A classe Agente carrega a informação de conta (conta) e satisfação obtida (satisfacao). A informação de conta está atrelada a classe conta já criada e a satisfação obtida se origina zerada, mas caso o agente compre algum produto ele adquire acrescenta a satisfação da loja em sua satisfação usando a função *Satisfacao(quantia)* onde quantia será a satisfação da loja."
      ]
    },
    {
      "cell_type": "code",
      "metadata": {
        "id": "o0B6qMtwCVBj",
        "colab_type": "code",
        "colab": {}
      },
      "source": [
        "class Agent:\n",
        "\n",
        "  def __init__(self):\n",
        "    self.conta = Conta()\n",
        "    self.satisfacao = 0\n",
        "\n",
        "  def Satisfacao (self, quantia):\n",
        "      self.satisfacao += quantia\n"
      ],
      "execution_count": 6,
      "outputs": []
    },
    {
      "cell_type": "code",
      "metadata": {
        "id": "SVvqdHxEG-FQ",
        "colab_type": "code",
        "colab": {
          "base_uri": "https://localhost:8080/",
          "height": 67
        },
        "outputId": "4b8aab47-0197-4d12-cd7e-ecbf7394b5ae"
      },
      "source": [
        "#testando a classe conta criada\n",
        "Cliente_01 = Agent()\n",
        "print(Cliente_01.conta.saldo)\n",
        "Cliente_01.conta.Saldo(10)\n",
        "print(Cliente_01.conta.saldo)\n",
        "print(Cliente_01.satisfacao)"
      ],
      "execution_count": 7,
      "outputs": [
        {
          "output_type": "stream",
          "text": [
            "0\n",
            "10\n",
            "0\n"
          ],
          "name": "stdout"
        }
      ]
    },
    {
      "cell_type": "markdown",
      "metadata": {
        "id": "Hyx65W_omhr3",
        "colab_type": "text"
      },
      "source": [
        "#**Criando Interação**\n",
        "\n",
        "Nessa interação será criado duas listas, uma para cliente e outra para lojas. Essas listas serão preenchidas com a quantidade de lojas e clientes máximos recebidos no argumento da função e, após isso, essa função cria acrescenta um salo aleatório nas contas dos clientes criados. A segunda função será feito uma função para calcular a média da satisfação adiquirida pelos clientes, média do saldo nas contas dos clientes, media nas contas das lojas, média dos custos dos produtos e média da satisfação fornecida pelas lojas. Por ultimo, a função será a interação propriamente dita, essa interação consiste em pegar o primeiro cliente e escolher uma loja aleatória para ele. Caso ela esteja disponível (ou seja, tenha capacidade > 0 então o cliente entra e, caso ele tenha dinheiro disponível, ele compra o produto e ganha a satisfação proporcionada. "
      ]
    },
    {
      "cell_type": "code",
      "metadata": {
        "id": "2KBWIVbzHVpV",
        "colab_type": "code",
        "colab": {}
      },
      "source": [
        "lojas = list()\n",
        "clientes = list()\n",
        "\n",
        "def criar_lojas(lojas_max):\n",
        "    for i in range(lojas_max):\n",
        "        lojas.append (Loja()) \n",
        "\n",
        "\n",
        "def criar_agentes(clientes_max):\n",
        "    for i in range(clientes_max):\n",
        "        clientes.append(Agent())\n",
        "    for i in clientes:\n",
        "        i.conta.Saldo(random.randint(10, 50))\n",
        "\n",
        "\n",
        "def media_experiencia():\n",
        "    experiencia_somada = 0\n",
        "    saldo_cli_somado = 0\n",
        "    saldo_loj_somado = 0\n",
        "    custo_somado = 0\n",
        "\n",
        "    for c in clientes:\n",
        "        experiencia_somada += c.satisfacao\n",
        "        saldo_cli_somado += c.conta.saldo\n",
        "    \n",
        "    for l in lojas:\n",
        "        saldo_loj_somado += l.conta.saldo\n",
        "        custo_somado += l.custo_produto\n",
        "\n",
        "    exp_media = experiencia_somada / len(clientes)\n",
        "    saldo_cli_media = saldo_cli_somado / len(clientes)\n",
        "    saldo_loj_media = saldo_loj_somado / len(lojas)\n",
        "    custo_medio = custo_somado / len(lojas)\n",
        "    print(exp_media)\n",
        "    print(saldo_cli_media)\n",
        "    print(saldo_loj_media)\n",
        "    print(custo_medio)\n",
        "\n",
        "\n",
        "def run_model():\n",
        "    for c in clientes:\n",
        "        # Escolhe uma loja aleatoria\n",
        "        l = random.choice(lojas)\n",
        "        # Verificar a capacidade\n",
        "        if l.capacidade > 1:\n",
        "            l.Capacidade(-1)\n",
        "            if l.custo_produto < c.conta.saldo:\n",
        "                c.conta.Saldo(-l.custo_produto)\n",
        "                c.Satisfacao(l.satisfacao)\n",
        "                l.conta.Saldo(l.custo_produto)\n"
      ],
      "execution_count": 8,
      "outputs": []
    },
    {
      "cell_type": "code",
      "metadata": {
        "id": "7FBsUf1y1YSS",
        "colab_type": "code",
        "colab": {
          "base_uri": "https://localhost:8080/",
          "height": 168
        },
        "outputId": "044f2040-07b4-4944-960e-e8b9ece70a9e"
      },
      "source": [
        "#Testando a Interação\n",
        "criar_lojas(100)\n",
        "criar_agentes(1000)\n",
        "\n",
        "print(clientes[1])\n",
        "print(clientes[1].conta.saldo)\n",
        "print(clientes[2].conta.saldo)\n",
        "print(clientes[2].satisfacao)\n",
        "print()\n",
        "print(lojas[1])\n",
        "print(lojas[1].conta.saldo)\n",
        "print(lojas[2].conta.saldo)\n",
        "print(lojas[2].satisfacao)"
      ],
      "execution_count": 9,
      "outputs": [
        {
          "output_type": "stream",
          "text": [
            "<__main__.Agent object at 0x7f5e53ec15f8>\n",
            "15\n",
            "12\n",
            "0\n",
            "\n",
            "<__main__.Loja object at 0x7f5e546f6c50>\n",
            "0\n",
            "0\n",
            "4\n"
          ],
          "name": "stdout"
        }
      ]
    },
    {
      "cell_type": "markdown",
      "metadata": {
        "id": "0LSmRP2joowZ",
        "colab_type": "text"
      },
      "source": [
        "Capturando as inforamações iniciais do modelo para comparar com a final."
      ]
    },
    {
      "cell_type": "code",
      "metadata": {
        "id": "LLQZT9txyGXy",
        "colab_type": "code",
        "colab": {
          "base_uri": "https://localhost:8080/",
          "height": 101
        },
        "outputId": "c62d645e-7661-4b64-e662-4e6995a1f3e6"
      },
      "source": [
        "#Capturando as Informações Iniciais\n",
        "inicial_clientes_saldo = []\n",
        "inicial_clientes_satis = []\n",
        "inicial_lojas_saldo = []\n",
        "inicial_lojas_satis = []\n",
        "inicial_lojas_produ = []\n",
        "\n",
        "for c in clientes:\n",
        "  inicial_clientes_saldo.append(c.conta.saldo)\n",
        "  inicial_clientes_satis.append(c.satisfacao)\n",
        "\n",
        "for l in lojas:\n",
        "  inicial_lojas_saldo.append(l.conta.saldo)\n",
        "  inicial_lojas_satis.append(l.satisfacao)\n",
        "  inicial_lojas_produ.append(l.custo_produto)\n",
        "\n",
        "#Rodando a Interação\n",
        "run_model()\n",
        "print(\"Rodando a Média de Experiência\")\n",
        "media_experiencia()\n",
        "\n",
        "#Capturando as Informações Finais\n",
        "final_clientes_saldo = []\n",
        "final_clientes_satis = []\n",
        "final_lojas_saldo = []\n",
        "final_lojas_satis = []\n",
        "final_lojas_produ = []\n",
        "\n",
        "for c in clientes:\n",
        "  final_clientes_saldo.append(c.conta.saldo)\n",
        "  final_clientes_satis.append(c.satisfacao)\n",
        "\n",
        "for l in lojas:\n",
        "  final_lojas_saldo.append(l.conta.saldo)\n",
        "  final_lojas_satis.append(l.satisfacao)\n",
        "  final_lojas_produ.append(l.custo_produto)"
      ],
      "execution_count": 10,
      "outputs": [
        {
          "output_type": "stream",
          "text": [
            "Rodando a Média de Experiência\n",
            "4.997\n",
            "24.79957000000005\n",
            "50.7743\n",
            "5.202299999999999\n"
          ],
          "name": "stdout"
        }
      ]
    },
    {
      "cell_type": "code",
      "metadata": {
        "id": "e62o3MCi7FIV",
        "colab_type": "code",
        "colab": {
          "base_uri": "https://localhost:8080/",
          "height": 104
        },
        "outputId": "19bae836-159a-4a2c-8f9b-9ca171902df9"
      },
      "source": [
        "#Testando as Informações Geradas\n",
        "print(inicial_clientes_saldo)\n",
        "print(final_clientes_saldo)\n",
        "\n",
        "print(inicial_lojas_saldo)\n",
        "print(final_lojas_saldo)"
      ],
      "execution_count": 11,
      "outputs": [
        {
          "output_type": "stream",
          "text": [
            "[42, 15, 12, 36, 10, 12, 31, 47, 30, 12, 10, 26, 11, 19, 15, 11, 39, 47, 15, 11, 29, 18, 41, 48, 42, 39, 14, 24, 31, 10, 44, 35, 39, 42, 21, 33, 29, 30, 29, 46, 17, 16, 32, 23, 16, 10, 41, 25, 39, 12, 30, 50, 19, 18, 13, 28, 42, 37, 14, 30, 14, 26, 32, 43, 45, 10, 11, 26, 45, 39, 14, 48, 13, 31, 28, 48, 16, 15, 44, 11, 48, 33, 43, 46, 14, 13, 33, 42, 20, 14, 10, 48, 23, 41, 48, 33, 17, 39, 49, 23, 50, 24, 22, 15, 17, 10, 35, 44, 49, 39, 42, 42, 14, 32, 10, 35, 48, 44, 37, 33, 21, 42, 32, 28, 24, 48, 39, 43, 13, 30, 19, 43, 29, 36, 41, 46, 44, 38, 50, 41, 10, 33, 25, 24, 40, 11, 37, 32, 14, 18, 19, 41, 14, 42, 22, 28, 16, 14, 16, 24, 37, 47, 12, 36, 40, 27, 15, 25, 12, 13, 43, 34, 37, 28, 18, 15, 21, 15, 27, 18, 22, 37, 30, 35, 23, 37, 41, 23, 27, 38, 23, 40, 32, 17, 32, 23, 49, 42, 48, 46, 32, 36, 34, 23, 26, 33, 14, 13, 45, 25, 31, 17, 40, 14, 49, 49, 30, 14, 32, 22, 50, 45, 44, 24, 12, 22, 24, 45, 42, 36, 26, 43, 32, 23, 11, 42, 35, 46, 36, 12, 39, 16, 30, 22, 46, 27, 44, 27, 23, 17, 36, 39, 27, 19, 11, 17, 22, 22, 50, 22, 48, 16, 43, 31, 45, 38, 41, 45, 18, 29, 21, 34, 49, 27, 25, 22, 14, 32, 32, 29, 46, 14, 15, 46, 16, 21, 24, 50, 28, 25, 25, 29, 38, 46, 26, 16, 22, 47, 31, 26, 47, 42, 21, 31, 48, 30, 10, 20, 20, 38, 40, 15, 26, 26, 29, 28, 33, 21, 30, 23, 29, 47, 41, 37, 28, 46, 47, 10, 45, 28, 20, 41, 42, 41, 18, 34, 11, 26, 24, 29, 15, 18, 30, 45, 15, 39, 39, 10, 33, 10, 39, 20, 36, 46, 37, 12, 13, 48, 50, 46, 10, 35, 12, 18, 22, 36, 10, 27, 42, 22, 37, 28, 31, 27, 30, 23, 18, 10, 28, 32, 25, 27, 45, 42, 18, 22, 30, 26, 18, 39, 27, 21, 48, 32, 12, 30, 47, 12, 40, 24, 31, 29, 48, 22, 45, 49, 26, 20, 19, 49, 31, 26, 36, 31, 30, 20, 33, 28, 13, 38, 14, 20, 36, 48, 19, 34, 44, 43, 24, 50, 34, 20, 36, 18, 45, 42, 32, 47, 13, 41, 46, 36, 18, 48, 37, 38, 41, 33, 21, 25, 27, 22, 14, 37, 17, 28, 38, 38, 45, 38, 29, 45, 37, 25, 19, 26, 31, 15, 10, 28, 18, 29, 16, 12, 47, 46, 45, 25, 39, 32, 22, 23, 50, 14, 30, 32, 45, 34, 16, 35, 28, 25, 35, 25, 16, 20, 23, 34, 24, 48, 16, 35, 34, 28, 27, 25, 36, 32, 23, 14, 19, 14, 24, 29, 29, 16, 18, 16, 13, 26, 50, 36, 25, 48, 33, 15, 36, 48, 40, 10, 41, 11, 20, 44, 45, 14, 24, 27, 11, 10, 35, 23, 48, 33, 29, 35, 12, 27, 20, 40, 23, 38, 28, 10, 20, 13, 43, 31, 50, 32, 39, 37, 38, 18, 47, 29, 32, 24, 14, 25, 48, 31, 13, 20, 10, 26, 50, 10, 36, 18, 12, 15, 47, 36, 38, 30, 37, 27, 32, 12, 10, 16, 34, 42, 12, 31, 44, 26, 10, 37, 18, 46, 17, 45, 40, 33, 20, 25, 31, 42, 17, 35, 40, 27, 45, 29, 30, 15, 49, 35, 19, 45, 11, 29, 24, 41, 49, 31, 40, 35, 42, 26, 22, 24, 50, 29, 17, 30, 12, 40, 39, 47, 24, 17, 16, 44, 15, 14, 45, 37, 27, 10, 32, 48, 32, 41, 21, 33, 26, 35, 47, 20, 39, 39, 19, 17, 11, 37, 23, 46, 32, 48, 46, 30, 39, 11, 22, 35, 27, 30, 23, 32, 28, 27, 19, 43, 43, 12, 37, 42, 48, 45, 33, 16, 27, 44, 49, 23, 19, 10, 25, 32, 22, 23, 35, 50, 41, 17, 20, 23, 44, 23, 50, 10, 44, 50, 31, 29, 11, 16, 20, 13, 10, 18, 44, 11, 20, 13, 49, 35, 16, 19, 42, 46, 20, 26, 29, 30, 50, 15, 42, 36, 15, 12, 35, 39, 34, 14, 37, 35, 12, 17, 16, 22, 12, 22, 37, 12, 36, 19, 48, 13, 37, 12, 49, 45, 11, 24, 27, 34, 37, 12, 37, 32, 26, 21, 20, 35, 25, 46, 38, 10, 28, 49, 22, 31, 12, 40, 24, 44, 50, 41, 32, 37, 20, 42, 14, 34, 30, 14, 42, 21, 11, 41, 26, 40, 26, 22, 43, 46, 39, 39, 44, 30, 16, 44, 28, 33, 10, 20, 39, 24, 48, 50, 49, 16, 47, 39, 30, 20, 10, 33, 49, 34, 44, 48, 41, 26, 19, 39, 29, 43, 25, 29, 19, 11, 50, 48, 44, 36, 39, 37, 10, 38, 18, 21, 26, 50, 48, 40, 18, 11, 14, 46, 14, 25, 34, 12, 29, 37, 48, 47, 45, 46, 46, 43, 25, 11, 15, 19, 49, 42, 44, 10, 44, 28, 25, 10, 35, 49, 50, 34, 18, 38, 12, 44, 23, 25, 50, 44, 47, 49, 40, 12, 37, 48, 18, 18, 50, 18, 10, 44, 32, 19, 45, 16, 19, 28, 44, 39, 50, 22, 18, 30, 15, 36, 40, 22, 27, 50, 15, 13, 39, 30, 10, 41, 36, 47, 24, 50, 23, 35, 35, 41, 50, 37, 13, 36, 33, 14, 24, 10, 45, 21, 50, 35, 35, 49, 20, 29, 40, 42, 20, 19, 16, 24, 41, 27, 28, 50, 22, 49, 22, 44, 28, 44, 49, 35, 42, 27, 43, 30, 32, 39, 44, 35, 44, 12, 10, 19, 10, 10, 27, 32, 32, 24, 21, 45, 44, 14]\n",
            "[35.47, 9.29, 5.82, 32.96, 8.620000000000001, 3.289999999999999, 29.26, 41.29, 23.16, 2.789999999999999, 4.97, 25.89, 10.08, 13.17, 9.280000000000001, 5.57, 33.26, 37.14, 8.3, 9.67, 26.36, 11.77, 38.25, 38.08, 41.59, 29.97, 10.42, 16.03, 29.12, 7.529999999999999, 36.91, 28.84, 32.63, 35.43, 18.5, 30.72, 28.49, 20.14, 23.259999999999998, 45.15, 14.17, 11.48, 25.63, 22.0, 13.59, 7.95, 38.01, 15.08, 29.990000000000002, 2.789999999999999, 23.43, 49.98, 12.16, 17.08, 3.74, 26.89, 40.67, 35.26, 8.29, 28.89, 11.5, 25.08, 31.89, 36.47, 39.97, 3.7699999999999996, 3.7, 21.48, 36.14, 30.82, 4.3100000000000005, 42.57, 9.42, 23.7, 20.2, 42.29, 12.1, 9.57, 41.36, 2.8200000000000003, 45.36, 26.3, 37.29, 38.03, 6.1, 3.0600000000000005, 32.82, 35.16, 13.440000000000001, 4.6, 8.26, 42.769999999999996, 22.98, 34.82, 38.94, 25.91, 7.109999999999999, 33.81, 44.83, 14.29, 44.17, 18.16, 18.88, 9.280000000000001, 12.48, 0.10999999999999943, 29.48, 37.84, 43.16, 38.98, 35.16, 36.05, 7.47, 30.74, 4.77, 34.15, 38.11, 38.81, 27.310000000000002, 26.3, 18.009999999999998, 34.07, 30.49, 21.44, 18.259999999999998, 39.33, 30.009999999999998, 37.97, 8.48, 20.11, 9.08, 35.7, 24.83, 33.74, 31.6, 39.16, 37.25, 31.25, 47.74, 34.58, 7.37, 27.28, 24.98, 20.46, 36.96, 10.15, 34.25, 27.83, 12.49, 12.29, 18.88, 35.29, 8.26, 41.88, 18.43, 18.08, 10.48, 11.53, 14.89, 21.25, 27.060000000000002, 37.19, 6.57, 26.14, 34.05, 24.72, 13.08, 23.62, 8.1, 11.89, 40.5, 32.84, 28.33, 26.49, 15.08, 11.86, 19.89, 8.84, 24.17, 14.96, 18.86, 27.6, 23.44, 25.14, 13.74, 31.259999999999998, 38.37, 16.16, 20.16, 36.84, 16.77, 33.84, 25.67, 9.2, 26.759999999999998, 13.31, 43.05, 40.08, 41.25, 43.59, 30.12, 30.57, 27.25, 16.84, 23.009999999999998, 32.98, 4.74, 8.83, 39.16, 18.63, 28.25, 7.109999999999999, 33.16, 8.16, 42.82, 39.6, 29.82, 5.33, 25.67, 16.259999999999998, 42.2, 42.74, 41.72, 15.14, 10.08, 19.740000000000002, 23.98, 35.99, 40.08, 35.0, 25.95, 34.29, 22.11, 13.6, 3.09, 32.94, 32.08, 45.59, 26.6, 5.44, 35.42, 9.469999999999999, 23.43, 19.53, 36.6, 17.79, 35.29, 19.07, 17.25, 15.120000000000001, 28.03, 33.25, 19.7, 13.809999999999999, 8.15, 7.970000000000001, 13.75, 12.94, 49.82, 20.67, 42.25, 7.82, 36.67, 29.08, 38.58, 29.33, 34.16, 35.15, 11.67, 27.62, 11.06, 28.77, 39.08, 24.009999999999998, 19.78, 14.2, 7.44, 30.89, 22.990000000000002, 21.7, 36.15, 6.09, 5.0600000000000005, 36.11, 15.88, 11.79, 22.49, 41.01, 25.59, 18.3, 25, 21.38, 32.81, 36.66, 20.759999999999998, 15.08, 14.91, 41.17, 30.59, 20.25, 44.25, 34.03, 15.57, 21.97, 38.19, 27.59, 8.89, 12.7, 18.49, 32.97, 34.81, 5.789999999999999, 20.48, 20.28, 23.29, 21.82, 23.66, 15.17, 26.43, 14.82, 26.59, 41.81, 40.88, 33.46, 18.6, 36.99, 41.480000000000004, 5.48, 38.44, 20.38, 14.17, 38.59, 35.63, 36.83, 10.09, 28.57, 9.08, 17.29, 18.17, 24.48, 11.879999999999999, 8.99, 29.08, 43.08, 14.08, 38.88, 29.189999999999998, 7.95, 23.41, 10, 31.03, 17.009999999999998, 31.83, 39.43, 29.1, 8.879999999999999, 5.38, 45.95, 46.43, 42.42, 4.76, 29.81, 2.789999999999999, 12.26, 19.5, 28.38, 0.9700000000000006, 23.88, 37.83, 12.6, 34.15, 19.82, 24.44, 24.53, 20.14, 21.62, 17.95, 2.0300000000000002, 25.36, 26.57, 22.17, 19.1, 35.08, 33.75, 14.879999999999999, 19.37, 29.0, 25.88, 15.59, 32.43, 24.59, 12.75, 42.28, 28.86, 9.59, 24.81, 40.3, 9.74, 39.98, 21.17, 30.08, 22.47, 42.81, 13.14, 42.95, 39.79, 19.44, 16.88, 16.59, 39.74, 28.25, 23.36, 32.1, 24.67, 24.28, 10.74, 30.37, 27.82, 7.81, 28.08, 6.7, 17.72, 26.740000000000002, 41.63, 12.43, 32.67, 34.31, 33.08, 23.95, 44.78, 33.95, 13.82, 35.08, 10.1, 35.94, 37.83, 25.43, 40.43, 3.5999999999999996, 40.88, 39.43, 33.53, 15.72, 45.59, 36.82, 32.17, 34.44, 28.83, 13.7, 15.41, 18.14, 13.29, 13.59, 30.44, 9.09, 27.0, 32.480000000000004, 33.83, 38.3, 28.79, 26.59, 42.25, 31.259999999999998, 19.05, 11.2, 24.26, 23.07, 9.26, 9.82, 26.67, 15.15, 19.310000000000002, 8.1, 9.74, 43.1, 40.05, 42.59, 18.77, 37.49, 22.939999999999998, 21.08, 16.3, 44.480000000000004, 11.17, 22.07, 23.33, 36.75, 27.3, 13.53, 28.82, 21.43, 24.98, 34.0, 16.75, 12.879999999999999, 11.01, 15.030000000000001, 26.1, 21.95, 38.74, 6.109999999999999, 29.16, 31.25, 24.46, 21.77, 23.62, 30.259999999999998, 22.66, 22.82, 4.6, 15.42, 13.0, 14.06, 27.08, 25.42, 13.15, 8.08, 14.84, 6.67, 20.25, 42.1, 31.83, 23.49, 41.58, 27.77, 12.74, 30.759999999999998, 47.82, 34.81, 0.14000000000000057, 35.57, 5.48, 19.82, 34.99, 37.03, 4.6, 16.91, 23.96, 10.82, 10, 32.5, 19.1, 39.01, 29.46, 25.42, 32.74, 2.789999999999999, 21.05, 14.17, 34.26, 20.36, 31.84, 25.5, 6.46, 20, 6.43, 41.49, 25.29, 40.31, 26.16, 29.990000000000002, 30.82, 38, 16.74, 45.49, 23.78, 29.5, 22.08, 4.41, 22.53, 46.89, 25.29, 10.72, 10.6, 8.67, 23.37, 44.26, 0.08000000000000007, 34.67, 14.879999999999999, 9.15, 8.43, 46.15, 33.25, 30.09, 24.05, 27.08, 24.009999999999998, 24.7, 8.43, 0.1899999999999995, 7.82, 27.67, 32.79, 3.289999999999999, 21.66, 37.25, 22.46, 7.720000000000001, 34.5, 12.29, 40.97, 10.469999999999999, 43.12, 39.15, 30.5, 14.25, 19.97, 21.11, 39.59, 7.66, 25.060000000000002, 32.38, 19.2, 42.5, 20.82, 23.47, 12.25, 49, 25.189999999999998, 11.7, 44.49, 1.7899999999999991, 26.17, 14.19, 34.63, 46.59, 30.08, 38.62, 34.59, 32.19, 19.25, 16.16, 23.15, 40.79, 23.16, 7.08, 24.81, 6.78, 33.16, 30.82, 37.66, 21.37, 11.809999999999999, 9.469999999999999, 37.43, 9.48, 4.15, 38.63, 32.83, 21.759999999999998, 0.14000000000000057, 22.189999999999998, 43.83, 23.14, 32.14, 17.96, 32.08, 23.59, 25.66, 41.17, 10.99, 37.74, 37.84, 16.17, 12.48, 10.95, 36.82, 16.58, 42.42, 31.49, 42.480000000000004, 40.769999999999996, 20.97, 36.08, 2.8200000000000003, 19.17, 35, 17.6, 23.25, 21.67, 30.49, 18.11, 21.05, 16.740000000000002, 33.79, 42.82, 5.3, 34.74, 35.3, 42.57, 39.25, 26.63, 10.16, 20.44, 43.49, 42.67, 17.78, 15.46, 7.529999999999999, 20.48, 23.33, 22, 18.83, 32.53, 44.57, 39.89, 16.89, 13.469999999999999, 16.67, 34.74, 22.49, 47.74, 2.0700000000000003, 42.74, 42.91, 30.98, 23.57, 5.28, 6.109999999999999, 18.49, 3.9399999999999995, 3.63, 14.43, 38.480000000000004, 5.28, 10.97, 10.53, 39.19, 29.57, 13.25, 16.15, 32.6, 43.5, 20, 24.74, 19.189999999999998, 22.07, 44.29, 9.57, 38.96, 28.91, 14.89, 5.58, 34.95, 35.88, 30.42, 11.74, 27.740000000000002, 25.41, 2.66, 7.970000000000001, 13.72, 16.97, 2.5, 20.12, 31.29, 9.25, 34.74, 12.16, 42.05, 10.25, 29.7, 6.28, 42.82, 39.16, 9.84, 21.25, 17.97, 33.15, 27.14, 9.59, 35.74, 27.83, 25.89, 20.0, 10.99, 29.81, 16.75, 39.84, 35.37, 3.67, 22.57, 48.59, 21.15, 29.49, 5.44, 34.16, 14.41, 37.58, 47.5, 37.86, 22.11, 27.740000000000002, 14.05, 32.15, 4.74, 27.82, 29.88, 8.77, 36.97, 20.95, 8.370000000000001, 39.08, 19.67, 39.88, 25.82, 21.49, 33.31, 40.769999999999996, 31.38, 38.08, 37.769999999999996, 20.189999999999998, 8.09, 36.7, 27.82, 24.33, 9.0, 12.07, 36.74, 18.78, 42.480000000000004, 47.74, 39.5, 13.08, 47, 37.49, 24.57, 10.99, 1.33, 32.08, 48.15, 26.2, 36.38, 42.05, 31.08, 19.67, 12.629999999999999, 35.86, 26.15, 41.26, 18.44, 26.009999999999998, 16.08, 7.859999999999999, 47.36, 45.72, 34.06, 26.6, 37.84, 31.05, 7.529999999999999, 37.95, 12.05, 20.88, 23.59, 47.5, 47.08, 30.66, 15.25, 5.78, 8.26, 36.14, 7.84, 24.89, 24.939999999999998, 11.0, 29, 34.37, 38.94, 46.08, 44.15, 45.82, 36.31, 41.49, 18.16, 7.96, 14.88, 15.46, 40.82, 32.41, 37.769999999999996, 9.95, 34.31, 25.59, 24.95, 4.48, 28.84, 46.37, 40.15, 31.5, 8.97, 35.08, 6.16, 38.81, 23, 18.63, 44.57, 41.37, 37.19, 49, 37.08, 6.57, 27.990000000000002, 41.84, 12.969999999999999, 17.15, 44.480000000000004, 8.31, 4.25, 42.12, 22.66, 15.96, 38.43, 15.08, 18.49, 25.53, 41.59, 36.36, 43.16, 21.88, 17.98, 28.84, 14.95, 29.44, 30.6, 18.1, 26.59, 40.06, 13.67, 3.99, 33.16, 30, 3.4699999999999998, 34.769999999999996, 26.990000000000002, 37.5, 16.38, 48.49, 19.43, 35, 32.08, 33.91, 45.480000000000004, 31.57, 3.1400000000000006, 26.6, 24.33, 7.67, 21.37, 5.83, 37.03, 15.77, 48.89, 25.6, 25.740000000000002, 43.78, 11.33, 23.78, 34.76, 39.01, 14.16, 11.379999999999999, 10.76, 15.33, 33.09, 23.46, 22.78, 44.78, 16.28, 43.480000000000004, 16.759999999999998, 42.74, 18.97, 34.66, 49, 25.310000000000002, 38.42, 24.740000000000002, 42.88, 22.1, 29.72, 32.769999999999996, 34.6, 25.79, 35.29, 3.33, 0.7400000000000002, 15.1, 9.98, 9.98, 20.44, 32, 30.74, 15.75, 19.26, 39.16, 35.14, 13.82]\n",
            "[0, 0, 0, 0, 0, 0, 0, 0, 0, 0, 0, 0, 0, 0, 0, 0, 0, 0, 0, 0, 0, 0, 0, 0, 0, 0, 0, 0, 0, 0, 0, 0, 0, 0, 0, 0, 0, 0, 0, 0, 0, 0, 0, 0, 0, 0, 0, 0, 0, 0, 0, 0, 0, 0, 0, 0, 0, 0, 0, 0, 0, 0, 0, 0, 0, 0, 0, 0, 0, 0, 0, 0, 0, 0, 0, 0, 0, 0, 0, 0, 0, 0, 0, 0, 0, 0, 0, 0, 0, 0, 0, 0, 0, 0, 0, 0, 0, 0, 0, 0]\n",
            "[117.72000000000001, 46.0, 67.00000000000001, 104.04, 118.68, 91.97999999999999, 35.96, 10.25, 0.23999999999999996, 1.5600000000000005, 28.080000000000005, 40.67999999999999, 55.51, 23.36, 103.40000000000002, 117.13000000000002, 57.540000000000006, 102.74000000000002, 3.5699999999999994, 54.599999999999994, 41.92000000000001, 61.599999999999994, 51.39, 0.5499999999999999, 62.019999999999996, 72.48, 33.899999999999984, 5.5200000000000005, 74.62, 9.349999999999998, 8.28, 52.46999999999999, 49.25, 49.84, 11.1, 55.36999999999999, 29.639999999999997, 57.75, 22.8, 70.07, 19.950000000000003, 23.92, 28.5, 128.96, 48.19999999999999, 9.0, 47.25, 21.12, 69.68, 88.92000000000003, 35.0, 0.66, 2.8800000000000003, 77.27999999999997, 98.6, 27.299999999999997, 24.319999999999997, 65.3, 63.199999999999996, 22.64, 81.80000000000001, 128.94000000000005, 120.38000000000002, 31.859999999999996, 45.27, 11.34, 11.97, 87.60000000000002, 11.279999999999998, 10.44, 41.25, 87.59999999999998, 8.12, 22.84, 66.72000000000001, 84.60000000000001, 77.85, 106.58999999999999, 79.52, 68.58, 90.3, 31.55999999999999, 18.84, 47.07000000000001, 55.62, 57.419999999999995, 57.199999999999996, 38.52, 35.79999999999999, 2.87, 21.419999999999998, 98.40000000000002, 19.200000000000003, 9.200000000000001, 22.650000000000006, 82.28999999999999, 71.73, 77.35000000000002, 49.63000000000001, 103.17000000000004]\n"
          ],
          "name": "stdout"
        }
      ]
    },
    {
      "cell_type": "markdown",
      "metadata": {
        "id": "p7o_JaJLXgpT",
        "colab_type": "text"
      },
      "source": [
        "# **Exportando**\n",
        "Para Exportar primeiro é criado uma tabela com as informações do cliente e a exporta para csv usando o comando *to_csv* do pandas. Após isso faz o mesmo procedimento para as informações da loja."
      ]
    },
    {
      "cell_type": "code",
      "metadata": {
        "id": "9qATUanInsMM",
        "colab_type": "code",
        "colab": {}
      },
      "source": [
        "data_cli = {\n",
        "    'Saldo Clientes Inicial': inicial_clientes_saldo,\n",
        "    'Saldo Clientes Final':final_clientes_saldo,\n",
        "    'Satisfação Clientes Inicial':inicial_clientes_satis,\n",
        "    'Satisfação Clientes Final':final_clientes_satis\n",
        "}\n",
        "df_cli = pd.DataFrame(data_cli, columns=['Saldo Clientes Inicial','Saldo Clientes Final',\n",
        "                                         'Satisfação Clientes Inicial','Satisfação Clientes Final'])\n",
        "df_cli.to_csv(\"csv_cli.csv\")\n",
        "\n",
        "data_loj = {\n",
        "    'Saldo Lojas Inicial': inicial_lojas_saldo,\n",
        "    'Saldo Lojas Final': final_lojas_saldo,\n",
        "    'Satisfação Lojas Inicial': inicial_lojas_satis,\n",
        "    'Satisfação Lojas Final': final_lojas_satis,\n",
        "    'Custo Lojas Inicial':inicial_lojas_produ,\n",
        "    'Custo Lojas Final':final_lojas_produ\n",
        "}\n",
        "\n",
        "df_loj = pd.DataFrame(data_loj, columns=['Saldo Lojas Inicial','Saldo Lojas Final',\n",
        "                                         'Satisfação Lojas Inicial','Satisfação Lojas Final',\n",
        "                                         'Custo Lojas Inicial','Custo Lojas Final'])\n",
        "\n",
        "df_loj.to_csv(\"csv_loj.csv\")"
      ],
      "execution_count": 12,
      "outputs": []
    }
  ]
}
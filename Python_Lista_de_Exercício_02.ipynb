{
  "nbformat": 4,
  "nbformat_minor": 0,
  "metadata": {
    "colab": {
      "name": "Python_Lista_de_Exercício_02.ipynb",
      "provenance": [],
      "toc_visible": true,
      "authorship_tag": "ABX9TyP04csz8qEM7KbAiIjIiwx0"
    },
    "kernelspec": {
      "name": "python3",
      "display_name": "Python 3"
    }
  },
  "cells": [
    {
      "cell_type": "markdown",
      "metadata": {
        "id": "XX9dvJGWFwgu",
        "colab_type": "text"
      },
      "source": [
        "# **Python para Modelagem Baseada em Agentes**\n",
        "**Lista de Exercício 2**\n",
        "\n",
        "**Professor:** Bernardo Furtado\n",
        "\n",
        "**Aluno:** Paulo Estevão Alvarenga Martins"
      ]
    },
    {
      "cell_type": "markdown",
      "metadata": {
        "id": "3FLtsn31RKSL",
        "colab_type": "text"
      },
      "source": [
        "#**Definições Iniciais**\n",
        "Nessa primeira seção estamos definindo as *librarys* que iremos usar ao londo do programa. A função ramdom irá fornecer os números aleatórios a a função pandas irá nos possibitar a manipulação dos dados gerados pela simulação."
      ]
    },
    {
      "cell_type": "code",
      "metadata": {
        "id": "wQUWpd9XRUWD",
        "colab_type": "code",
        "colab": {}
      },
      "source": [
        "import random\n",
        "import pandas as pd"
      ],
      "execution_count": 1,
      "outputs": []
    },
    {
      "cell_type": "markdown",
      "metadata": {
        "id": "-CdbyvbDDCMt",
        "colab_type": "text"
      },
      "source": [
        "# **Definindo a Classe Conta**\n",
        "A classe conta carrega a informação de saldo dentro que se origina zerado. Para acrescentar ou retirar um valor no saldo atual utiliza-se a função *Saldo(valor)* onde *valor* deve ser um número positivo para créditos ou negativo para debitos nessa conta."
      ]
    },
    {
      "cell_type": "code",
      "metadata": {
        "id": "eKs_aSdFDGz5",
        "colab_type": "code",
        "colab": {}
      },
      "source": [
        "class Conta:\n",
        "\n",
        "    def __init__(self):\n",
        "        self.saldo = 0\n",
        "\n",
        "    def Saldo(self, quantia):\n",
        "        self.saldo += quantia\n"
      ],
      "execution_count": 2,
      "outputs": []
    },
    {
      "cell_type": "code",
      "metadata": {
        "id": "6XDumFj7IIl7",
        "colab_type": "code",
        "colab": {
          "base_uri": "https://localhost:8080/",
          "height": 50
        },
        "outputId": "75525540-c51f-4b83-d3b6-32eed67a6067"
      },
      "source": [
        "#testando a classe conta criada\n",
        "Conta_01 = Conta()\n",
        "print(Conta_01.saldo)\n",
        "Conta_01.Saldo(2.22)\n",
        "print(Conta_01.saldo)"
      ],
      "execution_count": 3,
      "outputs": [
        {
          "output_type": "stream",
          "text": [
            "0\n",
            "2.22\n"
          ],
          "name": "stdout"
        }
      ]
    },
    {
      "cell_type": "markdown",
      "metadata": {
        "id": "-vPjmwZ5DQTv",
        "colab_type": "text"
      },
      "source": [
        "# **Definindo a Classe Loja**\n",
        "A classe loja carrega as informações de conta (conta), custo do produto (custo_produto), satisfação proporcionada (satisfacao) e capacidade (capacidade): \n",
        "\n",
        "A informação de conta está atrelada a classe conta já criada. \n",
        "\n",
        "O custo do produto é criado por uma função aleatória variando de 0 até 10 e possui 2 casas decimais. \n",
        "\n",
        "A satisfação proporcionada corresponde a sastisfação que o cliente adquire quando compra um produto. A satisfação da compra em uma loja é dada por uma função aleatória composta por apenas números inteiros de 0 até 10.\n",
        "\n",
        "A capacidade está relacionada a quantidade de pessoas que a loja suporta. Essa informação será usada para limitar a quantidade de clientes que irão entrar em uma loja. Quando um cliente entrar na loja utiliza-se a função *Capacidade(-1)* e quando ele sair *Capacidade(+1)*"
      ]
    },
    {
      "cell_type": "code",
      "metadata": {
        "id": "3o2Gh6DBDWXN",
        "colab_type": "code",
        "colab": {}
      },
      "source": [
        "class Loja:\n",
        "\n",
        "    def __init__(self):\n",
        "        self.conta = Conta()\n",
        "        self.custo_produto = round(random.random() * 10, 2)\n",
        "        self.satisfacao = random.randint(0, 10)\n",
        "        self.capacidade = random.randint(5, 200)\n",
        "\n",
        "    def Capacidade(self, quantia):\n",
        "        self.capacidade += quantia   \n"
      ],
      "execution_count": 4,
      "outputs": []
    },
    {
      "cell_type": "code",
      "metadata": {
        "id": "huGgOH3vcK5c",
        "colab_type": "code",
        "colab": {
          "base_uri": "https://localhost:8080/",
          "height": 101
        },
        "outputId": "5b2f88db-328f-4676-c58a-d92c40861e08"
      },
      "source": [
        "#testando a classe conta criada\n",
        "Loja_01 = Loja()\n",
        "print(Loja_01.conta.saldo)\n",
        "print(Loja_01.custo_produto)\n",
        "print(Loja_01.satisfacao)\n",
        "print(Loja_01.capacidade)\n",
        "Loja_01.Capacidade(-1)\n",
        "print(Loja_01.capacidade)"
      ],
      "execution_count": 5,
      "outputs": [
        {
          "output_type": "stream",
          "text": [
            "0\n",
            "2.49\n",
            "8\n",
            "93\n",
            "92\n"
          ],
          "name": "stdout"
        }
      ]
    },
    {
      "cell_type": "markdown",
      "metadata": {
        "id": "6dOoTw5wDVtr",
        "colab_type": "text"
      },
      "source": [
        "# **Definindo a Classe Agente**\n",
        "A classe Agente carrega a informação de conta (conta) e satisfação obtida (satisfacao). A informação de conta está atrelada a classe conta já criada e a satisfação obtida se origina zerada, mas caso o agente compre algum produto ele adquire acrescenta a satisfação da loja em sua satisfação usando a função *Satisfacao(quantia)* onde quantia será a satisfação da loja."
      ]
    },
    {
      "cell_type": "code",
      "metadata": {
        "id": "o0B6qMtwCVBj",
        "colab_type": "code",
        "colab": {}
      },
      "source": [
        "class Agent:\n",
        "\n",
        "  def __init__(self):\n",
        "    self.conta = Conta()\n",
        "    self.satisfacao = 0\n",
        "\n",
        "  def Satisfacao (self, quantia):\n",
        "      self.satisfacao += quantia\n"
      ],
      "execution_count": 6,
      "outputs": []
    },
    {
      "cell_type": "code",
      "metadata": {
        "id": "SVvqdHxEG-FQ",
        "colab_type": "code",
        "colab": {
          "base_uri": "https://localhost:8080/",
          "height": 67
        },
        "outputId": "415fb4aa-2cf2-4387-fb92-a249c037d347"
      },
      "source": [
        "#testando a classe conta criada\n",
        "Cliente_01 = Agent()\n",
        "print(Cliente_01.conta.saldo)\n",
        "Cliente_01.conta.Saldo(10)\n",
        "print(Cliente_01.conta.saldo)\n",
        "print(Cliente_01.satisfacao)"
      ],
      "execution_count": 7,
      "outputs": [
        {
          "output_type": "stream",
          "text": [
            "0\n",
            "10\n",
            "0\n"
          ],
          "name": "stdout"
        }
      ]
    },
    {
      "cell_type": "markdown",
      "metadata": {
        "id": "Hyx65W_omhr3",
        "colab_type": "text"
      },
      "source": [
        "#**Criando Interação**\n",
        "\n",
        "Nessa interação será criado duas listas, uma para cliente e outra para lojas. Essas listas serão preenchidas com a quantidade de lojas e clientes máximos recebidos no argumento da função e, após isso, essa função cria acrescenta um salo aleatório nas contas dos clientes criados. A segunda função será feito uma função para calcular a média da satisfação adiquirida pelos clientes, média do saldo nas contas dos clientes, media nas contas das lojas, média dos custos dos produtos e média da satisfação fornecida pelas lojas. Por ultimo, a função será a interação propriamente dita, essa interação consiste em pegar o primeiro cliente e escolher uma loja aleatória para ele. Caso ela esteja disponível (ou seja, tenha capacidade > 0 então o cliente entra e, caso ele tenha dinheiro disponível, ele compra o produto e ganha a satisfação proporcionada. "
      ]
    },
    {
      "cell_type": "code",
      "metadata": {
        "id": "2KBWIVbzHVpV",
        "colab_type": "code",
        "colab": {}
      },
      "source": [
        "lojas = list()\n",
        "clientes = list()\n",
        "\n",
        "def criar_lojas(lojas_max):\n",
        "    for i in range(lojas_max):\n",
        "        lojas.append (Loja()) \n",
        "\n",
        "\n",
        "def criar_agentes(clientes_max):\n",
        "    for i in range(clientes_max):\n",
        "        clientes.append(Agent())\n",
        "    for i in clientes:\n",
        "        i.conta.Saldo(random.randint(10, 50))\n",
        "\n",
        "\n",
        "def media_experiencia():\n",
        "    experiencia_somada = 0\n",
        "    saldo_cli_somado = 0\n",
        "    saldo_loj_somado = 0\n",
        "    custo_somado = 0\n",
        "\n",
        "    for c in clientes:\n",
        "        experiencia_somada += c.satisfacao\n",
        "        saldo_cli_somado += c.conta.saldo\n",
        "    \n",
        "    for l in lojas:\n",
        "        saldo_loj_somado += l.conta.saldo\n",
        "        custo_somado += l.custo_produto\n",
        "\n",
        "    exp_media = experiencia_somada / len(clientes)\n",
        "    saldo_cli_media = saldo_cli_somado / len(clientes)\n",
        "    saldo_loj_media = saldo_loj_somado / len(lojas)\n",
        "    custo_medio = custo_somado / len(lojas)\n",
        "    print(exp_media)\n",
        "    print(saldo_cli_media)\n",
        "    print(saldo_loj_media)\n",
        "    print(custo_medio)\n",
        "\n",
        "\n",
        "def run_model():\n",
        "    for c in clientes:\n",
        "        # Escolhe uma loja aleatoria\n",
        "        l = random.choice(lojas)\n",
        "        # Verificar a capacidade\n",
        "        if l.capacidade > 1:\n",
        "            l.Capacidade(-1)\n",
        "            if l.custo_produto < c.conta.saldo:\n",
        "                c.conta.Saldo(-l.custo_produto)\n",
        "                c.Satisfacao(l.satisfacao)\n",
        "                l.conta.Saldo(l.custo_produto)\n"
      ],
      "execution_count": 8,
      "outputs": []
    },
    {
      "cell_type": "code",
      "metadata": {
        "id": "7FBsUf1y1YSS",
        "colab_type": "code",
        "colab": {
          "base_uri": "https://localhost:8080/",
          "height": 168
        },
        "outputId": "30ba166f-3fd4-4358-e5eb-57f9d101142a"
      },
      "source": [
        "#Testando a Interação\n",
        "criar_lojas(100)\n",
        "criar_agentes(1000)\n",
        "\n",
        "print(clientes[1])\n",
        "print(clientes[1].conta.saldo)\n",
        "print(clientes[2].conta.saldo)\n",
        "print(clientes[2].satisfacao)\n",
        "print()\n",
        "print(lojas[1])\n",
        "print(lojas[1].conta.saldo)\n",
        "print(lojas[2].conta.saldo)\n",
        "print(lojas[2].satisfacao)"
      ],
      "execution_count": 9,
      "outputs": [
        {
          "output_type": "stream",
          "text": [
            "<__main__.Agent object at 0x7fcf66a7ccf8>\n",
            "49\n",
            "33\n",
            "0\n",
            "\n",
            "<__main__.Loja object at 0x7fcf672ecc18>\n",
            "0\n",
            "0\n",
            "8\n"
          ],
          "name": "stdout"
        }
      ]
    },
    {
      "cell_type": "markdown",
      "metadata": {
        "id": "0LSmRP2joowZ",
        "colab_type": "text"
      },
      "source": [
        "Capturando as inforamações iniciais do modelo para comparar com a final."
      ]
    },
    {
      "cell_type": "code",
      "metadata": {
        "id": "LLQZT9txyGXy",
        "colab_type": "code",
        "colab": {}
      },
      "source": [
        "#Capturando as Informações Iniciais\n",
        "inicial_clientes_saldo = []\n",
        "inicial_clientes_satis = []\n",
        "inicial_lojas_saldo = []\n",
        "inicial_lojas_satis = []\n",
        "inicial_lojas_produ = []\n",
        "\n",
        "for c in clientes:\n",
        "  inicial_clientes_saldo.append(c.conta.saldo)\n",
        "  inicial_clientes_satis.append(c.satisfacao)\n",
        "\n",
        "for l in lojas:\n",
        "  inicial_lojas_saldo.append(l.conta.saldo)\n",
        "  inicial_lojas_satis.append(l.satisfacao)\n",
        "  inicial_lojas_produ.append(l.custo_produto)\n",
        "\n",
        "#Rodando a Interação\n",
        "run_model()\n",
        "\n",
        "#Capturando as Informações Finais\n",
        "final_clientes_saldo = []\n",
        "final_clientes_satis = []\n",
        "final_lojas_saldo = []\n",
        "final_lojas_satis = []\n",
        "final_lojas_produ = []\n",
        "\n",
        "for c in clientes:\n",
        "  final_clientes_saldo.append(c.conta.saldo)\n",
        "  final_clientes_satis.append(c.satisfacao)\n",
        "\n",
        "for l in lojas:\n",
        "  final_lojas_saldo.append(l.conta.saldo)\n",
        "  final_lojas_satis.append(l.satisfacao)\n",
        "  final_lojas_produ.append(l.custo_produto)"
      ],
      "execution_count": 10,
      "outputs": []
    },
    {
      "cell_type": "code",
      "metadata": {
        "id": "e62o3MCi7FIV",
        "colab_type": "code",
        "colab": {
          "base_uri": "https://localhost:8080/",
          "height": 104
        },
        "outputId": "07a7d7e0-1c06-407e-e758-65662d07a0bc"
      },
      "source": [
        "#Testando as Informações Geradas\n",
        "print(inicial_clientes_saldo)\n",
        "print(final_clientes_saldo)\n",
        "\n",
        "print(inicial_lojas_saldo)\n",
        "print(final_lojas_saldo)"
      ],
      "execution_count": 11,
      "outputs": [
        {
          "output_type": "stream",
          "text": [
            "[48, 49, 33, 35, 26, 34, 47, 49, 22, 11, 42, 47, 25, 16, 33, 25, 30, 27, 32, 42, 29, 17, 33, 11, 15, 29, 30, 14, 13, 33, 10, 29, 10, 27, 31, 38, 18, 40, 38, 11, 50, 45, 31, 27, 48, 48, 49, 34, 44, 33, 22, 25, 27, 32, 47, 40, 20, 25, 11, 45, 44, 38, 50, 42, 44, 44, 42, 13, 14, 26, 32, 39, 11, 39, 27, 28, 15, 49, 45, 48, 43, 46, 12, 24, 39, 40, 22, 48, 44, 31, 35, 39, 46, 14, 26, 17, 20, 27, 11, 19, 16, 47, 33, 43, 36, 36, 44, 35, 25, 20, 24, 11, 33, 18, 46, 23, 33, 44, 21, 43, 15, 40, 15, 50, 45, 28, 45, 44, 31, 40, 11, 48, 26, 33, 26, 28, 26, 44, 25, 50, 23, 26, 16, 38, 43, 10, 14, 28, 46, 47, 49, 18, 35, 42, 42, 50, 19, 43, 32, 49, 34, 15, 17, 32, 12, 30, 26, 40, 31, 36, 29, 39, 29, 16, 18, 26, 48, 42, 47, 23, 18, 10, 31, 24, 48, 22, 37, 42, 23, 34, 36, 21, 49, 33, 21, 42, 30, 42, 13, 44, 10, 33, 45, 17, 16, 45, 40, 41, 17, 49, 23, 32, 32, 36, 15, 27, 12, 36, 28, 38, 42, 29, 17, 49, 37, 47, 11, 36, 41, 24, 18, 34, 39, 38, 44, 39, 28, 39, 19, 10, 37, 10, 45, 49, 14, 37, 50, 49, 34, 49, 28, 20, 48, 36, 41, 15, 18, 24, 22, 25, 21, 15, 47, 15, 29, 40, 38, 23, 32, 39, 47, 28, 33, 44, 13, 50, 47, 38, 28, 10, 20, 46, 26, 17, 42, 36, 46, 34, 10, 27, 20, 11, 42, 34, 24, 17, 49, 46, 12, 47, 12, 17, 36, 48, 12, 15, 50, 24, 23, 17, 22, 32, 23, 14, 20, 10, 47, 25, 36, 24, 13, 11, 12, 34, 19, 47, 45, 38, 17, 44, 14, 36, 24, 15, 50, 43, 48, 50, 12, 30, 41, 19, 22, 35, 43, 16, 46, 43, 11, 35, 32, 37, 24, 41, 12, 14, 15, 29, 43, 35, 47, 38, 39, 42, 34, 48, 47, 15, 12, 39, 33, 41, 34, 46, 15, 16, 44, 16, 33, 31, 12, 31, 24, 29, 19, 28, 36, 37, 18, 44, 35, 28, 14, 13, 21, 39, 20, 38, 47, 44, 45, 11, 50, 22, 38, 12, 12, 21, 38, 41, 46, 39, 21, 41, 39, 29, 41, 28, 42, 13, 45, 21, 27, 22, 42, 31, 39, 38, 10, 35, 37, 12, 24, 24, 26, 32, 25, 43, 39, 26, 46, 27, 33, 41, 24, 29, 39, 28, 47, 13, 13, 28, 19, 33, 22, 39, 46, 26, 32, 21, 34, 28, 17, 47, 40, 17, 42, 34, 32, 11, 45, 19, 39, 29, 34, 27, 50, 15, 24, 31, 41, 33, 41, 19, 38, 33, 43, 27, 45, 31, 20, 28, 23, 50, 25, 44, 25, 18, 38, 27, 12, 12, 32, 22, 35, 14, 47, 46, 30, 43, 38, 37, 31, 13, 36, 42, 13, 31, 18, 22, 12, 40, 10, 37, 24, 41, 26, 42, 21, 15, 23, 11, 50, 19, 12, 13, 43, 14, 41, 32, 47, 44, 10, 42, 32, 34, 38, 41, 28, 18, 39, 37, 38, 39, 31, 27, 28, 42, 47, 29, 47, 31, 16, 43, 34, 15, 46, 16, 15, 10, 30, 40, 37, 37, 38, 12, 33, 16, 24, 23, 29, 25, 11, 31, 39, 39, 49, 32, 28, 17, 49, 31, 41, 26, 30, 49, 10, 12, 21, 40, 39, 22, 31, 43, 29, 30, 33, 20, 13, 41, 25, 28, 40, 22, 15, 21, 12, 48, 33, 15, 47, 34, 18, 43, 35, 47, 23, 34, 16, 26, 20, 43, 34, 12, 32, 10, 43, 16, 35, 38, 26, 12, 18, 37, 49, 47, 41, 32, 42, 13, 47, 32, 14, 33, 11, 27, 42, 35, 18, 44, 33, 42, 15, 29, 47, 39, 45, 47, 45, 26, 34, 43, 22, 18, 27, 46, 38, 43, 35, 50, 41, 20, 28, 36, 15, 34, 23, 25, 25, 29, 41, 25, 26, 34, 21, 20, 48, 11, 27, 44, 48, 32, 24, 12, 37, 48, 43, 28, 44, 38, 27, 24, 32, 28, 50, 39, 25, 25, 21, 20, 38, 48, 15, 26, 48, 19, 42, 14, 18, 11, 31, 49, 40, 15, 38, 22, 37, 13, 16, 14, 12, 37, 22, 44, 20, 50, 29, 12, 19, 29, 10, 45, 30, 42, 46, 31, 11, 47, 30, 30, 25, 25, 19, 25, 22, 12, 13, 19, 46, 36, 22, 17, 35, 31, 43, 43, 28, 39, 43, 10, 23, 37, 10, 43, 11, 20, 48, 47, 14, 19, 39, 34, 22, 17, 26, 29, 21, 22, 11, 35, 25, 22, 25, 28, 32, 37, 17, 21, 32, 39, 10, 22, 41, 13, 45, 22, 17, 17, 41, 47, 36, 42, 15, 36, 36, 15, 46, 13, 12, 28, 49, 23, 36, 15, 10, 42, 36, 24, 47, 23, 44, 29, 47, 46, 21, 17, 11, 29, 29, 41, 13, 45, 16, 37, 28, 50, 15, 16, 19, 20, 29, 19, 27, 35, 15, 31, 17, 19, 38, 11, 16, 26, 30, 48, 23, 17, 29, 46, 25, 42, 23, 39, 48, 35, 42, 12, 16, 45, 48, 36, 26, 39, 39, 24, 22, 13, 41, 38, 39, 32, 27, 45, 17, 13, 18, 12, 34, 26, 18, 22, 25, 40, 23, 40, 26, 34, 17, 46, 36, 31, 24, 49, 41, 39, 11, 39, 32, 13, 39, 43, 38, 26, 33, 45, 41, 29, 25, 25, 18, 10, 47, 30, 44, 19, 35, 33, 17, 49, 44, 40, 39, 18, 32, 42, 26, 49, 26, 48, 46, 38, 35, 38, 24, 15, 13, 12, 15, 21, 48, 29, 41, 41, 43, 25, 46, 26, 46, 30, 12, 40, 15, 14, 45, 24, 35, 39, 21, 16, 15, 30, 50, 44, 47, 30, 26, 45, 45, 16, 18, 38]\n",
            "[39.35, 47.47, 28.35, 28.18, 25.97, 25.1, 45.7, 45.47, 21.97, 8.15, 38.29, 38.57, 20.71, 7.35, 32.33, 17.39, 25.96, 22.46, 30.38, 40.82, 21.48, 9.1, 27.89, 7.29, 7.94, 25.02, 25.759999999999998, 9.48, 12.59, 29.46, 7.34, 24.71, 5.71, 22.42, 26.43, 33.42, 11.65, 30.310000000000002, 35.56, 7.29, 45.93, 40.43, 29.05, 25.95, 44.36, 44.02, 46.34, 31.61, 38.39, 27.39, 16.65, 21.46, 22.35, 27.56, 41.65, 37.0, 19.71, 18.65, 7.640000000000001, 43.82, 38.730000000000004, 37.33, 46.56, 37.42, 40.36, 37.65, 34.39, 6.96, 9.71, 22.47, 30.2, 37.82, 4.51, 36.23, 20.06, 25.56, 14.17, 47.95, 38.96, 44.41, 34.1, 41.42, 8.29, 22.05, 34.42, 30.310000000000002, 19.23, 46.47, 40.56, 29.2, 32.34, 30.57, 45.71, 6.39, 23.56, 16.37, 17.61, 19.39, 1.9100000000000001, 14.969999999999999, 13.05, 46.71, 31.93, 42.97, 33.0, 31.56, 39.56, 30.93, 20.97, 18.2, 19.46, 3.9400000000000004, 26.509999999999998, 10.41, 38.08, 19.06, 24.35, 42.96, 11.31, 40.23, 6.57, 38.47, 5.68, 48.82, 35.12, 22.14, 42.0, 39.42, 21.68, 37.59, 3.9400000000000004, 45.59, 23.59, 31.82, 16.310000000000002, 24.29, 20.39, 39.43, 22.259999999999998, 46.06, 18.56, 23.15, 9.309999999999999, 37.17, 37.730000000000004, 5.43, 10.36, 23.42, 41.93, 44.94, 44.46, 11.309999999999999, 27.94, 40.82, 40.47, 45.97, 17.47, 38.97, 31.59, 47.2, 32.96, 5.91, 14.61, 29.97, 7.56, 27.05, 16.509999999999998, 37.0, 25.33, 33.34, 24.79, 33.230000000000004, 19.14, 12.41, 16.47, 16.28, 45.97, 38.46, 40.65, 20.34, 13.42, 9.04, 27.46, 18.89, 42.01, 12.91, 32.68, 34.41, 16.06, 28.39, 34.7, 17.56, 48.17, 29.02, 19.95, 34.39, 20.310000000000002, 32.68, 5.39, 41.61, 5.42, 25.1, 40.35, 11.01, 6.140000000000001, 41.56, 32.08, 36.480000000000004, 15.7, 41.94, 14.02, 25.31, 27.42, 32.02, 12.97, 22.96, 3.51, 35.71, 25.15, 29.880000000000003, 40.82, 20.1, 8.02, 41.1, 33.36, 39.1, 7.640000000000001, 26.119999999999997, 40.17, 15.1, 12.01, 32.03, 37.93, 32.89, 42.96, 37.2, 22.73, 36.26, 14.46, 1.0999999999999996, 34.97, 4.33, 35.68, 39.69, 10.29, 36.17, 41.019999999999996, 48.59, 29.35, 45.06, 24.37, 12.8, 44.41, 34.96, 33.8, 14.71, 16.93, 20.02, 20.82, 19.009999999999998, 12.1, 15, 40.96, 12.97, 26.0, 37.26, 35.97, 13.68, 27.43, 34.42, 45.7, 26.82, 24.35, 36.41, 9.41, 48.93, 47, 28.509999999999998, 26.95, 1.5099999999999998, 17.0, 45.33, 18.41, 14.61, 40.7, 31.43, 37.1, 32.82, 8.05, 24.59, 14.89, 2.51, 37.56, 24.91, 16.41, 13.41, 45.56, 44.95, 9.61, 45.82, 7.26, 7.6899999999999995, 32.64, 47.37, 9.05, 12.59, 49.33, 16.39, 13.12, 16.71, 15.059999999999999, 23.35, 16.96, 9.68, 13.059999999999999, 5.76, 46.33, 19.23, 29.06, 17.65, 8.93, 8.23, 4.41, 33.17, 11.1, 39.480000000000004, 42.05, 31.06, 7.119999999999999, 39.68, 9.42, 32.64, 20.29, 12.26, 45.35, 41.93, 42.01, 48.47, 4.41, 25.43, 32.51, 17.95, 22, 33.2, 37.230000000000004, 12.56, 39.96, 41.05, 8.0, 26.1, 25.06, 35.2, 22.38, 37.64, 9.59, 6.1, 7.41, 19.28, 36.31, 32.05, 39.41, 33.35, 33.01, 37.38, 28.009999999999998, 40.39, 46.04, 7.39, 9.34, 33.01, 28.93, 34.65, 32.93, 37.019999999999996, 10.26, 11.48, 42.2, 13.15, 31.03, 29.03, 11.37, 29.47, 19.259999999999998, 21.39, 16.59, 20.8, 32.47, 32.76, 8.91, 38.89, 26.02, 23.56, 11.59, 10.59, 18.23, 35.15, 11.35, 34.64, 44.97, 41.15, 35.12, 3.3899999999999997, 49.37, 20.93, 38, 10.7, 2.6799999999999997, 15.14, 31.06, 36.26, 37.51, 37.03, 18.259999999999998, 40.59, 32.06, 19.310000000000002, 31.28, 23.68, 35.65, 8.35, 44.59, 13.1, 26.59, 16.73, 40.56, 21.310000000000002, 31.39, 36.93, 0.9100000000000001, 31.47, 27.28, 6.89, 18.73, 15.57, 24.2, 23.1, 15.51, 38.71, 34.480000000000004, 22.37, 46, 23.56, 28.71, 36.42, 18.23, 26.05, 37.82, 27.37, 44.26, 9.370000000000001, 7.33, 23.68, 18.17, 26.31, 19.56, 34.42, 44.82, 20.47, 29.259999999999998, 15.39, 32.56, 25.59, 11.23, 42.42, 35.68, 13.29, 39.34, 30.15, 27.56, 6.43, 43.69, 17.93, 31.08, 26.0, 29.93, 25.69, 48.2, 7.39, 16.39, 28.05, 35.01, 30.34, 37.15, 17.93, 34.46, 28.38, 40.05, 24.61, 39.01, 28.59, 16.06, 23.42, 18.43, 41.57, 20.43, 39.93, 19.009999999999998, 11.18, 28.91, 21.23, 4.39, 8.56, 28.36, 17.35, 27.39, 5.35, 40.06, 44.82, 27.23, 38.96, 32.14, 29.08, 30.37, 8.35, 26.509999999999998, 35.06, 10.0, 26.43, 12.469999999999999, 20.2, 9.23, 31.880000000000003, 3.6500000000000004, 35.7, 18.33, 36.79, 16.28, 36.01, 12.1, 6.51, 20.0, 5.89, 48.47, 18.33, 9.94, 9.64, 41.69, 13.97, 35.33, 30.38, 45.2, 39.79, 7.23, 33.57, 26.23, 29.42, 37.97, 36.96, 18.68, 13.379999999999999, 29.310000000000002, 35.05, 35.15, 37.05, 24.18, 24.59, 18.28, 39.26, 42.96, 24.68, 43.37, 21.119999999999997, 10.01, 41.2, 26.39, 10.379999999999999, 41.96, 12.56, 11.36, 9.59, 27.94, 35.79, 35.03, 34.56, 31.509999999999998, 7.35, 25.41, 10.33, 22.2, 21.95, 26.23, 23.56, 1.5099999999999998, 21.68, 34.43, 29.509999999999998, 44.35, 30.82, 25.59, 15.7, 39.91, 22.1, 37.06, 20.23, 25.71, 44.68, 3.6500000000000004, 3.3499999999999996, 19.2, 32.8, 37.82, 16.47, 29.7, 36.06, 27.2, 25.93, 32.59, 17.05, 3.6799999999999997, 38.59, 20.96, 20.39, 39.97, 20.56, 10.43, 13.48, 3.880000000000001, 44.56, 32.71, 13.96, 43.02, 32.82, 14.02, 33.31, 30.259999999999998, 43.64, 13.28, 26.39, 16, 21.48, 17.0, 37.89, 32.2, 2.91, 27.259999999999998, 4.14, 39.56, 12.46, 33.82, 31.509999999999998, 24.82, 7.38, 13.71, 35.2, 47.95, 44.61, 34.31, 32, 36.730000000000004, 11.7, 41.33, 29.59, 4.3100000000000005, 28.56, 2.3499999999999996, 22.56, 40.2, 30.97, 16.95, 42.82, 31.82, 33.88, 8.51, 23.47, 43.37, 35.41, 44.17, 44.34, 38.18, 21.42, 24.14, 41.82, 17.96, 13.42, 24.05, 36.69, 31.509999999999998, 38.68, 30.259999999999998, 48.03, 35.01, 10.12, 20.41, 27.35, 5.6899999999999995, 32.93, 19.41, 16.1, 22.97, 24.759999999999998, 34.18, 22.61, 18.94, 29.97, 20.59, 15.26, 46.93, 1.1400000000000006, 17.119999999999997, 39.56, 43.56, 27.42, 19.56, 4.8, 29.8, 41.96, 38.68, 24.64, 42.03, 30.39, 21.009999999999998, 21.0, 27.43, 25.0, 45.93, 36.26, 24.37, 19.47, 18.59, 18.82, 33.56, 44.64, 11.64, 20.009999999999998, 40.39, 18.37, 36.730000000000004, 11.23, 16.95, 3.41, 28.0, 39.69, 39.37, 13.69, 34.06, 16.33, 32.97, 10.23, 7.57, 9.559999999999999, 10.379999999999999, 28.880000000000003, 20.95, 36.480000000000004, 15.559999999999999, 46.15, 20.880000000000003, 9.26, 11.41, 21.39, 1.0199999999999996, 40.79, 22.39, 33.35, 38.39, 26.42, 6.42, 42.71, 27.15, 22.94, 18.18, 25, 11.8, 20.259999999999998, 17.38, 6.89, 6.51, 17.7, 43.61, 30.23, 20.93, 10.51, 31.64, 27.56, 41.95, 33.28, 19.509999999999998, 35.29, 43, 7.23, 20.59, 32.43, 7.59, 41.95, 7.02, 12.39, 45.59, 39.39, 11.23, 16.15, 35.46, 31.15, 12.14, 9.940000000000001, 25.33, 27.7, 18.56, 12.91, 8.56, 29.009999999999998, 23.05, 17.48, 19.009999999999998, 23.71, 31.97, 28.1, 10.51, 11.68, 26.47, 30.02, 10, 20.82, 39.47, 11.56, 37.41, 18.02, 8.51, 7.119999999999999, 39.2, 43.64, 31.71, 32.12, 15, 31.68, 30.23, 14.71, 41.56, 12.33, 10.95, 22.65, 44.96, 14.1, 28.1, 6.02, 6.640000000000001, 37.38, 26.28, 14.51, 45.96, 13.14, 35.35, 24.93, 44.34, 43.61, 19.47, 12.559999999999999, 8.94, 22.96, 24.56, 35.230000000000004, 11.82, 40.35, 12.56, 28.1, 27.37, 40.91, 10.43, 12.06, 11.39, 18.56, 29, 17.03, 24.15, 34.97, 11.64, 22.35, 17, 12.18, 29.509999999999998, 1.9100000000000001, 13.34, 17.57, 28.69, 45.97, 17.89, 12.48, 19.509999999999998, 38.8, 21.41, 34.94, 17.47, 33.230000000000004, 43.42, 28.509999999999998, 37.71, 10.82, 11.379999999999999, 43.03, 45.61, 31.56, 20.89, 37.03, 34.76, 16.39, 12.14, 7.33, 36.76, 37.59, 30.35, 27.71, 22.759999999999998, 39.39, 9.08, 3.3100000000000005, 9.57, 4.1, 32.56, 16.28, 13.42, 19.259999999999998, 25, 35.38, 21.93, 40, 22.15, 29.259999999999998, 14.94, 37.57, 35.97, 26.42, 19.97, 40.57, 37.46, 37.69, 5.01, 36.05, 29.05, 12.04, 39, 38.97, 30.39, 24.95, 27.33, 35.31, 37.06, 25.36, 19.009999999999998, 22.59, 13.559999999999999, 5.42, 39.1, 25.96, 34.31, 15.06, 29.009999999999998, 29.36, 12.76, 47.47, 38.89, 34.89, 37.2, 10.8, 22.689999999999998, 39.34, 18.94, 40.51, 24.95, 43.56, 36.69, 37.59, 31.29, 29.1, 20.64, 6.57, 11.96, 7.71, 10.68, 15.01, 41.65, 21.8, 39.82, 36.38, 39.02, 16.509999999999998, 44.7, 22.02, 45.04, 25.38, 6.23, 35.93, 15, 10.36, 43.56, 19.56, 33.82, 36.05, 11.69, 10.14, 12.59, 20.689999999999998, 47.97, 40.41, 43.06, 26.02, 21.42, 43.03, 36.35, 11.43, 9.02, 37.04]\n",
            "[0, 0, 0, 0, 0, 0, 0, 0, 0, 0, 0, 0, 0, 0, 0, 0, 0, 0, 0, 0, 0, 0, 0, 0, 0, 0, 0, 0, 0, 0, 0, 0, 0, 0, 0, 0, 0, 0, 0, 0, 0, 0, 0, 0, 0, 0, 0, 0, 0, 0, 0, 0, 0, 0, 0, 0, 0, 0, 0, 0, 0, 0, 0, 0, 0, 0, 0, 0, 0, 0, 0, 0, 0, 0, 0, 0, 0, 0, 0, 0, 0, 0, 0, 0, 0, 0, 0, 0, 0, 0, 0, 0, 0, 0, 0, 0, 0, 0, 0, 0]\n",
            "[42.28, 23.400000000000006, 18.36, 20.3, 6.48, 60.059999999999995, 31.330000000000002, 10.3, 16.900000000000002, 64.9, 79.0, 21.669999999999998, 93.19999999999999, 39.6, 17.08, 14.12, 63.50000000000001, 5.8999999999999995, 2.32, 4.510000000000001, 93.38999999999999, 28.680000000000003, 7.28, 136.98000000000002, 29.3, 4.8, 77.69, 36.89, 69.02, 37.1, 6.3, 98.8, 51.84, 80.82000000000002, 31.92, 36.010000000000005, 65.89000000000001, 7.860000000000001, 32.31, 36.27, 39.4, 26.640000000000004, 75.47999999999999, 40.14, 6.64, 48.71999999999999, 75.92, 16.800000000000004, 33.660000000000004, 72.00000000000001, 59.539999999999985, 97.2, 11.519999999999998, 65.89000000000001, 18.16, 19.28, 75.00999999999998, 42.0, 19.25, 47.40000000000001, 38.71, 16.049999999999997, 53.76, 83.79, 50.81999999999999, 101.16000000000003, 70.60000000000001, 66.43, 33.92000000000001, 14.159999999999998, 56.70000000000001, 38.35, 83.71000000000001, 12.979999999999999, 28.500000000000007, 142.40000000000003, 109.08000000000003, 83.27999999999999, 18.15, 13.649999999999999, 32.76, 125.96999999999998, 55.79999999999999, 21.05, 30.08, 106.26000000000003, 47.74, 14.980000000000002, 31.639999999999997, 28.319999999999997, 40.4, 5.36, 44.72, 44.77, 47.75999999999999, 64.11999999999999, 129.75000000000003, 14.400000000000002, 30.140000000000008, 0.27]\n"
          ],
          "name": "stdout"
        }
      ]
    },
    {
      "cell_type": "markdown",
      "metadata": {
        "id": "p7o_JaJLXgpT",
        "colab_type": "text"
      },
      "source": [
        "# **Exportando**\n",
        "Para Exportar primeiro é criado uma tabela com as informações do cliente e a exporta para csv usando o comando *to_csv* do pandas. Após isso faz o mesmo procedimento para as informações da loja."
      ]
    },
    {
      "cell_type": "code",
      "metadata": {
        "id": "9qATUanInsMM",
        "colab_type": "code",
        "colab": {}
      },
      "source": [
        "data_cli = {\n",
        "    'Saldo Clientes Inicial': inicial_clientes_saldo,\n",
        "    'Saldo Clientes Final':final_clientes_saldo,\n",
        "    'Satisfação Clientes Inicial':inicial_clientes_satis,\n",
        "    'Satisfação Clientes Final':final_clientes_satis\n",
        "}\n",
        "df_cli = pd.DataFrame(data_cli, columns=['Saldo Clientes Inicial','Saldo Clientes Final',\n",
        "                                         'Satisfação Clientes Inicial','Satisfação Clientes Final'])\n",
        "df_cli.to_csv(\"csv_cli.csv\")\n",
        "\n",
        "data_loj = {\n",
        "    'Saldo Lojas Inicial': inicial_lojas_saldo,\n",
        "    'Saldo Lojas Final': final_lojas_saldo,\n",
        "    'Satisfação Lojas Inicial': inicial_lojas_satis,\n",
        "    'Satisfação Lojas Final': final_lojas_satis,\n",
        "    'Custo Lojas Inicial':inicial_lojas_produ,\n",
        "    'Custo Lojas Final':final_lojas_produ\n",
        "}\n",
        "\n",
        "df_loj = pd.DataFrame(data_loj, columns=['Saldo Lojas Inicial','Saldo Lojas Final',\n",
        "                                         'Satisfação Lojas Inicial','Satisfação Lojas Final',\n",
        "                                         'Custo Lojas Inicial','Custo Lojas Final'])\n",
        "\n",
        "df_loj.to_csv(\"csv_loj.csv\")"
      ],
      "execution_count": 12,
      "outputs": []
    }
  ]
}